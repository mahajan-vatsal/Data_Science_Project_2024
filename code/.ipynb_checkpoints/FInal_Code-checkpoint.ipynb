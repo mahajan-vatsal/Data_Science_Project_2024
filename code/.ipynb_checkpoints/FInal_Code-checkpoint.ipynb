{
 "cells": [
  {
   "cell_type": "markdown",
   "metadata": {},
   "source": [
    "# Data Science Project"
   ]
  },
  {
   "cell_type": "markdown",
   "metadata": {},
   "source": [
    "We will procced"
   ]
  },
  {
   "cell_type": "code",
   "execution_count": 1,
   "metadata": {},
   "outputs": [
    {
     "name": "stdout",
     "output_type": "stream",
     "text": [
      "Processing file: /Users/vatsal/Desktop/SimplyTag/orgadata-st8.log\n",
      "Processing file: /Users/vatsal/Desktop/SimplyTag/orgadata-st4.log\n",
      "Processing file: /Users/vatsal/Desktop/SimplyTag/orgadata-st5.log\n",
      "Processing file: /Users/vatsal/Desktop/SimplyTag/orgadata-st7.log\n",
      "Processing file: /Users/vatsal/Desktop/SimplyTag/orgadata-st6.log\n",
      "Processing file: /Users/vatsal/Desktop/SimplyTag/orgadata-st2.log\n",
      "Processing file: /Users/vatsal/Desktop/SimplyTag/orgadata-st3.log\n",
      "Processing file: /Users/vatsal/Desktop/SimplyTag/orgadata-st1.log\n",
      "Processing file: /Users/vatsal/Desktop/SimplyTag/orgadata-st0.log\n",
      "All log data successfully merged and saved to /Users/vatsal/Desktop/SimplyTag/merged_logs.csv\n"
     ]
    }
   ],
   "source": [
    "import os\n",
    "import json\n",
    "import pandas as pd\n",
    "\n",
    "# Folder path containing all .log files\n",
    "folder_path = \"/Users/vatsal/Desktop/SimplyTag\"  # Replace with your folder path\n",
    "output_csv_path = \"/Users/vatsal/Desktop/SimplyTag/merged_logs.csv\"\n",
    "\n",
    "# Initialize a list to store JSON data from all files\n",
    "log_data = []\n",
    "\n",
    "# Process each .log file in the folder\n",
    "for file_name in os.listdir(folder_path):\n",
    "    if file_name.endswith(\".log\"):  # Check if the file is a .log file\n",
    "        log_file_path = os.path.join(folder_path, file_name)\n",
    "        print(f\"Processing file: {log_file_path}\")\n",
    "        \n",
    "        # Read the log file line by line\n",
    "        with open(log_file_path, \"r\") as file:\n",
    "            for line in file:\n",
    "                # Find the JSON part of each line\n",
    "                json_start = line.find('{')\n",
    "                if json_start != -1:\n",
    "                    json_data = line[json_start:].strip()\n",
    "                    try:\n",
    "                        # Parse the JSON and append it to the list\n",
    "                        log_data.append(json.loads(json_data))\n",
    "                    except json.JSONDecodeError:\n",
    "                        print(f\"Skipping invalid JSON in file {file_name}: {json_data}\")\n",
    "\n",
    "# Convert the combined list of JSON objects to a DataFrame\n",
    "if log_data:\n",
    "    df = pd.DataFrame(log_data)\n",
    "\n",
    "    # Save the DataFrame to a single CSV file\n",
    "    df.to_csv(output_csv_path, index=False)\n",
    "    print(f\"All log data successfully merged and saved to {output_csv_path}\")\n",
    "else:\n",
    "    print(\"No valid log entries found in the provided files.\")\n"
   ]
  },
  {
   "cell_type": "code",
   "execution_count": 2,
   "metadata": {},
   "outputs": [
    {
     "name": "stdout",
     "output_type": "stream",
     "text": [
      "Index(['Level', 'Timestamp', 'PID', 'Logger', 'Message', 'Scope',\n",
      "       'Application', 'State', 'EventId', 'Exception'],\n",
      "      dtype='object')\n"
     ]
    }
   ],
   "source": [
    "print(df.columns)\n"
   ]
  },
  {
   "cell_type": "code",
   "execution_count": null,
   "metadata": {},
   "outputs": [],
   "source": []
  }
 ],
 "metadata": {
  "kernelspec": {
   "display_name": "Python 3",
   "language": "python",
   "name": "python3"
  },
  "language_info": {
   "codemirror_mode": {
    "name": "ipython",
    "version": 3
   },
   "file_extension": ".py",
   "mimetype": "text/x-python",
   "name": "python",
   "nbconvert_exporter": "python",
   "pygments_lexer": "ipython3",
   "version": "3.8.3"
  }
 },
 "nbformat": 4,
 "nbformat_minor": 4
}
