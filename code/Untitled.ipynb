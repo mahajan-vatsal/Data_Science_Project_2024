{
 "cells": [
  {
   "cell_type": "code",
   "execution_count": 25,
   "metadata": {},
   "outputs": [
    {
     "data": {
      "text/html": [
       "<div>\n",
       "<style scoped>\n",
       "    .dataframe tbody tr th:only-of-type {\n",
       "        vertical-align: middle;\n",
       "    }\n",
       "\n",
       "    .dataframe tbody tr th {\n",
       "        vertical-align: top;\n",
       "    }\n",
       "\n",
       "    .dataframe thead th {\n",
       "        text-align: right;\n",
       "    }\n",
       "</style>\n",
       "<table border=\"1\" class=\"dataframe\">\n",
       "  <thead>\n",
       "    <tr style=\"text-align: right;\">\n",
       "      <th></th>\n",
       "      <th>Trace-id</th>\n",
       "      <th>HTTP Status Code</th>\n",
       "      <th>Path</th>\n",
       "      <th>User Agent</th>\n",
       "    </tr>\n",
       "  </thead>\n",
       "  <tbody>\n",
       "    <tr>\n",
       "      <th>0</th>\n",
       "      <td>00000e83229182560bc00dc08d8d0895</td>\n",
       "      <td>200.0</td>\n",
       "      <td>/api/v1/nodes/08dd0fba-4f8b-4103-8a95-aed37312...</td>\n",
       "      <td>Mozilla/5.0 (Windows NT 10.0; Win64; x64) Appl...</td>\n",
       "    </tr>\n",
       "    <tr>\n",
       "      <th>1</th>\n",
       "      <td>000031b3699810ed3428b70deeab940d</td>\n",
       "      <td>NaN</td>\n",
       "      <td>NaN</td>\n",
       "      <td>NaN</td>\n",
       "    </tr>\n",
       "    <tr>\n",
       "      <th>2</th>\n",
       "      <td>0000ca9c0504724ec0352caf2d927e26</td>\n",
       "      <td>204.0</td>\n",
       "      <td>/api/v1/references/HTTPS:%2F%2FOWDS.ORG%2FAG.K...</td>\n",
       "      <td>Mozilla/5.0 (Linux; Android 14; SM-P620 Build/...</td>\n",
       "    </tr>\n",
       "    <tr>\n",
       "      <th>3</th>\n",
       "      <td>0000d58f79c6040f625be46853e6143f</td>\n",
       "      <td>200.0</td>\n",
       "      <td>/api/v1/references/d5731268-72f8-4350-8b42-d44...</td>\n",
       "      <td>NaN</td>\n",
       "    </tr>\n",
       "    <tr>\n",
       "      <th>4</th>\n",
       "      <td>00011f350751a533919d7355255a613e</td>\n",
       "      <td>NaN</td>\n",
       "      <td>NaN</td>\n",
       "      <td>NaN</td>\n",
       "    </tr>\n",
       "    <tr>\n",
       "      <th>...</th>\n",
       "      <td>...</td>\n",
       "      <td>...</td>\n",
       "      <td>...</td>\n",
       "      <td>...</td>\n",
       "    </tr>\n",
       "    <tr>\n",
       "      <th>217078</th>\n",
       "      <td>b411c30f385101f89919434882b3bde9</td>\n",
       "      <td>200.0</td>\n",
       "      <td>/api/v2/projects/external-id/OFCAS;ddd9d302-6a...</td>\n",
       "      <td>NaN</td>\n",
       "    </tr>\n",
       "    <tr>\n",
       "      <th>217079</th>\n",
       "      <td>cd4553dac4aafcc56d62819cbfab816e</td>\n",
       "      <td>200.0</td>\n",
       "      <td>/api/v2/projects/external-id/OFCAS;37171d69-4a...</td>\n",
       "      <td>NaN</td>\n",
       "    </tr>\n",
       "    <tr>\n",
       "      <th>217080</th>\n",
       "      <td>df940e71c54381bfa93f3194e884481c</td>\n",
       "      <td>200.0</td>\n",
       "      <td>/api/v2/projects/external-id/OFCAS;90584b67-34...</td>\n",
       "      <td>NaN</td>\n",
       "    </tr>\n",
       "    <tr>\n",
       "      <th>217081</th>\n",
       "      <td>ec5da04f183741db4318080fe717785e</td>\n",
       "      <td>200.0</td>\n",
       "      <td>/api/v2/projects/external-id/OFCAS;37171d69-4a...</td>\n",
       "      <td>NaN</td>\n",
       "    </tr>\n",
       "    <tr>\n",
       "      <th>217082</th>\n",
       "      <td>fe453acc90c858ac16deab390423626d</td>\n",
       "      <td>200.0</td>\n",
       "      <td>/api/v2/projects/external-id/OFCAS;ce5480fb-d8...</td>\n",
       "      <td>NaN</td>\n",
       "    </tr>\n",
       "  </tbody>\n",
       "</table>\n",
       "<p>217083 rows × 4 columns</p>\n",
       "</div>"
      ],
      "text/plain": [
       "                                Trace-id  HTTP Status Code  \\\n",
       "0       00000e83229182560bc00dc08d8d0895             200.0   \n",
       "1       000031b3699810ed3428b70deeab940d               NaN   \n",
       "2       0000ca9c0504724ec0352caf2d927e26             204.0   \n",
       "3       0000d58f79c6040f625be46853e6143f             200.0   \n",
       "4       00011f350751a533919d7355255a613e               NaN   \n",
       "...                                  ...               ...   \n",
       "217078  b411c30f385101f89919434882b3bde9             200.0   \n",
       "217079  cd4553dac4aafcc56d62819cbfab816e             200.0   \n",
       "217080  df940e71c54381bfa93f3194e884481c             200.0   \n",
       "217081  ec5da04f183741db4318080fe717785e             200.0   \n",
       "217082  fe453acc90c858ac16deab390423626d             200.0   \n",
       "\n",
       "                                                     Path  \\\n",
       "0       /api/v1/nodes/08dd0fba-4f8b-4103-8a95-aed37312...   \n",
       "1                                                     NaN   \n",
       "2       /api/v1/references/HTTPS:%2F%2FOWDS.ORG%2FAG.K...   \n",
       "3       /api/v1/references/d5731268-72f8-4350-8b42-d44...   \n",
       "4                                                     NaN   \n",
       "...                                                   ...   \n",
       "217078  /api/v2/projects/external-id/OFCAS;ddd9d302-6a...   \n",
       "217079  /api/v2/projects/external-id/OFCAS;37171d69-4a...   \n",
       "217080  /api/v2/projects/external-id/OFCAS;90584b67-34...   \n",
       "217081  /api/v2/projects/external-id/OFCAS;37171d69-4a...   \n",
       "217082  /api/v2/projects/external-id/OFCAS;ce5480fb-d8...   \n",
       "\n",
       "                                               User Agent  \n",
       "0       Mozilla/5.0 (Windows NT 10.0; Win64; x64) Appl...  \n",
       "1                                                     NaN  \n",
       "2       Mozilla/5.0 (Linux; Android 14; SM-P620 Build/...  \n",
       "3                                                     NaN  \n",
       "4                                                     NaN  \n",
       "...                                                   ...  \n",
       "217078                                                NaN  \n",
       "217079                                                NaN  \n",
       "217080                                                NaN  \n",
       "217081                                                NaN  \n",
       "217082                                                NaN  \n",
       "\n",
       "[217083 rows x 4 columns]"
      ]
     },
     "execution_count": 25,
     "metadata": {},
     "output_type": "execute_result"
    }
   ],
   "source": [
    "import pandas as pd\n",
    "\n",
    "\n",
    "file_path = '/Users/vatsal/Desktop/consolidated_trace_data_final.csv'\n",
    "df = pd.read_csv(file_path)\n",
    "df"
   ]
  },
  {
   "cell_type": "code",
   "execution_count": 6,
   "metadata": {},
   "outputs": [
    {
     "name": "stdout",
     "output_type": "stream",
     "text": [
      "Frequency of HTTP Status Codes:\n",
      " 200.0    133227\n",
      "204.0     43987\n",
      "404.0      3835\n",
      "201.0      2990\n",
      "503.0      1784\n",
      "401.0       552\n",
      "0.0          70\n",
      "400.0        37\n",
      "500.0        34\n",
      "202.0        13\n",
      "409.0         8\n",
      "415.0         7\n",
      "301.0         3\n",
      "499.0         2\n",
      "403.0         1\n",
      "Name: HTTP Status Code, dtype: int64\n",
      "\n",
      "Top 10 Frequent Paths:\n",
      " /api/healthz                                                   36748\n",
      "/api/v2/versions                                               35871\n",
      "/api/v1/capabilities                                           10322\n",
      "/api/v1/nodes/root                                              3620\n",
      "/api/v1/oems/69bf8dd4-c21e-45ee-bb8c-a6a2d907989b               2955\n",
      "/api/v1/identities                                              2832\n",
      "/api/v2/assets/08dac0aa-8ed5-4ee8-866f-1c22990e0ef0/nodes       1209\n",
      "/api/v2/nodes/08dac0aa-8ed5-4ee8-866f-1c22990e0ef0/projects     1207\n",
      "/api/v2/nodes/c630c9a3-16de-49e6-bcfe-c34cb5032f34/projects      765\n",
      "/api/v2/assets/c630c9a3-16de-49e6-bcfe-c34cb5032f34/nodes        763\n",
      "Name: Path, dtype: int64\n",
      "\n",
      "Top 10 Frequent User Agents:\n",
      " curl/8.5.0                                                                                                                                                              36748\n",
      "check_http/v2.4.0 (monitoring-plugins 2.4.0)                                                                                                                            35870\n",
      "Mozilla/5.0 (Windows NT 10.0; Win64; x64) AppleWebKit/537.36 (KHTML, like Gecko) Chrome/131.0.0.0 Safari/537.36 Edg/131.0.0.0                                           25895\n",
      "Mozilla/5.0 (Windows NT 10.0; Win64; x64) AppleWebKit/537.36 (KHTML, like Gecko) Chrome/131.0.0.0 Safari/537.36                                                         10012\n",
      "Mozilla/5.0 (Windows NT 10.0; Win64; x64; rv:132.0) Gecko/20100101 Firefox/132.0                                                                                         6514\n",
      "Mozilla/5.0 (Linux; Android 13; SM-P615 Build/TP1A.220624.014; wv) AppleWebKit/537.36 (KHTML, like Gecko) Version/4.0 Chrome/130.0.6723.108 Safari/537.36                5689\n",
      "Mozilla/5.0 (iPhone; CPU iPhone OS 17_4 like Mac OS X) AppleWebKit/605.1.15 (KHTML, like Gecko) Mobile/15E148                                                            5304\n",
      "Mozilla/5.0 (Linux; Android 14; Pixel 6a Build/AP2A.240905.003.F1; wv) AppleWebKit/537.36 (KHTML, like Gecko) Version/4.0 Chrome/130.0.6723.107 Mobile Safari/537.36     3830\n",
      "Mozilla/5.0 (Linux; Android 14; SM-P619 Build/UP1A.231005.007; wv) AppleWebKit/537.36 (KHTML, like Gecko) Version/4.0 Chrome/130.0.6723.108 Safari/537.36                3027\n",
      "Mozilla/5.0 (iPhone; CPU iPhone OS 17_6_1 like Mac OS X) AppleWebKit/605.1.15 (KHTML, like Gecko) Mobile/15E148                                                          2862\n",
      "Name: User Agent, dtype: int64\n"
     ]
    }
   ],
   "source": [
    "# Frequency of HTTP Status Codes\n",
    "http_status_freq = df['HTTP Status Code'].value_counts()\n",
    "print(\"Frequency of HTTP Status Codes:\\n\", http_status_freq)\n",
    "\n",
    "# Frequency of Paths\n",
    "path_freq = df['Path'].value_counts().head(10)  # Show top 10 most frequent paths\n",
    "print(\"\\nTop 10 Frequent Paths:\\n\", path_freq)\n",
    "\n",
    "# Frequency of User Agents\n",
    "user_agent_freq = df['User Agent'].value_counts().head(10)  # Show top 10 user agents\n",
    "print(\"\\nTop 10 Frequent User Agents:\\n\", user_agent_freq)\n"
   ]
  },
  {
   "cell_type": "code",
   "execution_count": 7,
   "metadata": {},
   "outputs": [
    {
     "name": "stdout",
     "output_type": "stream",
     "text": [
      "\n",
      "Sample Grouped Data by Trace-id:\n",
      "                            Trace-id HTTP Status Code  \\\n",
      "0  00000e83229182560bc00dc08d8d0895          [200.0]   \n",
      "1  000031b3699810ed3428b70deeab940d            [nan]   \n",
      "2  0000ca9c0504724ec0352caf2d927e26          [204.0]   \n",
      "3  0000d58f79c6040f625be46853e6143f          [200.0]   \n",
      "4  00011f350751a533919d7355255a613e            [nan]   \n",
      "\n",
      "                                                Path  \\\n",
      "0  [/api/v1/nodes/08dd0fba-4f8b-4103-8a95-aed3731...   \n",
      "1                                              [nan]   \n",
      "2  [/api/v1/references/HTTPS:%2F%2FOWDS.ORG%2FAG....   \n",
      "3  [/api/v1/references/d5731268-72f8-4350-8b42-d4...   \n",
      "4                                              [nan]   \n",
      "\n",
      "                                          User Agent  \n",
      "0  [Mozilla/5.0 (Windows NT 10.0; Win64; x64) App...  \n",
      "1                                              [nan]  \n",
      "2  [Mozilla/5.0 (Linux; Android 14; SM-P620 Build...  \n",
      "3                                              [nan]  \n",
      "4                                              [nan]  \n"
     ]
    }
   ],
   "source": [
    "# Group by Trace-id and aggregate HTTP Status Codes, Paths, and User Agents\n",
    "grouped_data = df.groupby('Trace-id').agg({\n",
    "    'HTTP Status Code': lambda x: list(x.unique()),  # List of unique status codes per trace\n",
    "    'Path': lambda x: list(x.unique()),  # List of unique paths per trace\n",
    "    'User Agent': lambda x: list(x.unique())  # List of unique user agents per trace\n",
    "}).reset_index()\n",
    "\n",
    "print(\"\\nSample Grouped Data by Trace-id:\\n\", grouped_data.head())\n"
   ]
  },
  {
   "cell_type": "code",
   "execution_count": 8,
   "metadata": {},
   "outputs": [
    {
     "name": "stdout",
     "output_type": "stream",
     "text": [
      "\n",
      "Least Common User Agents:\n",
      " Mozilla/5.0 (Fedora; Linux i686) AppleWebKit/537.36 (KHTML, like Gecko) Chrome/127.0.0.0 Safari/537.36                                              1\n",
      "Mozilla/5.0 (Macintosh; Intel Mac OS X 10_15_7) AppleWebKit/537.36 (KHTML, like Gecko) Chrome/115.0.0.0 Safari/537.36                               1\n",
      "Mozilla/5.0 (iPhone; CPU iPhone OS 18_0_0 like Mac OS X) AppleWebKit/605.1.15 (KHTML, like Gecko) CriOS/131.0.6778.73 Mobile/15E148 Safari/604.1    1\n",
      "Mozilla/5.0 (Ubuntu; Linux x86_64; rv:120.0) Gecko/20100101 Firefox/120.0                                                                           1\n",
      "Mozilla/5.0 (Windows NT 6.2; rv:128.0) Gecko/20100101 Firefox/128.0                                                                                 1\n",
      "Mozilla/5.0 (Debian; Linux i686) AppleWebKit/537.36 (KHTML, like Gecko) Chrome/125.0.0.0 Safari/537.36                                              1\n",
      "Mozilla/5.0 (ZZ; Linux x86_64) AppleWebKit/537.36 (KHTML, like Gecko) Chrome/124.0.0.0 Safari/537.36                                                1\n",
      "Mozilla/5.0 (Windows NT 10.0; Win64; x64; rv:95.0) Gecko/20100101 Firefox/95.0                                                                      1\n",
      "Mozilla/5.0 (Macintosh; Intel Mac OS X 11) AppleWebKit/616.16 (KHTML, like Gecko) Version/17.0.90 Safari/616.16                                     1\n",
      "Mozilla/5.0 (X11; CrOS x86_64 14541.0.0) AppleWebKit/537.36 (KHTML, like Gecko) Chrome/126.0.0.0 Safari/537.36                                      1\n",
      "Name: User Agent, dtype: int64\n",
      "\n",
      "Suspicious User Agents:\n",
      " Empty DataFrame\n",
      "Columns: [Trace-id, HTTP Status Code, Path, User Agent]\n",
      "Index: []\n"
     ]
    }
   ],
   "source": [
    "# Filter uncommon or potentially malicious user agents\n",
    "uncommon_user_agents = df['User Agent'].value_counts().tail(10)  # Show least common user agents\n",
    "print(\"\\nLeast Common User Agents:\\n\", uncommon_user_agents)\n",
    "\n",
    "# Check for specific keywords in user agents\n",
    "suspicious_agents = df[df['User Agent'].str.contains('bot|crawl|spider', case=False, na=False)]\n",
    "print(\"\\nSuspicious User Agents:\\n\", suspicious_agents.head())\n"
   ]
  },
  {
   "cell_type": "code",
   "execution_count": 10,
   "metadata": {},
   "outputs": [
    {
     "name": "stdout",
     "output_type": "stream",
     "text": [
      "\n",
      "Statistics of Path Length:\n",
      " count    217083.000000\n",
      "mean         32.033278\n",
      "std          24.651022\n",
      "min           0.000000\n",
      "25%          12.000000\n",
      "50%          18.000000\n",
      "75%          59.000000\n",
      "max          76.000000\n",
      "Name: Path_Length, dtype: float64\n",
      "\n",
      "Outlier Paths Based on Length:\n",
      " Empty DataFrame\n",
      "Columns: [Trace-id, HTTP Status Code, Path, User Agent, Path_Length]\n",
      "Index: []\n"
     ]
    }
   ],
   "source": [
    "# Ensure all values in the Path column are strings and handle NaN values\n",
    "df['Path'] = df['Path'].fillna('').astype(str)\n",
    "\n",
    "# Analyze the length and content of paths\n",
    "df['Path_Length'] = df['Path'].apply(len)  # Calculate path length\n",
    "\n",
    "# Statistics of Path Length\n",
    "path_length_stats = df['Path_Length'].describe()\n",
    "print(\"\\nStatistics of Path Length:\\n\", path_length_stats)\n",
    "\n",
    "# Detect paths with unusual lengths (e.g., extremely long or short)\n",
    "outlier_paths = df[\n",
    "    (df['Path_Length'] > path_length_stats['75%'] + 1.5 * (path_length_stats['75%'] - path_length_stats['25%'])) | \n",
    "    (df['Path_Length'] < path_length_stats['25%'] - 1.5 * (path_length_stats['75%'] - path_length_stats['25%']))\n",
    "]\n",
    "print(\"\\nOutlier Paths Based on Length:\\n\", outlier_paths.head())\n"
   ]
  },
  {
   "cell_type": "code",
   "execution_count": 11,
   "metadata": {},
   "outputs": [
    {
     "data": {
      "image/png": "[encoded data removed]",
      "text/plain": [
       "<Figure size 720x432 with 1 Axes>"
      ]
     },
     "metadata": {
      "needs_background": "light"
     },
     "output_type": "display_data"
    }
   ],
   "source": [
    "import matplotlib.pyplot as plt\n",
    "\n",
    "# Plot HTTP Status Code frequencies\n",
    "http_status_freq.plot(kind='bar', color='skyblue', figsize=(10, 6))\n",
    "plt.title(\"HTTP Status Code Frequency\")\n",
    "plt.xlabel(\"HTTP Status Code\")\n",
    "plt.ylabel(\"Frequency\")\n",
    "plt.show()\n"
   ]
  },
  {
   "cell_type": "code",
   "execution_count": 12,
   "metadata": {},
   "outputs": [
    {
     "data": {
      "image/png": "[encoded data removed]",
      "text/plain": [
       "<Figure size 720x432 with 1 Axes>"
      ]
     },
     "metadata": {
      "needs_background": "light"
     },
     "output_type": "display_data"
    }
   ],
   "source": [
    "# Plot top 10 paths\n",
    "path_freq.plot(kind='bar', color='orange', figsize=(10, 6))\n",
    "plt.title(\"Top 10 Frequent Paths\")\n",
    "plt.xlabel(\"Path\")\n",
    "plt.ylabel(\"Frequency\")\n",
    "plt.show()\n"
   ]
  },
  {
   "cell_type": "code",
   "execution_count": 13,
   "metadata": {},
   "outputs": [
    {
     "data": {
      "image/png": "[encoded data removed]",
      "text/plain": [
       "<Figure size 720x432 with 1 Axes>"
      ]
     },
     "metadata": {
      "needs_background": "light"
     },
     "output_type": "display_data"
    }
   ],
   "source": [
    "# Plot top 10 user agents\n",
    "user_agent_freq.plot(kind='bar', color='green', figsize=(10, 6))\n",
    "plt.title(\"Top 10 User Agents\")\n",
    "plt.xlabel(\"User Agent\")\n",
    "plt.ylabel(\"Frequency\")\n",
    "plt.show()\n"
   ]
  },
  {
   "cell_type": "code",
   "execution_count": 17,
   "metadata": {},
   "outputs": [
    {
     "name": "stdout",
     "output_type": "stream",
     "text": [
      "Suspicious User Agents:\n",
      " Empty DataFrame\n",
      "Columns: [User Agent, Failed Access Count]\n",
      "Index: []\n"
     ]
    }
   ],
   "source": [
    "# Count occurrences of HTTP status codes per User Agent or IP\n",
    "failed_access = df[df['HTTP Status Code'].isin(['404', '403', '500'])]\n",
    "failed_access_summary = failed_access.groupby('User Agent')['HTTP Status Code'].count().reset_index()\n",
    "failed_access_summary.columns = ['User Agent', 'Failed Access Count']\n",
    "\n",
    "# Identify user agents exceeding a threshold\n",
    "threshold = 2  # Set threshold for repeated failures\n",
    "suspicious_agents = failed_access_summary[failed_access_summary['Failed Access Count'] > threshold]\n",
    "print(\"Suspicious User Agents:\\n\", suspicious_agents)\n"
   ]
  },
  {
   "cell_type": "code",
   "execution_count": 18,
   "metadata": {},
   "outputs": [
    {
     "name": "stdout",
     "output_type": "stream",
     "text": [
      "Suspicious Requests with Potential SQL Injection or XSS:\n",
      " Empty DataFrame\n",
      "Columns: [Path, HTTP Status Code]\n",
      "Index: []\n"
     ]
    }
   ],
   "source": [
    "import re\n",
    "\n",
    "# Define suspicious patterns for SQL Injection and XSS\n",
    "sql_xss_patterns = [\n",
    "    r\"(?i)select.*from\",  # SELECT statements\n",
    "    r\"(?i)union.*select\", # UNION SELECT\n",
    "    r\"<script.*?>\",       # XSS script tags\n",
    "    r\"(?i)drop.*table\"    # DROP statements\n",
    "]\n",
    "\n",
    "# Function to detect suspicious patterns in paths\n",
    "def detect_suspicious_patterns(path):\n",
    "    for pattern in sql_xss_patterns:\n",
    "        if re.search(pattern, path):\n",
    "            return True\n",
    "    return False\n",
    "\n",
    "# Apply detection function\n",
    "df['Suspicious Path'] = df['Path'].apply(lambda x: detect_suspicious_patterns(str(x)))\n",
    "suspicious_requests = df[df['Suspicious Path']]\n",
    "print(\"Suspicious Requests with Potential SQL Injection or XSS:\\n\", suspicious_requests[['Path', 'HTTP Status Code']])\n"
   ]
  },
  {
   "cell_type": "code",
   "execution_count": 19,
   "metadata": {},
   "outputs": [
    {
     "name": "stdout",
     "output_type": "stream",
     "text": [
      "Unauthorized Access to Restricted Paths:\n",
      " Empty DataFrame\n",
      "Columns: [Path, User Agent, HTTP Status Code]\n",
      "Index: []\n"
     ]
    }
   ],
   "source": [
    "# Define sensitive paths\n",
    "restricted_paths = ['/admin', '/login', '/config', '/db', '/api/keys']\n",
    "\n",
    "# Check for access to restricted paths\n",
    "df['Access to Restricted'] = df['Path'].apply(lambda x: any(rp in x for rp in restricted_paths))\n",
    "unauthorized_access = df[(df['Access to Restricted']) & (df['HTTP Status Code'] == '200')]\n",
    "print(\"Unauthorized Access to Restricted Paths:\\n\", unauthorized_access[['Path', 'User Agent', 'HTTP Status Code']])\n"
   ]
  },
  {
   "cell_type": "code",
   "execution_count": 22,
   "metadata": {},
   "outputs": [
    {
     "name": "stdout",
     "output_type": "stream",
     "text": [
      "Brute Force Detection Results:\n",
      "                           Trace-id  Brute Force Detected\n",
      "0  00000e83229182560bc00dc08d8d0895                 False\n",
      "1  000031b3699810ed3428b70deeab940d                 False\n",
      "2  0000ca9c0504724ec0352caf2d927e26                 False\n",
      "3  0000d58f79c6040f625be46853e6143f                 False\n",
      "4  00011f350751a533919d7355255a613e                 False\n",
      "'Brute Force Detected' column added successfully.\n",
      "Traces with Potential Brute Force Attempts:\n",
      " Empty DataFrame\n",
      "Columns: [Trace-id, Path]\n",
      "Index: []\n"
     ]
    }
   ],
   "source": [
    "# Group by Trace-id and analyze sequential requests\n",
    "grouped_by_trace = df.groupby('Trace-id')\n",
    "\n",
    "# Define a function to detect repeated attempts\n",
    "def detect_brute_force(group):\n",
    "    if group.empty:\n",
    "        return False\n",
    "    login_attempts = group[group['Path'].str.contains('/login', na=False)]\n",
    "    return len(login_attempts) > 5  # Threshold for brute-force\n",
    "\n",
    "# Apply detection and store results in a new DataFrame\n",
    "brute_force_detected = grouped_by_trace.apply(detect_brute_force).reset_index()\n",
    "brute_force_detected.columns = ['Trace-id', 'Brute Force Detected']\n",
    "\n",
    "# Debug: Print the resulting DataFrame\n",
    "print(\"Brute Force Detection Results:\")\n",
    "print(brute_force_detected.head())\n",
    "\n",
    "# Merge the detection results back into the main DataFrame\n",
    "df = df.merge(brute_force_detected, on='Trace-id', how='left')\n",
    "\n",
    "# Debug: Check if the column is added\n",
    "if 'Brute Force Detected' in df.columns:\n",
    "    print(\"'Brute Force Detected' column added successfully.\")\n",
    "else:\n",
    "    raise KeyError(\"'Brute Force Detected' column was not added to the DataFrame.\")\n",
    "\n",
    "# Filter rows where brute force was detected\n",
    "brute_force_traces = df[df['Brute Force Detected'] == True]\n",
    "\n",
    "# Display results\n",
    "print(\"Traces with Potential Brute Force Attempts:\\n\", brute_force_traces[['Trace-id', 'Path']])\n"
   ]
  },
  {
   "cell_type": "code",
   "execution_count": 23,
   "metadata": {},
   "outputs": [
    {
     "data": {
      "image/png": "[encoded data removed]",
      "text/plain": [
       "<Figure size 432x288 with 1 Axes>"
      ]
     },
     "metadata": {
      "needs_background": "light"
     },
     "output_type": "display_data"
    }
   ],
   "source": [
    "import matplotlib.pyplot as plt\n",
    "\n",
    "# Plot failed access counts\n",
    "failed_access_summary.sort_values('Failed Access Count', ascending=False, inplace=True)\n",
    "plt.bar(failed_access_summary['User Agent'], failed_access_summary['Failed Access Count'])\n",
    "plt.xlabel('User Agent')\n",
    "plt.ylabel('Failed Access Count')\n",
    "plt.title('Failed Access Patterns by User Agent')\n",
    "plt.xticks(rotation=45)\n",
    "plt.tight_layout()\n",
    "plt.show()\n",
    "\n"
   ]
  },
  {
   "cell_type": "code",
   "execution_count": 24,
   "metadata": {},
   "outputs": [
    {
     "ename": "IndexError",
     "evalue": "index 0 is out of bounds for axis 0 with size 0",
     "output_type": "error",
     "traceback": [
      "\u001b[0;31m---------------------------------------------------------------------------\u001b[0m",
      "\u001b[0;31mIndexError\u001b[0m                                Traceback (most recent call last)",
      "\u001b[0;32m<ipython-input-24-396a997d5fda>\u001b[0m in \u001b[0;36m<module>\u001b[0;34m\u001b[0m\n\u001b[1;32m      1\u001b[0m \u001b[0;31m# Bar plot of suspicious paths\u001b[0m\u001b[0;34m\u001b[0m\u001b[0;34m\u001b[0m\u001b[0;34m\u001b[0m\u001b[0m\n\u001b[1;32m      2\u001b[0m \u001b[0msuspicious_path_counts\u001b[0m \u001b[0;34m=\u001b[0m \u001b[0msuspicious_requests\u001b[0m\u001b[0;34m[\u001b[0m\u001b[0;34m'Path'\u001b[0m\u001b[0;34m]\u001b[0m\u001b[0;34m.\u001b[0m\u001b[0mvalue_counts\u001b[0m\u001b[0;34m(\u001b[0m\u001b[0;34m)\u001b[0m\u001b[0;34m\u001b[0m\u001b[0;34m\u001b[0m\u001b[0m\n\u001b[0;32m----> 3\u001b[0;31m \u001b[0msuspicious_path_counts\u001b[0m\u001b[0;34m.\u001b[0m\u001b[0mplot\u001b[0m\u001b[0;34m(\u001b[0m\u001b[0mkind\u001b[0m\u001b[0;34m=\u001b[0m\u001b[0;34m'bar'\u001b[0m\u001b[0;34m,\u001b[0m \u001b[0mcolor\u001b[0m\u001b[0;34m=\u001b[0m\u001b[0;34m'red'\u001b[0m\u001b[0;34m)\u001b[0m\u001b[0;34m\u001b[0m\u001b[0;34m\u001b[0m\u001b[0m\n\u001b[0m\u001b[1;32m      4\u001b[0m \u001b[0mplt\u001b[0m\u001b[0;34m.\u001b[0m\u001b[0mxlabel\u001b[0m\u001b[0;34m(\u001b[0m\u001b[0;34m'Path'\u001b[0m\u001b[0;34m)\u001b[0m\u001b[0;34m\u001b[0m\u001b[0;34m\u001b[0m\u001b[0m\n\u001b[1;32m      5\u001b[0m \u001b[0mplt\u001b[0m\u001b[0;34m.\u001b[0m\u001b[0mylabel\u001b[0m\u001b[0;34m(\u001b[0m\u001b[0;34m'Frequency'\u001b[0m\u001b[0;34m)\u001b[0m\u001b[0;34m\u001b[0m\u001b[0;34m\u001b[0m\u001b[0m\n",
      "\u001b[0;32m~/opt/anaconda3/lib/python3.8/site-packages/pandas/plotting/_core.py\u001b[0m in \u001b[0;36m__call__\u001b[0;34m(self, *args, **kwargs)\u001b[0m\n\u001b[1;32m    953\u001b[0m                     \u001b[0mdata\u001b[0m\u001b[0;34m.\u001b[0m\u001b[0mcolumns\u001b[0m \u001b[0;34m=\u001b[0m \u001b[0mlabel_name\u001b[0m\u001b[0;34m\u001b[0m\u001b[0;34m\u001b[0m\u001b[0m\n\u001b[1;32m    954\u001b[0m \u001b[0;34m\u001b[0m\u001b[0m\n\u001b[0;32m--> 955\u001b[0;31m         \u001b[0;32mreturn\u001b[0m \u001b[0mplot_backend\u001b[0m\u001b[0;34m.\u001b[0m\u001b[0mplot\u001b[0m\u001b[0;34m(\u001b[0m\u001b[0mdata\u001b[0m\u001b[0;34m,\u001b[0m \u001b[0mkind\u001b[0m\u001b[0;34m=\u001b[0m\u001b[0mkind\u001b[0m\u001b[0;34m,\u001b[0m \u001b[0;34m**\u001b[0m\u001b[0mkwargs\u001b[0m\u001b[0;34m)\u001b[0m\u001b[0;34m\u001b[0m\u001b[0;34m\u001b[0m\u001b[0m\n\u001b[0m\u001b[1;32m    956\u001b[0m \u001b[0;34m\u001b[0m\u001b[0m\n\u001b[1;32m    957\u001b[0m     \u001b[0m__call__\u001b[0m\u001b[0;34m.\u001b[0m\u001b[0m__doc__\u001b[0m \u001b[0;34m=\u001b[0m \u001b[0m__doc__\u001b[0m\u001b[0;34m\u001b[0m\u001b[0;34m\u001b[0m\u001b[0m\n",
      "\u001b[0;32m~/opt/anaconda3/lib/python3.8/site-packages/pandas/plotting/_matplotlib/__init__.py\u001b[0m in \u001b[0;36mplot\u001b[0;34m(data, kind, **kwargs)\u001b[0m\n\u001b[1;32m     59\u001b[0m             \u001b[0mkwargs\u001b[0m\u001b[0;34m[\u001b[0m\u001b[0;34m\"ax\"\u001b[0m\u001b[0;34m]\u001b[0m \u001b[0;34m=\u001b[0m \u001b[0mgetattr\u001b[0m\u001b[0;34m(\u001b[0m\u001b[0max\u001b[0m\u001b[0;34m,\u001b[0m \u001b[0;34m\"left_ax\"\u001b[0m\u001b[0;34m,\u001b[0m \u001b[0max\u001b[0m\u001b[0;34m)\u001b[0m\u001b[0;34m\u001b[0m\u001b[0;34m\u001b[0m\u001b[0m\n\u001b[1;32m     60\u001b[0m     \u001b[0mplot_obj\u001b[0m \u001b[0;34m=\u001b[0m \u001b[0mPLOT_CLASSES\u001b[0m\u001b[0;34m[\u001b[0m\u001b[0mkind\u001b[0m\u001b[0;34m]\u001b[0m\u001b[0;34m(\u001b[0m\u001b[0mdata\u001b[0m\u001b[0;34m,\u001b[0m \u001b[0;34m**\u001b[0m\u001b[0mkwargs\u001b[0m\u001b[0;34m)\u001b[0m\u001b[0;34m\u001b[0m\u001b[0;34m\u001b[0m\u001b[0m\n\u001b[0;32m---> 61\u001b[0;31m     \u001b[0mplot_obj\u001b[0m\u001b[0;34m.\u001b[0m\u001b[0mgenerate\u001b[0m\u001b[0;34m(\u001b[0m\u001b[0;34m)\u001b[0m\u001b[0;34m\u001b[0m\u001b[0;34m\u001b[0m\u001b[0m\n\u001b[0m\u001b[1;32m     62\u001b[0m     \u001b[0mplot_obj\u001b[0m\u001b[0;34m.\u001b[0m\u001b[0mdraw\u001b[0m\u001b[0;34m(\u001b[0m\u001b[0;34m)\u001b[0m\u001b[0;34m\u001b[0m\u001b[0;34m\u001b[0m\u001b[0m\n\u001b[1;32m     63\u001b[0m     \u001b[0;32mreturn\u001b[0m \u001b[0mplot_obj\u001b[0m\u001b[0;34m.\u001b[0m\u001b[0mresult\u001b[0m\u001b[0;34m\u001b[0m\u001b[0;34m\u001b[0m\u001b[0m\n",
      "\u001b[0;32m~/opt/anaconda3/lib/python3.8/site-packages/pandas/plotting/_matplotlib/core.py\u001b[0m in \u001b[0;36mgenerate\u001b[0;34m(self)\u001b[0m\n\u001b[1;32m    285\u001b[0m         \u001b[0;32mfor\u001b[0m \u001b[0max\u001b[0m \u001b[0;32min\u001b[0m \u001b[0mself\u001b[0m\u001b[0;34m.\u001b[0m\u001b[0maxes\u001b[0m\u001b[0;34m:\u001b[0m\u001b[0;34m\u001b[0m\u001b[0;34m\u001b[0m\u001b[0m\n\u001b[1;32m    286\u001b[0m             \u001b[0mself\u001b[0m\u001b[0;34m.\u001b[0m\u001b[0m_post_plot_logic_common\u001b[0m\u001b[0;34m(\u001b[0m\u001b[0max\u001b[0m\u001b[0;34m,\u001b[0m \u001b[0mself\u001b[0m\u001b[0;34m.\u001b[0m\u001b[0mdata\u001b[0m\u001b[0;34m)\u001b[0m\u001b[0;34m\u001b[0m\u001b[0;34m\u001b[0m\u001b[0m\n\u001b[0;32m--> 287\u001b[0;31m             \u001b[0mself\u001b[0m\u001b[0;34m.\u001b[0m\u001b[0m_post_plot_logic\u001b[0m\u001b[0;34m(\u001b[0m\u001b[0max\u001b[0m\u001b[0;34m,\u001b[0m \u001b[0mself\u001b[0m\u001b[0;34m.\u001b[0m\u001b[0mdata\u001b[0m\u001b[0;34m)\u001b[0m\u001b[0;34m\u001b[0m\u001b[0;34m\u001b[0m\u001b[0m\n\u001b[0m\u001b[1;32m    288\u001b[0m \u001b[0;34m\u001b[0m\u001b[0m\n\u001b[1;32m    289\u001b[0m     \u001b[0;32mdef\u001b[0m \u001b[0m_args_adjust\u001b[0m\u001b[0;34m(\u001b[0m\u001b[0mself\u001b[0m\u001b[0;34m)\u001b[0m\u001b[0;34m:\u001b[0m\u001b[0;34m\u001b[0m\u001b[0;34m\u001b[0m\u001b[0m\n",
      "\u001b[0;32m~/opt/anaconda3/lib/python3.8/site-packages/pandas/plotting/_matplotlib/core.py\u001b[0m in \u001b[0;36m_post_plot_logic\u001b[0;34m(self, ax, data)\u001b[0m\n\u001b[1;32m   1492\u001b[0m         \u001b[0mname\u001b[0m \u001b[0;34m=\u001b[0m \u001b[0mself\u001b[0m\u001b[0;34m.\u001b[0m\u001b[0m_get_index_name\u001b[0m\u001b[0;34m(\u001b[0m\u001b[0;34m)\u001b[0m\u001b[0;34m\u001b[0m\u001b[0;34m\u001b[0m\u001b[0m\n\u001b[1;32m   1493\u001b[0m \u001b[0;34m\u001b[0m\u001b[0m\n\u001b[0;32m-> 1494\u001b[0;31m         \u001b[0ms_edge\u001b[0m \u001b[0;34m=\u001b[0m \u001b[0mself\u001b[0m\u001b[0;34m.\u001b[0m\u001b[0max_pos\u001b[0m\u001b[0;34m[\u001b[0m\u001b[0;36m0\u001b[0m\u001b[0;34m]\u001b[0m \u001b[0;34m-\u001b[0m \u001b[0;36m0.25\u001b[0m \u001b[0;34m+\u001b[0m \u001b[0mself\u001b[0m\u001b[0;34m.\u001b[0m\u001b[0mlim_offset\u001b[0m\u001b[0;34m\u001b[0m\u001b[0;34m\u001b[0m\u001b[0m\n\u001b[0m\u001b[1;32m   1495\u001b[0m         \u001b[0me_edge\u001b[0m \u001b[0;34m=\u001b[0m \u001b[0mself\u001b[0m\u001b[0;34m.\u001b[0m\u001b[0max_pos\u001b[0m\u001b[0;34m[\u001b[0m\u001b[0;34m-\u001b[0m\u001b[0;36m1\u001b[0m\u001b[0;34m]\u001b[0m \u001b[0;34m+\u001b[0m \u001b[0;36m0.25\u001b[0m \u001b[0;34m+\u001b[0m \u001b[0mself\u001b[0m\u001b[0;34m.\u001b[0m\u001b[0mbar_width\u001b[0m \u001b[0;34m+\u001b[0m \u001b[0mself\u001b[0m\u001b[0;34m.\u001b[0m\u001b[0mlim_offset\u001b[0m\u001b[0;34m\u001b[0m\u001b[0;34m\u001b[0m\u001b[0m\n\u001b[1;32m   1496\u001b[0m \u001b[0;34m\u001b[0m\u001b[0m\n",
      "\u001b[0;31mIndexError\u001b[0m: index 0 is out of bounds for axis 0 with size 0"
     ]
    },
    {
     "data": {
      "image/png": "[encoded data removed]",
      "text/plain": [
       "<Figure size 432x288 with 1 Axes>"
      ]
     },
     "metadata": {
      "needs_background": "light"
     },
     "output_type": "display_data"
    }
   ],
   "source": [
    "# Bar plot of suspicious paths\n",
    "suspicious_path_counts = suspicious_requests['Path'].value_counts()\n",
    "suspicious_path_counts.plot(kind='bar', color='red')\n",
    "plt.xlabel('Path')\n",
    "plt.ylabel('Frequency')\n",
    "plt.title('Suspicious Path Access Frequency')\n",
    "plt.show()\n"
   ]
  },
  {
   "cell_type": "markdown",
   "metadata": {},
   "source": [
    "### Model Implementation\n"
   ]
  },
  {
   "cell_type": "code",
   "execution_count": 26,
   "metadata": {},
   "outputs": [
    {
     "name": "stdout",
     "output_type": "stream",
     "text": [
      "Dataset Head:\n",
      "                            Trace-id  HTTP Status Code  \\\n",
      "0  00000e83229182560bc00dc08d8d0895             200.0   \n",
      "1  000031b3699810ed3428b70deeab940d               NaN   \n",
      "2  0000ca9c0504724ec0352caf2d927e26             204.0   \n",
      "3  0000d58f79c6040f625be46853e6143f             200.0   \n",
      "4  00011f350751a533919d7355255a613e               NaN   \n",
      "\n",
      "                                                Path  \\\n",
      "0  /api/v1/nodes/08dd0fba-4f8b-4103-8a95-aed37312...   \n",
      "1                                                NaN   \n",
      "2  /api/v1/references/HTTPS:%2F%2FOWDS.ORG%2FAG.K...   \n",
      "3  /api/v1/references/d5731268-72f8-4350-8b42-d44...   \n",
      "4                                                NaN   \n",
      "\n",
      "                                          User Agent  \n",
      "0  Mozilla/5.0 (Windows NT 10.0; Win64; x64) Appl...  \n",
      "1                                                NaN  \n",
      "2  Mozilla/5.0 (Linux; Android 14; SM-P620 Build/...  \n",
      "3                                                NaN  \n",
      "4                                                NaN  \n",
      "\n",
      "Missing Values:\n",
      " Trace-id                0\n",
      "HTTP Status Code    30533\n",
      "Path                30391\n",
      "User Agent          37840\n",
      "dtype: int64\n",
      "\n",
      "Dataset Info:\n",
      "<class 'pandas.core.frame.DataFrame'>\n",
      "RangeIndex: 217083 entries, 0 to 217082\n",
      "Data columns (total 4 columns):\n",
      " #   Column            Non-Null Count   Dtype  \n",
      "---  ------            --------------   -----  \n",
      " 0   Trace-id          217083 non-null  object \n",
      " 1   HTTP Status Code  186550 non-null  float64\n",
      " 2   Path              186692 non-null  object \n",
      " 3   User Agent        179243 non-null  object \n",
      "dtypes: float64(1), object(3)\n",
      "memory usage: 6.6+ MB\n",
      "None\n"
     ]
    }
   ],
   "source": [
    "\n",
    "# Display the first few rows\n",
    "print(\"Dataset Head:\\n\", df.head())\n",
    "\n",
    "# Check for missing values\n",
    "print(\"\\nMissing Values:\\n\", df.isnull().sum())\n",
    "\n",
    "# Summary of dataset\n",
    "print(\"\\nDataset Info:\")\n",
    "print(df.info())\n"
   ]
  },
  {
   "cell_type": "code",
   "execution_count": 27,
   "metadata": {},
   "outputs": [],
   "source": [
    "# Fill missing values in categorical columns with 'Unknown'\n",
    "categorical_columns = ['Path', 'User Agent']\n",
    "for col in categorical_columns:\n",
    "    df[col] = df[col].fillna('Unknown')\n",
    "\n",
    "# Fill missing values in numerical columns with 0\n",
    "numerical_columns = ['HTTP Status Code']  # Add more if necessary\n",
    "for col in numerical_columns:\n",
    "    df[col] = df[col].fillna(0)\n"
   ]
  },
  {
   "cell_type": "code",
   "execution_count": 28,
   "metadata": {},
   "outputs": [
    {
     "data": {
      "text/html": [
       "<div>\n",
       "<style scoped>\n",
       "    .dataframe tbody tr th:only-of-type {\n",
       "        vertical-align: middle;\n",
       "    }\n",
       "\n",
       "    .dataframe tbody tr th {\n",
       "        vertical-align: top;\n",
       "    }\n",
       "\n",
       "    .dataframe thead th {\n",
       "        text-align: right;\n",
       "    }\n",
       "</style>\n",
       "<table border=\"1\" class=\"dataframe\">\n",
       "  <thead>\n",
       "    <tr style=\"text-align: right;\">\n",
       "      <th></th>\n",
       "      <th>Trace-id</th>\n",
       "      <th>HTTP Status Code</th>\n",
       "      <th>Path</th>\n",
       "      <th>User Agent</th>\n",
       "    </tr>\n",
       "  </thead>\n",
       "  <tbody>\n",
       "    <tr>\n",
       "      <th>0</th>\n",
       "      <td>00000e83229182560bc00dc08d8d0895</td>\n",
       "      <td>200.0</td>\n",
       "      <td>/api/v1/nodes/08dd0fba-4f8b-4103-8a95-aed37312...</td>\n",
       "      <td>Mozilla/5.0 (Windows NT 10.0; Win64; x64) Appl...</td>\n",
       "    </tr>\n",
       "    <tr>\n",
       "      <th>1</th>\n",
       "      <td>000031b3699810ed3428b70deeab940d</td>\n",
       "      <td>0.0</td>\n",
       "      <td>Unknown</td>\n",
       "      <td>Unknown</td>\n",
       "    </tr>\n",
       "    <tr>\n",
       "      <th>2</th>\n",
       "      <td>0000ca9c0504724ec0352caf2d927e26</td>\n",
       "      <td>204.0</td>\n",
       "      <td>/api/v1/references/HTTPS:%2F%2FOWDS.ORG%2FAG.K...</td>\n",
       "      <td>Mozilla/5.0 (Linux; Android 14; SM-P620 Build/...</td>\n",
       "    </tr>\n",
       "    <tr>\n",
       "      <th>3</th>\n",
       "      <td>0000d58f79c6040f625be46853e6143f</td>\n",
       "      <td>200.0</td>\n",
       "      <td>/api/v1/references/d5731268-72f8-4350-8b42-d44...</td>\n",
       "      <td>Unknown</td>\n",
       "    </tr>\n",
       "    <tr>\n",
       "      <th>4</th>\n",
       "      <td>00011f350751a533919d7355255a613e</td>\n",
       "      <td>0.0</td>\n",
       "      <td>Unknown</td>\n",
       "      <td>Unknown</td>\n",
       "    </tr>\n",
       "    <tr>\n",
       "      <th>...</th>\n",
       "      <td>...</td>\n",
       "      <td>...</td>\n",
       "      <td>...</td>\n",
       "      <td>...</td>\n",
       "    </tr>\n",
       "    <tr>\n",
       "      <th>217078</th>\n",
       "      <td>b411c30f385101f89919434882b3bde9</td>\n",
       "      <td>200.0</td>\n",
       "      <td>/api/v2/projects/external-id/OFCAS;ddd9d302-6a...</td>\n",
       "      <td>Unknown</td>\n",
       "    </tr>\n",
       "    <tr>\n",
       "      <th>217079</th>\n",
       "      <td>cd4553dac4aafcc56d62819cbfab816e</td>\n",
       "      <td>200.0</td>\n",
       "      <td>/api/v2/projects/external-id/OFCAS;37171d69-4a...</td>\n",
       "      <td>Unknown</td>\n",
       "    </tr>\n",
       "    <tr>\n",
       "      <th>217080</th>\n",
       "      <td>df940e71c54381bfa93f3194e884481c</td>\n",
       "      <td>200.0</td>\n",
       "      <td>/api/v2/projects/external-id/OFCAS;90584b67-34...</td>\n",
       "      <td>Unknown</td>\n",
       "    </tr>\n",
       "    <tr>\n",
       "      <th>217081</th>\n",
       "      <td>ec5da04f183741db4318080fe717785e</td>\n",
       "      <td>200.0</td>\n",
       "      <td>/api/v2/projects/external-id/OFCAS;37171d69-4a...</td>\n",
       "      <td>Unknown</td>\n",
       "    </tr>\n",
       "    <tr>\n",
       "      <th>217082</th>\n",
       "      <td>fe453acc90c858ac16deab390423626d</td>\n",
       "      <td>200.0</td>\n",
       "      <td>/api/v2/projects/external-id/OFCAS;ce5480fb-d8...</td>\n",
       "      <td>Unknown</td>\n",
       "    </tr>\n",
       "  </tbody>\n",
       "</table>\n",
       "<p>217083 rows × 4 columns</p>\n",
       "</div>"
      ],
      "text/plain": [
       "                                Trace-id  HTTP Status Code  \\\n",
       "0       00000e83229182560bc00dc08d8d0895             200.0   \n",
       "1       000031b3699810ed3428b70deeab940d               0.0   \n",
       "2       0000ca9c0504724ec0352caf2d927e26             204.0   \n",
       "3       0000d58f79c6040f625be46853e6143f             200.0   \n",
       "4       00011f350751a533919d7355255a613e               0.0   \n",
       "...                                  ...               ...   \n",
       "217078  b411c30f385101f89919434882b3bde9             200.0   \n",
       "217079  cd4553dac4aafcc56d62819cbfab816e             200.0   \n",
       "217080  df940e71c54381bfa93f3194e884481c             200.0   \n",
       "217081  ec5da04f183741db4318080fe717785e             200.0   \n",
       "217082  fe453acc90c858ac16deab390423626d             200.0   \n",
       "\n",
       "                                                     Path  \\\n",
       "0       /api/v1/nodes/08dd0fba-4f8b-4103-8a95-aed37312...   \n",
       "1                                                 Unknown   \n",
       "2       /api/v1/references/HTTPS:%2F%2FOWDS.ORG%2FAG.K...   \n",
       "3       /api/v1/references/d5731268-72f8-4350-8b42-d44...   \n",
       "4                                                 Unknown   \n",
       "...                                                   ...   \n",
       "217078  /api/v2/projects/external-id/OFCAS;ddd9d302-6a...   \n",
       "217079  /api/v2/projects/external-id/OFCAS;37171d69-4a...   \n",
       "217080  /api/v2/projects/external-id/OFCAS;90584b67-34...   \n",
       "217081  /api/v2/projects/external-id/OFCAS;37171d69-4a...   \n",
       "217082  /api/v2/projects/external-id/OFCAS;ce5480fb-d8...   \n",
       "\n",
       "                                               User Agent  \n",
       "0       Mozilla/5.0 (Windows NT 10.0; Win64; x64) Appl...  \n",
       "1                                                 Unknown  \n",
       "2       Mozilla/5.0 (Linux; Android 14; SM-P620 Build/...  \n",
       "3                                                 Unknown  \n",
       "4                                                 Unknown  \n",
       "...                                                   ...  \n",
       "217078                                            Unknown  \n",
       "217079                                            Unknown  \n",
       "217080                                            Unknown  \n",
       "217081                                            Unknown  \n",
       "217082                                            Unknown  \n",
       "\n",
       "[217083 rows x 4 columns]"
      ]
     },
     "execution_count": 28,
     "metadata": {},
     "output_type": "execute_result"
    }
   ],
   "source": [
    "df"
   ]
  },
  {
   "cell_type": "code",
   "execution_count": 29,
   "metadata": {},
   "outputs": [],
   "source": [
    "from sklearn.preprocessing import LabelEncoder\n",
    "\n",
    "# Encode categorical columns\n",
    "for col in categorical_columns:\n",
    "    le = LabelEncoder()\n",
    "    df[col] = le.fit_transform(df[col].astype(str))\n"
   ]
  },
  {
   "cell_type": "code",
   "execution_count": 30,
   "metadata": {},
   "outputs": [
    {
     "name": "stdout",
     "output_type": "stream",
     "text": [
      "Label column is missing!\n"
     ]
    }
   ],
   "source": [
    "if 'Label' in df.columns:\n",
    "    print(\"Label column exists.\")\n",
    "    print(df['Label'].value_counts())  # Check the distribution of labels\n",
    "else:\n",
    "    print(\"Label column is missing!\")\n"
   ]
  },
  {
   "cell_type": "code",
   "execution_count": 31,
   "metadata": {},
   "outputs": [],
   "source": [
    "# Define a function to assign labels\n",
    "def assign_label(http_status):\n",
    "    if http_status in [404, 403, 500]:\n",
    "        return 1  # Malicious\n",
    "    else:\n",
    "        return 0  # Benign\n",
    "\n",
    "# Apply the function to create a Label column\n",
    "df['Label'] = df['HTTP Status Code'].apply(assign_label)\n"
   ]
  },
  {
   "cell_type": "code",
   "execution_count": 32,
   "metadata": {},
   "outputs": [
    {
     "data": {
      "image/png": "[encoded data removed]",
      "text/plain": [
       "<Figure size 432x288 with 1 Axes>"
      ]
     },
     "metadata": {
      "needs_background": "light"
     },
     "output_type": "display_data"
    }
   ],
   "source": [
    "import matplotlib.pyplot as plt\n",
    "\n",
    "# Visualize the distribution of HTTP status codes\n",
    "plt.hist(df['HTTP Status Code'], bins=20, edgecolor='k')\n",
    "plt.xlabel('HTTP Status Code')\n",
    "plt.ylabel('Frequency')\n",
    "plt.title('HTTP Status Code Distribution')\n",
    "plt.show()\n"
   ]
  },
  {
   "cell_type": "code",
   "execution_count": 33,
   "metadata": {},
   "outputs": [
    {
     "name": "stdout",
     "output_type": "stream",
     "text": [
      "0    213213\n",
      "1      3870\n",
      "Name: Label, dtype: int64\n",
      "0    213213\n",
      "1    213213\n",
      "Name: Label, dtype: int64\n"
     ]
    }
   ],
   "source": [
    "from sklearn.utils import resample\n",
    "\n",
    "# Check class distribution\n",
    "print(df['Label'].value_counts())\n",
    "\n",
    "# Optionally balance the classes (if necessary)\n",
    "df_majority = df[df['Label'] == 0]\n",
    "df_minority = df[df['Label'] == 1]\n",
    "\n",
    "# Upsample minority class\n",
    "df_minority_upsampled = resample(df_minority,\n",
    "                                 replace=True,\n",
    "                                 n_samples=len(df_majority),\n",
    "                                 random_state=42)\n",
    "\n",
    "# Combine majority and upsampled minority classes\n",
    "df_balanced = pd.concat([df_majority, df_minority_upsampled])\n",
    "\n",
    "print(df_balanced['Label'].value_counts())\n"
   ]
  },
  {
   "cell_type": "markdown",
   "metadata": {},
   "source": [
    "# Using Clustering to Create Labels"
   ]
  },
  {
   "cell_type": "code",
   "execution_count": 37,
   "metadata": {},
   "outputs": [],
   "source": [
    "from sklearn.preprocessing import StandardScaler\n",
    "from sklearn.cluster import KMeans\n",
    "\n",
    "df['Path'] = df['Path'].fillna('').astype(str)\n",
    "\n",
    "df['Path_Length'] = df['Path'].str.len()\n",
    "df['Request_Frequency'] = df.groupby('Trace-id')['Trace-id'].transform('count')\n",
    "\n",
    "\n",
    "\n",
    "# Select features for clustering\n",
    "features = df[['HTTP Status Code', 'Path_Length', 'Request_Frequency']]\n",
    "\n",
    "# Normalize the features\n",
    "scaler = StandardScaler()\n",
    "normalized_features = scaler.fit_transform(features)\n"
   ]
  },
  {
   "cell_type": "code",
   "execution_count": 38,
   "metadata": {},
   "outputs": [],
   "source": [
    "# Apply K-Means clustering\n",
    "kmeans = KMeans(n_clusters=2, random_state=42)\n",
    "df['Cluster'] = kmeans.fit_predict(normalized_features)\n"
   ]
  },
  {
   "cell_type": "code",
   "execution_count": 39,
   "metadata": {},
   "outputs": [
    {
     "name": "stdout",
     "output_type": "stream",
     "text": [
      "         HTTP Status Code  User Agent     Label  Path_Length  \\\n",
      "Cluster                                                        \n",
      "0              179.141749  142.292119  0.017491     4.004345   \n",
      "1              261.613725  163.066667  0.160784     2.970588   \n",
      "\n",
      "         Request_Frequency  \n",
      "Cluster                     \n",
      "0                 1.000000  \n",
      "1                 2.058824  \n"
     ]
    }
   ],
   "source": [
    "print(df.groupby('Cluster').mean())  # Summary statistics by cluster\n",
    "\n"
   ]
  },
  {
   "cell_type": "code",
   "execution_count": 40,
   "metadata": {},
   "outputs": [],
   "source": [
    "df['Label'] = df['Cluster'].map({0: 0, 1: 1})  # Example mapping\n"
   ]
  },
  {
   "cell_type": "code",
   "execution_count": 44,
   "metadata": {},
   "outputs": [
    {
     "name": "stdout",
     "output_type": "stream",
     "text": [
      "\n",
      "Feature Sample:\n",
      "    HTTP Status Code   Path  User Agent\n",
      "0             200.0   5034         112\n",
      "1               0.0  11593         185\n",
      "2             204.0   8500          53\n",
      "3             200.0   9350         185\n",
      "4               0.0  11593         185\n",
      "\n",
      "Labels Sample:\n",
      " 0    0\n",
      "1    0\n",
      "2    0\n",
      "3    0\n",
      "4    0\n",
      "Name: Label, dtype: int64\n"
     ]
    }
   ],
   "source": [
    "# Select features and labels\n",
    "features = ['HTTP Status Code', 'Path', 'User Agent']  # Include other relevant columns if needed\n",
    "X = df[features]\n",
    "y = df['Label']\n",
    "\n",
    "print(\"\\nFeature Sample:\\n\", X.head())\n",
    "print(\"\\nLabels Sample:\\n\", y.head())\n"
   ]
  },
  {
   "cell_type": "code",
   "execution_count": 45,
   "metadata": {},
   "outputs": [],
   "source": [
    "import pandas as pd\n",
    "import numpy as np\n",
    "from sklearn.model_selection import train_test_split\n",
    "from sklearn.ensemble import RandomForestClassifier\n",
    "from sklearn.metrics import classification_report, confusion_matrix, accuracy_score\n",
    "from sklearn.preprocessing import LabelEncoder\n"
   ]
  },
  {
   "cell_type": "markdown",
   "metadata": {},
   "source": [
    "# Data Preprocessing Implementation\n"
   ]
  },
  {
   "cell_type": "code",
   "execution_count": 47,
   "metadata": {},
   "outputs": [],
   "source": [
    "# Encode categorical columns\n",
    "categorical_columns = ['Path', 'User Agent']\n",
    "for col in categorical_columns:\n",
    "    le = LabelEncoder()\n",
    "    df[col] = le.fit_transform(df[col].astype(str))\n",
    "\n",
    "# Select features and labels\n",
    "features = df[['HTTP Status Code', 'Path', 'User Agent']]  # Add more relevant columns if needed\n",
    "labels = df['Label']  # Assuming 'Label' column is present\n",
    "\n",
    "# Split the data into training and testing sets\n",
    "X_train, X_test, y_train, y_test = train_test_split(features, labels, test_size=0.3, random_state=42)"
   ]
  },
  {
   "cell_type": "code",
   "execution_count": 48,
   "metadata": {},
   "outputs": [],
   "source": [
    "# Initialize the Random Forest Classifier\n",
    "rf_model = RandomForestClassifier(n_estimators=100, random_state=42)\n",
    "\n",
    "# Train the model\n",
    "rf_model.fit(X_train, y_train)\n",
    "\n",
    "# Make predictions\n",
    "y_pred = rf_model.predict(X_test)\n"
   ]
  },
  {
   "cell_type": "code",
   "execution_count": 49,
   "metadata": {},
   "outputs": [
    {
     "name": "stdout",
     "output_type": "stream",
     "text": [
      "Confusion Matrix:\n",
      " [[64956     4]\n",
      " [   34   131]]\n",
      "\n",
      "Classification Report:\n",
      "               precision    recall  f1-score   support\n",
      "\n",
      "           0       1.00      1.00      1.00     64960\n",
      "           1       0.97      0.79      0.87       165\n",
      "\n",
      "    accuracy                           1.00     65125\n",
      "   macro avg       0.98      0.90      0.94     65125\n",
      "weighted avg       1.00      1.00      1.00     65125\n",
      "\n",
      "\n",
      "Accuracy Score:\n",
      " 0.9994165067178503\n",
      "\n",
      "Feature Importances:\n",
      "HTTP Status Code: 0.1156\n",
      "Path: 0.7509\n",
      "User Agent: 0.1334\n"
     ]
    }
   ],
   "source": [
    "# Evaluate the model\n",
    "print(\"Confusion Matrix:\\n\", confusion_matrix(y_test, y_pred))\n",
    "print(\"\\nClassification Report:\\n\", classification_report(y_test, y_pred))\n",
    "print(\"\\nAccuracy Score:\\n\", accuracy_score(y_test, y_pred))\n",
    "\n",
    "# Feature importance\n",
    "importances = rf_model.feature_importances_\n",
    "feature_names = features.columns\n",
    "print(\"\\nFeature Importances:\")\n",
    "for name, importance in zip(feature_names, importances):\n",
    "    print(f\"{name}: {importance:.4f}\")\n"
   ]
  },
  {
   "cell_type": "code",
   "execution_count": 52,
   "metadata": {},
   "outputs": [
    {
     "name": "stdout",
     "output_type": "stream",
     "text": [
      "Cluster labels added and saved to /Users/vatsal/Desktop/consolidated_trace_data_with_clusters.csv\n"
     ]
    }
   ],
   "source": [
    "\n",
    "\n",
    "# Select relevant features for clustering (modify columns as needed)\n",
    "clustering_features = df[['HTTP Status Code', 'Path', 'User Agent']].copy()\n",
    "\n",
    "# Ensure features are numeric (encode categorical if not already done)\n",
    "clustering_features['Path'] = clustering_features['Path'].astype(str)\n",
    "clustering_features['User Agent'] = clustering_features['User Agent'].astype(str)\n",
    "\n",
    "# Encode categorical features (if not done earlier)\n",
    "from sklearn.preprocessing import LabelEncoder\n",
    "le_path = LabelEncoder()\n",
    "le_user_agent = LabelEncoder()\n",
    "clustering_features['Path'] = le_path.fit_transform(clustering_features['Path'])\n",
    "clustering_features['User Agent'] = le_user_agent.fit_transform(clustering_features['User Agent'])\n",
    "\n",
    "# Apply K-Means Clustering\n",
    "kmeans = KMeans(n_clusters=3, random_state=42)  # Adjust n_clusters as needed\n",
    "df['Cluster_Labels'] = kmeans.fit_predict(clustering_features)\n",
    "\n",
    "# Save the updated dataset\n",
    "output_file = \"/Users/vatsal/Desktop/consolidated_trace_data_with_clusters.csv\"\n",
    "df.to_csv(output_file, index=False)\n",
    "print(f\"Cluster labels added and saved to {output_file}\")\n"
   ]
  },
  {
   "cell_type": "code",
   "execution_count": 53,
   "metadata": {},
   "outputs": [
    {
     "name": "stdout",
     "output_type": "stream",
     "text": [
      "Training Data Shape: (151958, 4)\n",
      "Testing Data Shape: (65125, 4)\n"
     ]
    }
   ],
   "source": [
    "import pandas as pd\n",
    "from sklearn.model_selection import train_test_split\n",
    "from sklearn.preprocessing import LabelEncoder\n",
    "\n",
    "# Step 1: Load the dataset\n",
    "file_path = \"/Users/vatsal/Desktop/consolidated_trace_data_with_clusters.csv\"  # Path to your transformed dataset\n",
    "df = pd.read_csv(file_path)\n",
    "\n",
    "# Ensure the K-Means clustering labels are present\n",
    "if 'Cluster_Labels' not in df.columns:\n",
    "    raise ValueError(\"K-Means cluster labels are not present in the dataset. Ensure clustering is completed.\")\n",
    "\n",
    "# Step 2: Encode categorical variables\n",
    "categorical_columns = ['Path', 'User Agent']  # Update with relevant categorical columns\n",
    "label_encoders = {}  # To store encoders for inverse transformation if needed\n",
    "\n",
    "for col in categorical_columns:\n",
    "    le = LabelEncoder()\n",
    "    df[col] = le.fit_transform(df[col].astype(str))\n",
    "    label_encoders[col] = le\n",
    "\n",
    "# Step 3: Prepare features\n",
    "# Combine K-Means cluster labels as an additional feature\n",
    "df['Cluster_Labels'] = df['Cluster_Labels'].astype(int)  # Ensure labels are integers\n",
    "\n",
    "features = df[['HTTP Status Code', 'Path', 'User Agent', 'Cluster_Labels']]  # Add more columns if needed\n",
    "\n",
    "# Step 4: Define the label column (ensure it's available in the dataset)\n",
    "if 'Label' not in df.columns:\n",
    "    raise ValueError(\"No 'Label' column found in the dataset. Add labels for classification (1: malicious, 0: benign).\")\n",
    "\n",
    "labels = df['Label']\n",
    "\n",
    "# Step 5: Split data into training and testing sets\n",
    "X_train, X_test, y_train, y_test = train_test_split(features, labels, test_size=0.3, random_state=42)\n",
    "\n",
    "# Display shapes to verify\n",
    "print(\"Training Data Shape:\", X_train.shape)\n",
    "print(\"Testing Data Shape:\", X_test.shape)\n"
   ]
  },
  {
   "cell_type": "code",
   "execution_count": 54,
   "metadata": {},
   "outputs": [],
   "source": [
    "# Initialize the Random Forest Classifier\n",
    "rf_model = RandomForestClassifier(n_estimators=100, random_state=42)\n",
    "\n",
    "# Train the model\n",
    "rf_model.fit(X_train, y_train)\n",
    "\n",
    "# Make predictions\n",
    "y_pred = rf_model.predict(X_test)\n"
   ]
  },
  {
   "cell_type": "code",
   "execution_count": 55,
   "metadata": {},
   "outputs": [
    {
     "name": "stdout",
     "output_type": "stream",
     "text": [
      "Confusion Matrix:\n",
      " [[64952     8]\n",
      " [   35   130]]\n",
      "\n",
      "Classification Report:\n",
      "               precision    recall  f1-score   support\n",
      "\n",
      "           0       1.00      1.00      1.00     64960\n",
      "           1       0.94      0.79      0.86       165\n",
      "\n",
      "    accuracy                           1.00     65125\n",
      "   macro avg       0.97      0.89      0.93     65125\n",
      "weighted avg       1.00      1.00      1.00     65125\n",
      "\n",
      "\n",
      "Accuracy Score:\n",
      " 0.9993397312859885\n",
      "\n",
      "Feature Importances:\n",
      "HTTP Status Code: 0.1187\n",
      "Path: 0.7473\n",
      "User Agent: 0.1152\n",
      "Cluster_Labels: 0.0188\n"
     ]
    }
   ],
   "source": [
    "# Evaluate the model\n",
    "print(\"Confusion Matrix:\\n\", confusion_matrix(y_test, y_pred))\n",
    "print(\"\\nClassification Report:\\n\", classification_report(y_test, y_pred))\n",
    "print(\"\\nAccuracy Score:\\n\", accuracy_score(y_test, y_pred))\n",
    "\n",
    "# Feature importance\n",
    "importances = rf_model.feature_importances_\n",
    "feature_names = features.columns\n",
    "print(\"\\nFeature Importances:\")\n",
    "for name, importance in zip(feature_names, importances):\n",
    "    print(f\"{name}: {importance:.4f}\")\n"
   ]
  },
  {
   "cell_type": "code",
   "execution_count": null,
   "metadata": {},
   "outputs": [],
   "source": []
  }
 ],
 "metadata": {
  "kernelspec": {
   "display_name": "Python 3",
   "language": "python",
   "name": "python3"
  },
  "language_info": {
   "codemirror_mode": {
    "name": "ipython",
    "version": 3
   },
   "file_extension": ".py",
   "mimetype": "text/x-python",
   "name": "python",
   "nbconvert_exporter": "python",
   "pygments_lexer": "ipython3",
   "version": "3.8.3"
  }
 },
 "nbformat": 4,
 "nbformat_minor": 4
}
