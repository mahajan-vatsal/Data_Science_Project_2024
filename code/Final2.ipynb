{
 "cells": [
  {
   "cell_type": "code",
   "execution_count": 1,
   "metadata": {
    "scrolled": false
   },
   "outputs": [
    {
     "name": "stderr",
     "output_type": "stream",
     "text": [
      "/Users/vatsal/opt/anaconda3/lib/python3.8/site-packages/pandas/core/computation/expressions.py:20: UserWarning: Pandas requires version '2.7.3' or newer of 'numexpr' (version '2.7.1' currently installed).\n",
      "  from pandas.core.computation.check import NUMEXPR_INSTALLED\n"
     ]
    },
    {
     "data": {
      "text/html": [
       "<div>\n",
       "<style scoped>\n",
       "    .dataframe tbody tr th:only-of-type {\n",
       "        vertical-align: middle;\n",
       "    }\n",
       "\n",
       "    .dataframe tbody tr th {\n",
       "        vertical-align: top;\n",
       "    }\n",
       "\n",
       "    .dataframe thead th {\n",
       "        text-align: right;\n",
       "    }\n",
       "</style>\n",
       "<table border=\"1\" class=\"dataframe\">\n",
       "  <thead>\n",
       "    <tr style=\"text-align: right;\">\n",
       "      <th></th>\n",
       "      <th>Trace-id</th>\n",
       "      <th>HTTP Status Code</th>\n",
       "      <th>Path</th>\n",
       "      <th>User Agent</th>\n",
       "    </tr>\n",
       "  </thead>\n",
       "  <tbody>\n",
       "    <tr>\n",
       "      <th>0</th>\n",
       "      <td>00000e83229182560bc00dc08d8d0895</td>\n",
       "      <td>200.0</td>\n",
       "      <td>/api/v1/nodes/08dd0fba-4f8b-4103-8a95-aed37312...</td>\n",
       "      <td>Mozilla/5.0 (Windows NT 10.0; Win64; x64) Appl...</td>\n",
       "    </tr>\n",
       "    <tr>\n",
       "      <th>1</th>\n",
       "      <td>0000ca9c0504724ec0352caf2d927e26</td>\n",
       "      <td>204.0</td>\n",
       "      <td>/api/v1/references/HTTPS:%2F%2FOWDS.ORG%2FAG.K...</td>\n",
       "      <td>Mozilla/5.0 (Linux; Android 14; SM-P620 Build/...</td>\n",
       "    </tr>\n",
       "    <tr>\n",
       "      <th>2</th>\n",
       "      <td>0000d58f79c6040f625be46853e6143f</td>\n",
       "      <td>200.0</td>\n",
       "      <td>/api/v1/references/d5731268-72f8-4350-8b42-d44...</td>\n",
       "      <td>NaN</td>\n",
       "    </tr>\n",
       "    <tr>\n",
       "      <th>3</th>\n",
       "      <td>0001693fd167addef160ab0dddfb31d8</td>\n",
       "      <td>200.0</td>\n",
       "      <td>/api/v1/services/8054f549-6c59-4191-afb3-d31ef...</td>\n",
       "      <td>Mozilla/5.0 (Linux; Android 10; K) AppleWebKit...</td>\n",
       "    </tr>\n",
       "    <tr>\n",
       "      <th>4</th>\n",
       "      <td>0001c4d4a65e06934a9e38f0f71b6496</td>\n",
       "      <td>204.0</td>\n",
       "      <td>/api/v2/nodes/ebf9e23b-3b78-4c30-9dab-cf963fb0...</td>\n",
       "      <td>Mozilla/5.0 (Linux; Android 14; SM-S911B Build...</td>\n",
       "    </tr>\n",
       "    <tr>\n",
       "      <th>...</th>\n",
       "      <td>...</td>\n",
       "      <td>...</td>\n",
       "      <td>...</td>\n",
       "      <td>...</td>\n",
       "    </tr>\n",
       "    <tr>\n",
       "      <th>186687</th>\n",
       "      <td>b411c30f385101f89919434882b3bde9</td>\n",
       "      <td>200.0</td>\n",
       "      <td>/api/v2/projects/external-id/OFCAS;ddd9d302-6a...</td>\n",
       "      <td>NaN</td>\n",
       "    </tr>\n",
       "    <tr>\n",
       "      <th>186688</th>\n",
       "      <td>cd4553dac4aafcc56d62819cbfab816e</td>\n",
       "      <td>200.0</td>\n",
       "      <td>/api/v2/projects/external-id/OFCAS;37171d69-4a...</td>\n",
       "      <td>NaN</td>\n",
       "    </tr>\n",
       "    <tr>\n",
       "      <th>186689</th>\n",
       "      <td>df940e71c54381bfa93f3194e884481c</td>\n",
       "      <td>200.0</td>\n",
       "      <td>/api/v2/projects/external-id/OFCAS;90584b67-34...</td>\n",
       "      <td>NaN</td>\n",
       "    </tr>\n",
       "    <tr>\n",
       "      <th>186690</th>\n",
       "      <td>ec5da04f183741db4318080fe717785e</td>\n",
       "      <td>200.0</td>\n",
       "      <td>/api/v2/projects/external-id/OFCAS;37171d69-4a...</td>\n",
       "      <td>NaN</td>\n",
       "    </tr>\n",
       "    <tr>\n",
       "      <th>186691</th>\n",
       "      <td>fe453acc90c858ac16deab390423626d</td>\n",
       "      <td>200.0</td>\n",
       "      <td>/api/v2/projects/external-id/OFCAS;ce5480fb-d8...</td>\n",
       "      <td>NaN</td>\n",
       "    </tr>\n",
       "  </tbody>\n",
       "</table>\n",
       "<p>186692 rows × 4 columns</p>\n",
       "</div>"
      ],
      "text/plain": [
       "                                Trace-id  HTTP Status Code  \\\n",
       "0       00000e83229182560bc00dc08d8d0895             200.0   \n",
       "1       0000ca9c0504724ec0352caf2d927e26             204.0   \n",
       "2       0000d58f79c6040f625be46853e6143f             200.0   \n",
       "3       0001693fd167addef160ab0dddfb31d8             200.0   \n",
       "4       0001c4d4a65e06934a9e38f0f71b6496             204.0   \n",
       "...                                  ...               ...   \n",
       "186687  b411c30f385101f89919434882b3bde9             200.0   \n",
       "186688  cd4553dac4aafcc56d62819cbfab816e             200.0   \n",
       "186689  df940e71c54381bfa93f3194e884481c             200.0   \n",
       "186690  ec5da04f183741db4318080fe717785e             200.0   \n",
       "186691  fe453acc90c858ac16deab390423626d             200.0   \n",
       "\n",
       "                                                     Path  \\\n",
       "0       /api/v1/nodes/08dd0fba-4f8b-4103-8a95-aed37312...   \n",
       "1       /api/v1/references/HTTPS:%2F%2FOWDS.ORG%2FAG.K...   \n",
       "2       /api/v1/references/d5731268-72f8-4350-8b42-d44...   \n",
       "3       /api/v1/services/8054f549-6c59-4191-afb3-d31ef...   \n",
       "4       /api/v2/nodes/ebf9e23b-3b78-4c30-9dab-cf963fb0...   \n",
       "...                                                   ...   \n",
       "186687  /api/v2/projects/external-id/OFCAS;ddd9d302-6a...   \n",
       "186688  /api/v2/projects/external-id/OFCAS;37171d69-4a...   \n",
       "186689  /api/v2/projects/external-id/OFCAS;90584b67-34...   \n",
       "186690  /api/v2/projects/external-id/OFCAS;37171d69-4a...   \n",
       "186691  /api/v2/projects/external-id/OFCAS;ce5480fb-d8...   \n",
       "\n",
       "                                               User Agent  \n",
       "0       Mozilla/5.0 (Windows NT 10.0; Win64; x64) Appl...  \n",
       "1       Mozilla/5.0 (Linux; Android 14; SM-P620 Build/...  \n",
       "2                                                     NaN  \n",
       "3       Mozilla/5.0 (Linux; Android 10; K) AppleWebKit...  \n",
       "4       Mozilla/5.0 (Linux; Android 14; SM-S911B Build...  \n",
       "...                                                   ...  \n",
       "186687                                                NaN  \n",
       "186688                                                NaN  \n",
       "186689                                                NaN  \n",
       "186690                                                NaN  \n",
       "186691                                                NaN  \n",
       "\n",
       "[186692 rows x 4 columns]"
      ]
     },
     "execution_count": 1,
     "metadata": {},
     "output_type": "execute_result"
    }
   ],
   "source": [
    "import pandas as pd\n",
    "\n",
    "\n",
    "file_path = '/Users/vatsal/Desktop/consolidated_trace_data_final2.csv'\n",
    "df = pd.read_csv(file_path)\n",
    "df"
   ]
  },
  {
   "cell_type": "code",
   "execution_count": 3,
   "metadata": {},
   "outputs": [
    {
     "data": {
      "text/plain": [
       "(count    186531.000000\n",
       " mean        208.688556\n",
       " std          42.729917\n",
       " min           0.000000\n",
       " 25%         200.000000\n",
       " 50%         200.000000\n",
       " 75%         204.000000\n",
       " max         503.000000\n",
       " Name: HTTP Status Code, dtype: float64,\n",
       " 200.0    133209\n",
       " 204.0     43986\n",
       " 404.0      3835\n",
       " 201.0      2990\n",
       " 503.0      1784\n",
       " Name: HTTP Status Code, dtype: int64)"
      ]
     },
     "execution_count": 3,
     "metadata": {},
     "output_type": "execute_result"
    }
   ],
   "source": [
    "# Statistical summary for numerical columns and value counts for HTTP Status Code\n",
    "http_status_summary = df['HTTP Status Code'].describe()\n",
    "http_status_distribution = df['HTTP Status Code'].value_counts()\n",
    "\n",
    "http_status_summary, http_status_distribution.head()\n"
   ]
  },
  {
   "cell_type": "code",
   "execution_count": 4,
   "metadata": {},
   "outputs": [
    {
     "data": {
      "text/plain": [
       "(/api/healthz                                                   36748\n",
       " /api/v2/versions                                               35871\n",
       " /api/v1/capabilities                                           10322\n",
       " /api/v1/nodes/root                                              3620\n",
       " /api/v1/oems/69bf8dd4-c21e-45ee-bb8c-a6a2d907989b               2955\n",
       " /api/v1/identities                                              2832\n",
       " /api/v2/assets/08dac0aa-8ed5-4ee8-866f-1c22990e0ef0/nodes       1209\n",
       " /api/v2/nodes/08dac0aa-8ed5-4ee8-866f-1c22990e0ef0/projects     1207\n",
       " /api/v2/nodes/c630c9a3-16de-49e6-bcfe-c34cb5032f34/projects      765\n",
       " /api/v2/assets/c630c9a3-16de-49e6-bcfe-c34cb5032f34/nodes        763\n",
       " Name: Path, dtype: int64,\n",
       " curl/8.5.0                                                                                                                                                              36748\n",
       " check_http/v2.4.0 (monitoring-plugins 2.4.0)                                                                                                                            35870\n",
       " Mozilla/5.0 (Windows NT 10.0; Win64; x64) AppleWebKit/537.36 (KHTML, like Gecko) Chrome/131.0.0.0 Safari/537.36 Edg/131.0.0.0                                           25895\n",
       " Mozilla/5.0 (Windows NT 10.0; Win64; x64) AppleWebKit/537.36 (KHTML, like Gecko) Chrome/131.0.0.0 Safari/537.36                                                         10012\n",
       " Mozilla/5.0 (Windows NT 10.0; Win64; x64; rv:132.0) Gecko/20100101 Firefox/132.0                                                                                         6514\n",
       " Mozilla/5.0 (Linux; Android 13; SM-P615 Build/TP1A.220624.014; wv) AppleWebKit/537.36 (KHTML, like Gecko) Version/4.0 Chrome/130.0.6723.108 Safari/537.36                5689\n",
       " Mozilla/5.0 (iPhone; CPU iPhone OS 17_4 like Mac OS X) AppleWebKit/605.1.15 (KHTML, like Gecko) Mobile/15E148                                                            5304\n",
       " Mozilla/5.0 (Linux; Android 14; Pixel 6a Build/AP2A.240905.003.F1; wv) AppleWebKit/537.36 (KHTML, like Gecko) Version/4.0 Chrome/130.0.6723.107 Mobile Safari/537.36     3830\n",
       " Mozilla/5.0 (Linux; Android 14; SM-P619 Build/UP1A.231005.007; wv) AppleWebKit/537.36 (KHTML, like Gecko) Version/4.0 Chrome/130.0.6723.108 Safari/537.36                3027\n",
       " Mozilla/5.0 (iPhone; CPU iPhone OS 17_6_1 like Mac OS X) AppleWebKit/605.1.15 (KHTML, like Gecko) Mobile/15E148                                                          2862\n",
       " Name: User Agent, dtype: int64)"
      ]
     },
     "execution_count": 4,
     "metadata": {},
     "output_type": "execute_result"
    }
   ],
   "source": [
    "# Analyze the most and least frequent paths and user agents\n",
    "path_distribution = df['Path'].value_counts().head(10)\n",
    "user_agent_distribution = df['User Agent'].value_counts().head(10)\n",
    "\n",
    "# Display the most frequent paths and user agents\n",
    "path_distribution, user_agent_distribution\n"
   ]
  },
  {
   "cell_type": "code",
   "execution_count": 6,
   "metadata": {},
   "outputs": [
    {
     "data": {
      "text/plain": [
       " 1    185115\n",
       "-1      1577\n",
       "Name: Path_Anomaly_Score, dtype: int64"
      ]
     },
     "execution_count": 6,
     "metadata": {},
     "output_type": "execute_result"
    }
   ],
   "source": [
    "from sklearn.feature_extraction.text import TfidfVectorizer\n",
    "from sklearn.ensemble import IsolationForest\n",
    "\n",
    "# Vectorize the 'Path' column using TF-IDF for anomaly detection\n",
    "tfidf_vectorizer = TfidfVectorizer(max_features=1000)\n",
    "path_tfidf = tfidf_vectorizer.fit_transform(df['Path'])\n",
    "\n",
    "# Fit an Isolation Forest model to detect anomalies\n",
    "isolation_forest = IsolationForest(n_estimators=100, contamination=0.01, random_state=42)\n",
    "df['Path_Anomaly_Score'] = isolation_forest.fit_predict(path_tfidf)\n",
    "\n",
    "# Count flagged anomalies\n",
    "anomaly_counts = df['Path_Anomaly_Score'].value_counts()\n",
    "\n",
    "anomaly_counts\n"
   ]
  },
  {
   "cell_type": "code",
   "execution_count": 9,
   "metadata": {},
   "outputs": [
    {
     "name": "stderr",
     "output_type": "stream",
     "text": [
      "/Users/vatsal/opt/anaconda3/lib/python3.8/site-packages/pandas/core/indexing.py:1597: SettingWithCopyWarning: \n",
      "A value is trying to be set on a copy of a slice from a DataFrame.\n",
      "Try using .loc[row_indexer,col_indexer] = value instead\n",
      "\n",
      "See the caveats in the documentation: https://pandas.pydata.org/pandas-docs/stable/user_guide/indexing.html#returning-a-view-versus-a-copy\n",
      "  self.obj[key] = value\n",
      "/Users/vatsal/opt/anaconda3/lib/python3.8/site-packages/pandas/core/indexing.py:1676: SettingWithCopyWarning: \n",
      "A value is trying to be set on a copy of a slice from a DataFrame.\n",
      "Try using .loc[row_indexer,col_indexer] = value instead\n",
      "\n",
      "See the caveats in the documentation: https://pandas.pydata.org/pandas-docs/stable/user_guide/indexing.html#returning-a-view-versus-a-copy\n",
      "  self._setitem_single_column(ilocs[0], value, pi)\n"
     ]
    },
    {
     "data": {
      "text/plain": [
       "(0,\n",
       " 1577,\n",
       " 0,\n",
       "                              Trace-id  HTTP Status Code  \\\n",
       " 60   0013cd6a0fc29ffedfee2edfce90ca8e             200.0   \n",
       " 197  004132015c4ed208cb56173ba20dfa48             204.0   \n",
       " 307  0064024be25bafb7cf449e133fa336e9             200.0   \n",
       " 367  007a70bc4ecfd39896ef57e16ed51fec             204.0   \n",
       " 528  00bdc626f8cc2c68b924863183ddd4da             200.0   \n",
       " \n",
       "                                                   Path  \\\n",
       " 60   /api/v1/identities/c630c9a3-16de-49e6-bcfe-c34...   \n",
       " 197  /api/v2/nodes/c630c9a3-16de-49e6-bcfe-c34cb503...   \n",
       " 307  /api/v2/nodes/c630c9a3-16de-49e6-bcfe-c34cb503...   \n",
       " 367  /api/v2/assets/c630c9a3-16de-49e6-bcfe-c34cb50...   \n",
       " 528  /api/v2/assets/c630c9a3-16de-49e6-bcfe-c34cb50...   \n",
       " \n",
       "                                             User Agent  Path_Anomaly_Score  \\\n",
       " 60   Mozilla/5.0 (Windows NT 10.0; Win64; x64) Appl...                  -1   \n",
       " 197  Mozilla/5.0 (Windows NT 10.0; Win64; x64; rv:1...                  -1   \n",
       " 307  Mozilla/5.0 (Windows NT 10.0; Win64; x64) Appl...                  -1   \n",
       " 367  Mozilla/5.0 (Windows NT 10.0; Win64; x64) Appl...                  -1   \n",
       " 528  Mozilla/5.0 (Linux; Android 14; Pixel 6a Build...                  -1   \n",
       " \n",
       "      SQL_Injection_Flag  Directory_Traversal_Flag  Automated_Tool_Flag  \n",
       " 60                False                      True                False  \n",
       " 197               False                      True                False  \n",
       " 307               False                      True                False  \n",
       " 367               False                      True                False  \n",
       " 528               False                      True                False  )"
      ]
     },
     "execution_count": 9,
     "metadata": {},
     "output_type": "execute_result"
    }
   ],
   "source": [
    "# Filter rows where Path_Anomaly_Score = -1 (anomalies)\n",
    "anomalies = df[df['Path_Anomaly_Score'] == -1]\n",
    "\n",
    "\n",
    "\n",
    "# Define suspicious patterns for SQL injection and directory traversal\n",
    "sql_injection_patterns = ['UNION SELECT', 'SELECT *', 'DROP TABLE', '--', ';--', \"' OR '1'='1\"]\n",
    "directory_traversal_patterns = ['../', '..\\\\', '%2e%2e%2f', '%2e%2e%5c']\n",
    "\n",
    "# Flag suspicious paths\n",
    "anomalies.loc[:, 'SQL_Injection_Flag'] = anomalies['Path'].str.contains('|'.join(sql_injection_patterns), case=False, na=False)\n",
    "anomalies.loc[:, 'Directory_Traversal_Flag'] = anomalies['Path'].str.contains('|'.join(directory_traversal_patterns), case=False, na=False)\n",
    "\n",
    "\n",
    "# Inspect suspicious User Agents (basic filtering for uncommon scripts)\n",
    "automated_tool_patterns = ['curl', 'bot', 'spider', 'scraper']\n",
    "anomalies.loc[:, 'Automated_Tool_Flag'] = anomalies['User Agent'].str.contains('|'.join(automated_tool_patterns), case=False, na=False)\n",
    "\n",
    "# Count flagged anomalies\n",
    "sql_injection_count = anomalies['SQL_Injection_Flag'].sum()\n",
    "directory_traversal_count = anomalies['Directory_Traversal_Flag'].sum()\n",
    "automated_tool_count = anomalies['Automated_Tool_Flag'].sum()\n",
    "\n",
    "# Display flagged anomalies and counts\n",
    "flagged_anomalies = anomalies[\n",
    "    (anomalies['SQL_Injection_Flag']) | \n",
    "    (anomalies['Directory_Traversal_Flag']) | \n",
    "    (anomalies['Automated_Tool_Flag'])\n",
    "]\n",
    "\n",
    "sql_injection_count, directory_traversal_count, automated_tool_count, flagged_anomalies.head()\n"
   ]
  },
  {
   "cell_type": "code",
   "execution_count": 12,
   "metadata": {},
   "outputs": [
    {
     "data": {
      "text/plain": [
       "200.0    808\n",
       "204.0    769\n",
       "Name: HTTP Status Code, dtype: int64"
      ]
     },
     "execution_count": 12,
     "metadata": {},
     "output_type": "execute_result"
    }
   ],
   "source": [
    "# Filter rows where the anomaly score is -1 (anomalous requests)\n",
    "anomalous_requests = df[df['Path_Anomaly_Score'] == -1]\n",
    "\n",
    "# Analyze the HTTP Status Code distribution for these anomalous rows\n",
    "anomalous_http_status_distribution = anomalous_requests['HTTP Status Code'].value_counts()\n",
    "\n",
    "# Display the distribution of HTTP Status Codes for anomalous requests\n",
    "anomalous_http_status_distribution\n"
   ]
  },
  {
   "cell_type": "code",
   "execution_count": 13,
   "metadata": {},
   "outputs": [
    {
     "ename": "KeyError",
     "evalue": "'label'",
     "output_type": "error",
     "traceback": [
      "\u001b[0;31m---------------------------------------------------------------------------\u001b[0m",
      "\u001b[0;31mKeyError\u001b[0m                                  Traceback (most recent call last)",
      "\u001b[0;32m~/opt/anaconda3/lib/python3.8/site-packages/pandas/core/indexes/base.py\u001b[0m in \u001b[0;36mget_loc\u001b[0;34m(self, key, method, tolerance)\u001b[0m\n\u001b[1;32m   3079\u001b[0m             \u001b[0;32mtry\u001b[0m\u001b[0;34m:\u001b[0m\u001b[0;34m\u001b[0m\u001b[0;34m\u001b[0m\u001b[0m\n\u001b[0;32m-> 3080\u001b[0;31m                 \u001b[0;32mreturn\u001b[0m \u001b[0mself\u001b[0m\u001b[0;34m.\u001b[0m\u001b[0m_engine\u001b[0m\u001b[0;34m.\u001b[0m\u001b[0mget_loc\u001b[0m\u001b[0;34m(\u001b[0m\u001b[0mcasted_key\u001b[0m\u001b[0;34m)\u001b[0m\u001b[0;34m\u001b[0m\u001b[0;34m\u001b[0m\u001b[0m\n\u001b[0m\u001b[1;32m   3081\u001b[0m             \u001b[0;32mexcept\u001b[0m \u001b[0mKeyError\u001b[0m \u001b[0;32mas\u001b[0m \u001b[0merr\u001b[0m\u001b[0;34m:\u001b[0m\u001b[0;34m\u001b[0m\u001b[0;34m\u001b[0m\u001b[0m\n",
      "\u001b[0;32mpandas/_libs/index.pyx\u001b[0m in \u001b[0;36mpandas._libs.index.IndexEngine.get_loc\u001b[0;34m()\u001b[0m\n",
      "\u001b[0;32mpandas/_libs/index.pyx\u001b[0m in \u001b[0;36mpandas._libs.index.IndexEngine.get_loc\u001b[0;34m()\u001b[0m\n",
      "\u001b[0;32mpandas/_libs/hashtable_class_helper.pxi\u001b[0m in \u001b[0;36mpandas._libs.hashtable.PyObjectHashTable.get_item\u001b[0;34m()\u001b[0m\n",
      "\u001b[0;32mpandas/_libs/hashtable_class_helper.pxi\u001b[0m in \u001b[0;36mpandas._libs.hashtable.PyObjectHashTable.get_item\u001b[0;34m()\u001b[0m\n",
      "\u001b[0;31mKeyError\u001b[0m: 'label'",
      "\nThe above exception was the direct cause of the following exception:\n",
      "\u001b[0;31mKeyError\u001b[0m                                  Traceback (most recent call last)",
      "\u001b[0;32m<ipython-input-13-c167b5b198e7>\u001b[0m in \u001b[0;36m<module>\u001b[0;34m\u001b[0m\n\u001b[1;32m     10\u001b[0m \u001b[0;31m# Prepare features and labels\u001b[0m\u001b[0;34m\u001b[0m\u001b[0;34m\u001b[0m\u001b[0;34m\u001b[0m\u001b[0m\n\u001b[1;32m     11\u001b[0m \u001b[0mfeatures\u001b[0m \u001b[0;34m=\u001b[0m \u001b[0mdf\u001b[0m\u001b[0;34m[\u001b[0m\u001b[0;34m[\u001b[0m\u001b[0;34m'Path'\u001b[0m\u001b[0;34m,\u001b[0m \u001b[0;34m'User Agent'\u001b[0m\u001b[0;34m,\u001b[0m \u001b[0;34m'HTTP Status Code'\u001b[0m\u001b[0;34m]\u001b[0m\u001b[0;34m]\u001b[0m\u001b[0;34m\u001b[0m\u001b[0;34m\u001b[0m\u001b[0m\n\u001b[0;32m---> 12\u001b[0;31m \u001b[0mlabels\u001b[0m \u001b[0;34m=\u001b[0m \u001b[0mdf\u001b[0m\u001b[0;34m[\u001b[0m\u001b[0;34m'label'\u001b[0m\u001b[0;34m]\u001b[0m\u001b[0;34m\u001b[0m\u001b[0;34m\u001b[0m\u001b[0m\n\u001b[0m\u001b[1;32m     13\u001b[0m \u001b[0;34m\u001b[0m\u001b[0m\n\u001b[1;32m     14\u001b[0m \u001b[0;31m# Vectorize text data\u001b[0m\u001b[0;34m\u001b[0m\u001b[0;34m\u001b[0m\u001b[0;34m\u001b[0m\u001b[0m\n",
      "\u001b[0;32m~/opt/anaconda3/lib/python3.8/site-packages/pandas/core/frame.py\u001b[0m in \u001b[0;36m__getitem__\u001b[0;34m(self, key)\u001b[0m\n\u001b[1;32m   3022\u001b[0m             \u001b[0;32mif\u001b[0m \u001b[0mself\u001b[0m\u001b[0;34m.\u001b[0m\u001b[0mcolumns\u001b[0m\u001b[0;34m.\u001b[0m\u001b[0mnlevels\u001b[0m \u001b[0;34m>\u001b[0m \u001b[0;36m1\u001b[0m\u001b[0;34m:\u001b[0m\u001b[0;34m\u001b[0m\u001b[0;34m\u001b[0m\u001b[0m\n\u001b[1;32m   3023\u001b[0m                 \u001b[0;32mreturn\u001b[0m \u001b[0mself\u001b[0m\u001b[0;34m.\u001b[0m\u001b[0m_getitem_multilevel\u001b[0m\u001b[0;34m(\u001b[0m\u001b[0mkey\u001b[0m\u001b[0;34m)\u001b[0m\u001b[0;34m\u001b[0m\u001b[0;34m\u001b[0m\u001b[0m\n\u001b[0;32m-> 3024\u001b[0;31m             \u001b[0mindexer\u001b[0m \u001b[0;34m=\u001b[0m \u001b[0mself\u001b[0m\u001b[0;34m.\u001b[0m\u001b[0mcolumns\u001b[0m\u001b[0;34m.\u001b[0m\u001b[0mget_loc\u001b[0m\u001b[0;34m(\u001b[0m\u001b[0mkey\u001b[0m\u001b[0;34m)\u001b[0m\u001b[0;34m\u001b[0m\u001b[0;34m\u001b[0m\u001b[0m\n\u001b[0m\u001b[1;32m   3025\u001b[0m             \u001b[0;32mif\u001b[0m \u001b[0mis_integer\u001b[0m\u001b[0;34m(\u001b[0m\u001b[0mindexer\u001b[0m\u001b[0;34m)\u001b[0m\u001b[0;34m:\u001b[0m\u001b[0;34m\u001b[0m\u001b[0;34m\u001b[0m\u001b[0m\n\u001b[1;32m   3026\u001b[0m                 \u001b[0mindexer\u001b[0m \u001b[0;34m=\u001b[0m \u001b[0;34m[\u001b[0m\u001b[0mindexer\u001b[0m\u001b[0;34m]\u001b[0m\u001b[0;34m\u001b[0m\u001b[0;34m\u001b[0m\u001b[0m\n",
      "\u001b[0;32m~/opt/anaconda3/lib/python3.8/site-packages/pandas/core/indexes/base.py\u001b[0m in \u001b[0;36mget_loc\u001b[0;34m(self, key, method, tolerance)\u001b[0m\n\u001b[1;32m   3080\u001b[0m                 \u001b[0;32mreturn\u001b[0m \u001b[0mself\u001b[0m\u001b[0;34m.\u001b[0m\u001b[0m_engine\u001b[0m\u001b[0;34m.\u001b[0m\u001b[0mget_loc\u001b[0m\u001b[0;34m(\u001b[0m\u001b[0mcasted_key\u001b[0m\u001b[0;34m)\u001b[0m\u001b[0;34m\u001b[0m\u001b[0;34m\u001b[0m\u001b[0m\n\u001b[1;32m   3081\u001b[0m             \u001b[0;32mexcept\u001b[0m \u001b[0mKeyError\u001b[0m \u001b[0;32mas\u001b[0m \u001b[0merr\u001b[0m\u001b[0;34m:\u001b[0m\u001b[0;34m\u001b[0m\u001b[0;34m\u001b[0m\u001b[0m\n\u001b[0;32m-> 3082\u001b[0;31m                 \u001b[0;32mraise\u001b[0m \u001b[0mKeyError\u001b[0m\u001b[0;34m(\u001b[0m\u001b[0mkey\u001b[0m\u001b[0;34m)\u001b[0m \u001b[0;32mfrom\u001b[0m \u001b[0merr\u001b[0m\u001b[0;34m\u001b[0m\u001b[0;34m\u001b[0m\u001b[0m\n\u001b[0m\u001b[1;32m   3083\u001b[0m \u001b[0;34m\u001b[0m\u001b[0m\n\u001b[1;32m   3084\u001b[0m         \u001b[0;32mif\u001b[0m \u001b[0mtolerance\u001b[0m \u001b[0;32mis\u001b[0m \u001b[0;32mnot\u001b[0m \u001b[0;32mNone\u001b[0m\u001b[0;34m:\u001b[0m\u001b[0;34m\u001b[0m\u001b[0;34m\u001b[0m\u001b[0m\n",
      "\u001b[0;31mKeyError\u001b[0m: 'label'"
     ]
    }
   ],
   "source": [
    "from sklearn.model_selection import train_test_split\n",
    "from sklearn.ensemble import RandomForestClassifier\n",
    "from sklearn.metrics import classification_report, roc_auc_score\n",
    "from sklearn.feature_extraction.text import TfidfVectorizer\n",
    "from sklearn.preprocessing import StandardScaler\n",
    "import pandas as pd\n",
    "\n",
    "# Assume 'log_data' is your dataset and 'label' is the target column (0=normal, 1=malicious)\n",
    "\n",
    "# Prepare features and labels\n",
    "features = df[['Path', 'User Agent', 'HTTP Status Code']]\n",
    "labels = df['label']\n",
    "\n",
    "# Vectorize text data\n",
    "tfidf_vectorizer = TfidfVectorizer(max_features=1000)\n",
    "path_tfidf = tfidf_vectorizer.fit_transform(features['Path'].fillna(''))\n",
    "user_agent_tfidf = tfidf_vectorizer.fit_transform(features['User Agent'].fillna(''))\n",
    "\n",
    "# Combine features\n",
    "numerical_features = features['HTTP Status Code'].fillna(0).values.reshape(-1, 1)\n",
    "scaler = StandardScaler()\n",
    "numerical_features_scaled = scaler.fit_transform(numerical_features)\n",
    "\n",
    "import numpy as np\n",
    "X = np.hstack((path_tfidf.toarray(), user_agent_tfidf.toarray(), numerical_features_scaled))\n",
    "y = labels\n",
    "\n",
    "# Split data\n",
    "X_train, X_test, y_train, y_test = train_test_split(X, y, test_size=0.2, random_state=42)\n",
    "\n",
    "# Train Random Forest Classifier\n",
    "clf = RandomForestClassifier(n_estimators=100, random_state=42)\n",
    "clf.fit(X_train, y_train)\n",
    "\n",
    "# Predict and Evaluate\n",
    "y_pred = clf.predict(X_test)\n",
    "print(classification_report(y_test, y_pred))\n",
    "print(\"AUC-ROC Score:\", roc_auc_score(y_test, clf.predict_proba(X_test)[:, 1]))\n"
   ]
  },
  {
   "cell_type": "code",
   "execution_count": null,
   "metadata": {},
   "outputs": [],
   "source": []
  }
 ],
 "metadata": {
  "kernelspec": {
   "display_name": "Python 3",
   "language": "python",
   "name": "python3"
  },
  "language_info": {
   "codemirror_mode": {
    "name": "ipython",
    "version": 3
   },
   "file_extension": ".py",
   "mimetype": "text/x-python",
   "name": "python",
   "nbconvert_exporter": "python",
   "pygments_lexer": "ipython3",
   "version": "3.8.3"
  }
 },
 "nbformat": 4,
 "nbformat_minor": 4
}
