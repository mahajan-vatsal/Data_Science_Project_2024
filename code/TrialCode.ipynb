{
 "cells": [
  {
   "cell_type": "code",
   "execution_count": 3,
   "metadata": {},
   "outputs": [
    {
     "name": "stdout",
     "output_type": "stream",
     "text": [
      "Log data successfully converted to CSV and saved at /Users/vatsal/Desktop/converted_logs.csv\n"
     ]
    }
   ],
   "source": [
    "import json\n",
    "import pandas as pd\n",
    "\n",
    "# File path to the log file\n",
    "log_file_path = \"/Users/vatsal/Desktop/SimplyTag/orgadata-st0.log\"\n",
    "output_csv_path = \"/Users/vatsal/Desktop/converted_logs.csv\"\n",
    "\n",
    "# Initialize a list to store JSON data\n",
    "log_data = []\n",
    "\n",
    "# Read the log file line by line\n",
    "with open(log_file_path, \"r\") as file:\n",
    "    for line in file:\n",
    "        # Find the JSON part of each line\n",
    "        json_start = line.find('{')\n",
    "        if json_start != -1:\n",
    "            json_data = line[json_start:].strip()\n",
    "            try:\n",
    "                # Parse the JSON and append it to the list\n",
    "                log_data.append(json.loads(json_data))\n",
    "            except json.JSONDecodeError:\n",
    "                print(f\"Skipping invalid JSON: {json_data}\")\n",
    "\n",
    "# Convert the list of JSON objects to a DataFrame\n",
    "df = pd.DataFrame(log_data)\n",
    "\n",
    "# Save the DataFrame to a CSV file\n",
    "df.to_csv(output_csv_path, index=False)\n",
    "\n",
    "print(f\"Log data successfully converted to CSV and saved at {output_csv_path}\")\n"
   ]
  },
  {
   "cell_type": "code",
   "execution_count": null,
   "metadata": {},
   "outputs": [],
   "source": []
  },
  {
   "cell_type": "code",
   "execution_count": 4,
   "metadata": {},
   "outputs": [
    {
     "name": "stdout",
     "output_type": "stream",
     "text": [
      "Index(['Level', 'Timestamp', 'PID', 'Logger', 'Message', 'Scope',\n",
      "       'Application', 'State', 'EventId', 'Exception'],\n",
      "      dtype='object')\n"
     ]
    }
   ],
   "source": [
    "print(df.columns)\n"
   ]
  },
  {
   "cell_type": "code",
   "execution_count": 7,
   "metadata": {},
   "outputs": [
    {
     "name": "stdout",
     "output_type": "stream",
     "text": [
      "{'Protocol': 'HTTP/1.1', 'Method': 'GET', 'ContentType': None, 'ContentLength': None, 'Scheme': 'http', 'Host': 'api.owds.org', 'PathBase': '', 'Path': '/api/healthz', 'QueryString': '', '{OriginalFormat}': 'Request starting {Protocol} {Method} {Scheme}://{Host}{PathBase}{Path}{QueryString} - {ContentType} {ContentLength}'}\n",
      "                           Trace-id  HTTP Status Code          Path  \\\n",
      "0  c012824f5c58bedb5fcd9ac2bb08de69               NaN  /api/healthz   \n",
      "1  c012824f5c58bedb5fcd9ac2bb08de69               NaN  /api/healthz   \n",
      "2  c012824f5c58bedb5fcd9ac2bb08de69               NaN          None   \n",
      "3  60d518ec273ea0e4c19e010a213f446d               NaN  /api/healthz   \n",
      "4  60d518ec273ea0e4c19e010a213f446d               NaN  /api/healthz   \n",
      "\n",
      "   User Agent  \n",
      "0        None  \n",
      "1  curl/8.5.0  \n",
      "2        None  \n",
      "3        None  \n",
      "4  curl/8.5.0  \n"
     ]
    }
   ],
   "source": [
    "# Check if 'State' column contains dictionaries\n",
    "print(df['State'].iloc[0])  # Print the first entry for verification\n",
    "\n",
    "# Extract specific fields directly from 'State'\n",
    "df['Trace-id'] = df['Scope'].apply(lambda x: x.get('TraceId') if isinstance(x, dict) else None)\n",
    "df['HTTP Status Code'] = df['State'].apply(lambda x: x.get('StatusCode') if isinstance(x, dict) else None)\n",
    "df['Path'] = df['State'].apply(lambda x: x.get('Path') if isinstance(x, dict) else None)\n",
    "df['User Agent'] = df['State'].apply(lambda x: x.get('User-Agent') if isinstance(x, dict) else None)\n",
    "\n",
    "# Print columns to verify\n",
    "print(df[['Trace-id', 'HTTP Status Code', 'Path', 'User Agent']].head())\n"
   ]
  },
  {
   "cell_type": "code",
   "execution_count": 8,
   "metadata": {},
   "outputs": [
    {
     "data": {
      "text/plain": [
       "Trace-id                 0\n",
       "Message                  0\n",
       "Path                190373\n",
       "User Agent          239622\n",
       "HTTP Status Code    212022\n",
       "Timestamp                0\n",
       "dtype: int64"
      ]
     },
     "execution_count": 8,
     "metadata": {},
     "output_type": "execute_result"
    }
   ],
   "source": [
    "# Filter for relevant columns\n",
    "relevant_data = df[['Trace-id', 'Message', 'Path', 'User Agent', 'HTTP Status Code', 'Timestamp']]\n",
    "relevant_data.isnull().sum()"
   ]
  },
  {
   "cell_type": "code",
   "execution_count": 26,
   "metadata": {},
   "outputs": [],
   "source": [
    "# Create a copy of the relevant data to avoid SettingWithCopyWarning\n",
    "relevant_data = relevant_data.copy()\n",
    "\n",
    "# Extract HTTP methods and paths from 'Message' (example; adjust per data structure)\n",
    "relevant_data['HTTP_Method'] = relevant_data['Message'].str.extract(r'(GET|POST|PUT|DELETE)')\n",
    "relevant_data['Endpoint'] = relevant_data['Message'].str.extract(r'(http[s]?://[^\\s]+)')  # Added capturing group\n",
    "\n",
    "# Handle missing values\n",
    "relevant_data.fillna(\"Unknown\", inplace=True)\n"
   ]
  },
  {
   "cell_type": "code",
   "execution_count": 27,
   "metadata": {},
   "outputs": [
    {
     "name": "stdout",
     "output_type": "stream",
     "text": [
      "0         False\n",
      "1         False\n",
      "2         False\n",
      "3         False\n",
      "4         False\n",
      "          ...  \n",
      "263093    False\n",
      "263094    False\n",
      "263095    False\n",
      "263096    False\n",
      "263097     True\n",
      "Name: Is_Suspicious, Length: 263098, dtype: bool\n"
     ]
    }
   ],
   "source": [
    "# Convert 'HTTP Status Code' to integer, handling any errors gracefully\n",
    "relevant_data['HTTP Status Code'] = pd.to_numeric(relevant_data['HTTP Status Code'], errors='coerce')\n",
    "\n",
    "# Categorize HTTP status codes\n",
    "relevant_data['Status_Category'] = relevant_data['HTTP Status Code'].apply(\n",
    "    lambda x: 'Breach' if x == 200 else 'Success' if 200 < x < 300 else 'Client Error' if 400 <= x < 500 else 'Server Error' if 500 <= x < 600 else 'Other'\n",
    ")\n",
    "\n",
    "# Flag suspicious activities (flag 200 status codes as suspicious for now, adjust as per your logic)\n",
    "relevant_data['Is_Suspicious'] = relevant_data['HTTP Status Code'] == 200\n",
    "\n",
    "# Show the new column for suspicious activities\n",
    "print(relevant_data['Is_Suspicious'])\n"
   ]
  },
  {
   "cell_type": "code",
   "execution_count": 28,
   "metadata": {},
   "outputs": [
    {
     "data": {
      "image/png": "[encoded data removed]",
      "text/plain": [
       "<Figure size 720x432 with 1 Axes>"
      ]
     },
     "metadata": {},
     "output_type": "display_data"
    },
    {
     "data": {
      "image/png": "[encoded data removed]",
      "text/plain": [
       "<Figure size 576x360 with 1 Axes>"
      ]
     },
     "metadata": {},
     "output_type": "display_data"
    },
    {
     "data": {
      "image/png": "[encoded data removed]",
      "text/plain": [
       "<Figure size 576x576 with 1 Axes>"
      ]
     },
     "metadata": {},
     "output_type": "display_data"
    }
   ],
   "source": [
    "import matplotlib.pyplot as plt\n",
    "import seaborn as sns\n",
    "\n",
    "# Set up seaborn for better aesthetics\n",
    "sns.set(style=\"whitegrid\")\n",
    "\n",
    "# 1. Plot the distribution of status categories\n",
    "plt.figure(figsize=(10, 6))\n",
    "status_counts = relevant_data['Status_Category'].value_counts()\n",
    "ax = sns.barplot(x=status_counts.index, y=status_counts.values, palette='viridis')\n",
    "\n",
    "# Add labels on top of each bar\n",
    "for p in ax.patches:\n",
    "    ax.annotate(f'{p.get_height()}', (p.get_x() + p.get_width() / 2., p.get_height()),\n",
    "                ha='center', va='center', fontsize=12, color='black', xytext=(0, 5), textcoords='offset points')\n",
    "\n",
    "plt.title('Distribution of HTTP Status Categories', fontsize=16)\n",
    "plt.xlabel('Status Category', fontsize=12)\n",
    "plt.ylabel('Count', fontsize=12)\n",
    "plt.xticks(rotation=45)\n",
    "plt.show()\n",
    "\n",
    "# 2. Plot the count of suspicious activities\n",
    "plt.figure(figsize=(8, 5))\n",
    "suspicious_counts = relevant_data['Is_Suspicious'].value_counts()\n",
    "ax = sns.barplot(x=suspicious_counts.index, y=suspicious_counts.values, palette='magma')\n",
    "\n",
    "# Add labels on top of each bar\n",
    "for p in ax.patches:\n",
    "    ax.annotate(f'{p.get_height()}', (p.get_x() + p.get_width() / 2., p.get_height()),\n",
    "                ha='center', va='center', fontsize=12, color='black', xytext=(0, 5), textcoords='offset points')\n",
    "\n",
    "plt.title('Suspicious Activities Count', fontsize=16)\n",
    "plt.xlabel('Suspicious Activity (200 Status Code)', fontsize=12)\n",
    "plt.ylabel('Count', fontsize=12)\n",
    "plt.xticks([0, 1], ['False', 'True'], rotation=0)\n",
    "plt.show()\n",
    "\n",
    "# 3. Create a pie chart for the status category distribution\n",
    "plt.figure(figsize=(8, 8))\n",
    "status_counts.plot.pie(autopct='%1.1f%%', startangle=90, colors=sns.color_palette(\"Set3\", n_colors=len(status_counts)))\n",
    "\n",
    "# Add labels on the pie chart sectors\n",
    "plt.title('Percentage of Status Categories', fontsize=16)\n",
    "plt.ylabel('')  # Hide the ylabel for better presentation\n",
    "plt.show()\n"
   ]
  },
  {
   "cell_type": "code",
   "execution_count": 29,
   "metadata": {},
   "outputs": [
    {
     "name": "stdout",
     "output_type": "stream",
     "text": [
      "There are total 51076 HTTP Status Code\n"
     ]
    }
   ],
   "source": [
    "print(f\"There are total {relevant_data['HTTP Status Code'].count()} HTTP Status Code\"  )"
   ]
  },
  {
   "cell_type": "code",
   "execution_count": 30,
   "metadata": {},
   "outputs": [
    {
     "name": "stdout",
     "output_type": "stream",
     "text": [
      "There are 14 different HTTP status codes in the data.\n"
     ]
    }
   ],
   "source": [
    "# Get the number of unique HTTP status codes in your dataset\n",
    "unique_status_codes = relevant_data['HTTP Status Code'].nunique()\n",
    "\n",
    "print(f\"There are {unique_status_codes} different HTTP status codes in the data.\")\n"
   ]
  },
  {
   "cell_type": "code",
   "execution_count": 31,
   "metadata": {},
   "outputs": [
    {
     "name": "stdout",
     "output_type": "stream",
     "text": [
      "Unique HTTP Status Codes: [ nan 200. 404. 503. 401. 204. 201. 409.   0. 400. 415. 499. 202. 500.\n",
      " 403.]\n"
     ]
    }
   ],
   "source": [
    "# Display the unique HTTP status codes\n",
    "unique_status_codes_list = relevant_data['HTTP Status Code'].unique()\n",
    "\n",
    "print(\"Unique HTTP Status Codes:\", unique_status_codes_list)\n"
   ]
  },
  {
   "cell_type": "code",
   "execution_count": 32,
   "metadata": {
    "scrolled": false
   },
   "outputs": [
    {
     "data": {
      "image/png": "[encoded data removed]",
      "text/plain": [
       "<Figure size 720x432 with 1 Axes>"
      ]
     },
     "metadata": {},
     "output_type": "display_data"
    }
   ],
   "source": [
    "# Count the occurrences of each HTTP status code\n",
    "status_code_counts = relevant_data['HTTP Status Code'].value_counts()\n",
    "\n",
    "# Plot a bar graph for the HTTP status codes and their frequencies\n",
    "plt.figure(figsize=(10, 6))\n",
    "status_code_counts.plot(kind='bar', color='skyblue', edgecolor='black')\n",
    "\n",
    "# Add labels and title\n",
    "plt.title('Frequency of Each HTTP Status Code', fontsize=14)\n",
    "plt.xlabel('HTTP Status Code', fontsize=12)\n",
    "plt.ylabel('Frequency', fontsize=12)\n",
    "\n",
    "# Display the frequency count on top of each bar\n",
    "for i, v in enumerate(status_code_counts):\n",
    "    plt.text(i, v + 0.5, str(v), ha='center', fontsize=10)\n",
    "\n",
    "# Show the plot\n",
    "plt.xticks(rotation=45)\n",
    "plt.tight_layout()\n",
    "plt.show()\n"
   ]
  },
  {
   "cell_type": "code",
   "execution_count": 33,
   "metadata": {},
   "outputs": [
    {
     "data": {
      "text/plain": [
       "200.0    36856\n",
       "204.0    12509\n",
       "404.0     1021\n",
       "201.0      403\n",
       "401.0      174\n",
       "503.0       44\n",
       "0.0         28\n",
       "409.0       14\n",
       "400.0       10\n",
       "415.0        6\n",
       "499.0        5\n",
       "202.0        2\n",
       "403.0        2\n",
       "500.0        2\n",
       "Name: HTTP Status Code, dtype: int64"
      ]
     },
     "execution_count": 33,
     "metadata": {},
     "output_type": "execute_result"
    }
   ],
   "source": [
    "relevant_data['HTTP Status Code'].value_counts()"
   ]
  },
  {
   "cell_type": "code",
   "execution_count": 34,
   "metadata": {},
   "outputs": [],
   "source": [
    "import re\n",
    "\n",
    "# Extract potential HTTP status codes from the 'Message' column\n",
    "relevant_data['Extracted_Status_Code'] = relevant_data['Message'].apply(\n",
    "    lambda x: re.search(r'\\b\\d{3}\\b', x).group() if re.search(r'\\b\\d{3}\\b', x) else None\n",
    ")\n",
    "\n",
    "# Convert the extracted codes to numeric (to filter out non-status codes)\n",
    "relevant_data['Extracted_Status_Code'] = pd.to_numeric(relevant_data['Extracted_Status_Code'], errors='coerce')\n"
   ]
  },
  {
   "cell_type": "code",
   "execution_count": 39,
   "metadata": {},
   "outputs": [
    {
     "name": "stdout",
     "output_type": "stream",
     "text": [
      "[ nan 200. 709. 538. 333. 379. 923. 431. 399. 348. 895. 372. 490. 345.\n",
      " 516. 693. 463. 498. 494. 476. 499. 558. 553. 621. 981. 609. 398. 343.\n",
      " 392. 512. 384. 403. 338. 454. 634. 358. 328. 391. 357. 322. 458. 361.\n",
      " 362. 350. 376. 364. 475. 363. 415. 460. 432. 329. 493. 346. 418. 351.\n",
      " 324. 513. 430. 354. 557. 325. 597. 457. 353. 804. 397. 440. 612. 442.\n",
      " 469. 633. 715. 542. 544. 561. 407. 646. 414. 563. 810. 624. 757. 365.\n",
      " 423. 405. 378. 662. 406. 316. 429. 578. 420. 506. 389. 453. 564. 481.\n",
      " 579. 478. 382. 521. 459. 422. 610. 374. 445. 404. 416. 352. 602. 411.\n",
      " 393. 584. 480. 565. 395. 387. 443. 511. 377. 491. 631. 344. 527. 323.\n",
      " 349. 368. 590. 413. 468. 674. 380. 367. 686. 667. 400. 543. 466. 567.\n",
      " 593. 371. 373. 789. 369. 588. 447. 575. 381. 517. 496. 335. 332. 434.\n",
      " 339. 501. 530. 552. 510. 451. 479. 455. 489. 571. 801. 482. 546. 385.\n",
      " 425. 394. 526. 698. 883. 438. 523. 568. 705. 658. 613. 555. 817. 465.\n",
      " 556. 793. 635. 778. 370. 620. 607. 535. 396. 302. 525. 547. 388. 331.\n",
      " 366. 630. 531. 486. 623. 421. 625. 582. 600. 446. 601. 596. 515. 355.\n",
      " 467. 412. 419. 359. 449. 426. 497. 492. 452. 401. 330. 342. 383. 402.\n",
      " 504. 334. 660. 545. 464. 483. 586. 570. 488. 806. 695. 574. 802. 356.\n",
      " 670. 776. 551. 603. 636. 522. 524. 700. 390. 410. 456. 437. 448. 326.\n",
      " 532. 444. 477. 408. 318. 566. 314. 795. 500. 519. 550. 428. 549. 738.\n",
      " 487. 589. 462. 436. 461. 537. 472. 628. 508. 583. 484. 824. 560. 435.\n",
      " 529. 533. 644. 505. 614. 629. 664. 507. 520. 729. 622. 713. 828. 637.\n",
      " 728. 509. 737. 572. 685. 900. 639. 744. 548. 814. 722. 676. 347. 433.\n",
      " 657. 337. 581. 409. 375. 714. 573. 267. 427. 278. 243. 308. 272. 265.\n",
      " 450. 503. 340. 292. 641. 297. 539. 829. 835. 313. 213. 485. 336. 300.\n",
      " 270. 865. 470. 287. 257. 424. 266. 255. 274. 360. 327. 554. 514. 259.\n",
      " 832. 291. 269. 298. 238. 271. 268. 253. 247. 258. 677. 306. 617. 277.\n",
      " 286. 585. 282. 295. 304. 280. 284. 303. 299. 541. 307. 309.   1. 139.\n",
      " 102. 225. 230. 763. 235. 128. 132. 173. 534. 587. 495. 471. 858. 441.\n",
      " 254. 317. 439. 236. 315. 341. 204. 260. 310. 172. 174. 111. 167. 170.\n",
      " 201. 163. 196. 129. 153. 147. 150. 112. 114. 136. 787. 536. 263. 595.\n",
      " 195. 887. 108. 117. 999. 961. 962.   7. 894. 820. 823. 853. 113. 120.\n",
      " 220. 205. 207. 165. 168. 189. 202. 228. 155. 187. 190. 226. 140. 143.\n",
      " 219. 223. 252. 148. 142. 288. 126. 222. 208. 211. 244. 605. 642. 177.\n",
      " 771. 797. 109. 246. 151. 154. 176. 180. 184. 209. 158. 160. 179. 171.\n",
      " 690. 723. 917. 921. 930. 296. 867. 871. 878. 141. 843. 846. 852. 281.\n",
      " 576. 599. 218. 229. 192. 124. 619. 103. 110. 283. 681. 577. 242. 232.\n",
      " 275. 262. 185. 175. 107. 747. 237. 166. 169. 193. 305. 183. 221. 197.\n",
      " 178. 203. 215. 144. 146. 100. 234. 276. 311. 194. 214. 119. 206. 121.\n",
      " 162. 279. 216. 240. 661. 663. 684. 233. 157. 159. 199. 198. 261. 808.\n",
      " 836. 231. 264. 227. 256. 164. 807. 809. 983. 239. 135. 137. 210. 241.\n",
      " 248.  19. 106. 224. 273. 152. 786. 788. 145. 285. 105. 863. 725. 750.\n",
      " 964. 970. 726. 751. 890. 188. 122. 815. 837. 125. 249. 734. 736. 893.\n",
      " 779. 784. 724. 182. 696. 127. 251. 212.  14. 104. 101. 191. 131. 766.\n",
      " 116. 937. 848. 851. 884. 811. 822. 156. 186. 130. 133. 181. 149. 790.\n",
      " 818. 924. 933. 934. 945. 816. 819. 740. 927. 290. 616. 518. 138. 321.\n",
      " 939. 712. 735. 245. 294. 123. 118. 978. 854. 855. 856. 857. 879. 752.\n",
      " 754. 772. 161. 898. 998. 134. 528. 984.   4.   2. 765. 319. 293. 950.\n",
      " 217. 739. 742. 320. 730. 732. 704. 708. 250. 842. 845. 783. 952. 956.\n",
      " 980. 777. 798. 386. 289.  47.   3. 115. 907. 417. 312. 749. 989. 768.\n",
      " 840. 889. 741. 301. 953. 965. 975. 941. 946. 944. 949. 885. 753. 755.\n",
      " 473.  96. 996. 990. 992. 958. 960. 971. 994. 474. 666. 643. 540. 580.\n",
      " 604. 592. 594. 627. 569. 626. 649. 650. 652. 618. 562. 559. 611. 608.\n",
      " 598. 668. 632. 687. 689. 988. 892. 896. 876. 881.  13. 645. 718. 986.\n",
      " 973. 955. 957. 968. 859. 691. 936. 655. 673. 800. 826. 888. 838. 903.\n",
      " 915. 908. 911. 926. 882. 899. 875. 880. 919. 947. 862. 913. 943. 839.\n",
      " 841. 918. 897. 904. 948. 951. 905. 910. 972. 976. 886. 861. 869. 720.\n",
      " 721. 680. 920. 959. 716. 995. 748. 963. 935. 767. 606. 683.  10. 803.\n",
      " 830. 762. 825. 813. 758. 743. 874. 781. 805. 760. 791. 682. 688. 991.\n",
      " 756. 780. 692. 694. 792. 997. 703. 707. 731. 764. 796. 831. 794. 745.\n",
      " 706. 877. 727. 759. 769. 799. 785. 902. 987. 827. 591. 909. 942. 870.\n",
      " 653. 640. 932. 938. 812. 847. 985. 860.  52. 717. 844. 969. 773.  99.\n",
      " 982. 850. 697. 954. 834. 967. 665. 678. 866. 719. 761. 774.   8. 502.\n",
      " 914. 651. 615. 901. 699. 864. 679.]\n"
     ]
    }
   ],
   "source": [
    "status_code_counts = relevant_data['Extracted_Status_Code'].unique()\n",
    "print(status_code_counts)\n"
   ]
  },
  {
   "cell_type": "code",
   "execution_count": 38,
   "metadata": {},
   "outputs": [
    {
     "data": {
      "image/png": "[encoded data removed]",
      "text/plain": [
       "<Figure size 720x432 with 1 Axes>"
      ]
     },
     "metadata": {},
     "output_type": "display_data"
    }
   ],
   "source": [
    "import matplotlib.pyplot as plt\n",
    "\n",
    "# Drop NaN values and plot\n",
    "status_code_counts.dropna().sort_index().plot(kind='bar', figsize=(10, 6), color='skyblue')\n",
    "\n",
    "plt.title(\"Frequency of HTTP Status Codes in 'Message' Column\")\n",
    "plt.xlabel(\"HTTP Status Code\")\n",
    "plt.ylabel(\"Frequency\")\n",
    "plt.xticks(rotation=45)\n",
    "plt.grid(axis='y', linestyle='--', alpha=0.7)\n",
    "plt.tight_layout()\n",
    "plt.show()\n"
   ]
  },
  {
   "cell_type": "code",
   "execution_count": 45,
   "metadata": {},
   "outputs": [
    {
     "name": "stdout",
     "output_type": "stream",
     "text": [
      "Index(['Trace-id', 'Message', 'Path', 'User Agent', 'HTTP Status Code',\n",
      "       'Timestamp', 'HTTP_Method', 'Endpoint', 'Status_Category',\n",
      "       'Is_Suspicious', 'Extracted_Status_Code'],\n",
      "      dtype='object')\n"
     ]
    }
   ],
   "source": [
    "\n"
   ]
  },
  {
   "cell_type": "code",
   "execution_count": 44,
   "metadata": {},
   "outputs": [
    {
     "ename": "KeyError",
     "evalue": "'Scope'",
     "output_type": "error",
     "traceback": [
      "\u001b[0;31m---------------------------------------------------------------------------\u001b[0m",
      "\u001b[0;31mKeyError\u001b[0m                                  Traceback (most recent call last)",
      "\u001b[0;32m~/opt/anaconda3/lib/python3.8/site-packages/pandas/core/indexes/base.py\u001b[0m in \u001b[0;36mget_loc\u001b[0;34m(self, key, method, tolerance)\u001b[0m\n\u001b[1;32m   3079\u001b[0m             \u001b[0;32mtry\u001b[0m\u001b[0;34m:\u001b[0m\u001b[0;34m\u001b[0m\u001b[0;34m\u001b[0m\u001b[0m\n\u001b[0;32m-> 3080\u001b[0;31m                 \u001b[0;32mreturn\u001b[0m \u001b[0mself\u001b[0m\u001b[0;34m.\u001b[0m\u001b[0m_engine\u001b[0m\u001b[0;34m.\u001b[0m\u001b[0mget_loc\u001b[0m\u001b[0;34m(\u001b[0m\u001b[0mcasted_key\u001b[0m\u001b[0;34m)\u001b[0m\u001b[0;34m\u001b[0m\u001b[0;34m\u001b[0m\u001b[0m\n\u001b[0m\u001b[1;32m   3081\u001b[0m             \u001b[0;32mexcept\u001b[0m \u001b[0mKeyError\u001b[0m \u001b[0;32mas\u001b[0m \u001b[0merr\u001b[0m\u001b[0;34m:\u001b[0m\u001b[0;34m\u001b[0m\u001b[0;34m\u001b[0m\u001b[0m\n",
      "\u001b[0;32mpandas/_libs/index.pyx\u001b[0m in \u001b[0;36mpandas._libs.index.IndexEngine.get_loc\u001b[0;34m()\u001b[0m\n",
      "\u001b[0;32mpandas/_libs/index.pyx\u001b[0m in \u001b[0;36mpandas._libs.index.IndexEngine.get_loc\u001b[0;34m()\u001b[0m\n",
      "\u001b[0;32mpandas/_libs/hashtable_class_helper.pxi\u001b[0m in \u001b[0;36mpandas._libs.hashtable.PyObjectHashTable.get_item\u001b[0;34m()\u001b[0m\n",
      "\u001b[0;32mpandas/_libs/hashtable_class_helper.pxi\u001b[0m in \u001b[0;36mpandas._libs.hashtable.PyObjectHashTable.get_item\u001b[0;34m()\u001b[0m\n",
      "\u001b[0;31mKeyError\u001b[0m: 'Scope'",
      "\nThe above exception was the direct cause of the following exception:\n",
      "\u001b[0;31mKeyError\u001b[0m                                  Traceback (most recent call last)",
      "\u001b[0;32m<ipython-input-44-f021c9e40c10>\u001b[0m in \u001b[0;36m<module>\u001b[0;34m\u001b[0m\n\u001b[1;32m     10\u001b[0m \u001b[0;34m\u001b[0m\u001b[0m\n\u001b[1;32m     11\u001b[0m \u001b[0;31m# Apply extraction to the Scope column\u001b[0m\u001b[0;34m\u001b[0m\u001b[0;34m\u001b[0m\u001b[0;34m\u001b[0m\u001b[0m\n\u001b[0;32m---> 12\u001b[0;31m \u001b[0mrelevant_data\u001b[0m\u001b[0;34m[\u001b[0m\u001b[0;34m'Trace_ID'\u001b[0m\u001b[0;34m]\u001b[0m \u001b[0;34m=\u001b[0m \u001b[0mrelevant_data\u001b[0m\u001b[0;34m[\u001b[0m\u001b[0;34m'Scope'\u001b[0m\u001b[0;34m]\u001b[0m\u001b[0;34m.\u001b[0m\u001b[0mapply\u001b[0m\u001b[0;34m(\u001b[0m\u001b[0mextract_trace_id\u001b[0m\u001b[0;34m)\u001b[0m\u001b[0;34m\u001b[0m\u001b[0;34m\u001b[0m\u001b[0m\n\u001b[0m\u001b[1;32m     13\u001b[0m \u001b[0;34m\u001b[0m\u001b[0m\n\u001b[1;32m     14\u001b[0m \u001b[0;31m# Count unique trace IDs\u001b[0m\u001b[0;34m\u001b[0m\u001b[0;34m\u001b[0m\u001b[0;34m\u001b[0m\u001b[0m\n",
      "\u001b[0;32m~/opt/anaconda3/lib/python3.8/site-packages/pandas/core/frame.py\u001b[0m in \u001b[0;36m__getitem__\u001b[0;34m(self, key)\u001b[0m\n\u001b[1;32m   3022\u001b[0m             \u001b[0;32mif\u001b[0m \u001b[0mself\u001b[0m\u001b[0;34m.\u001b[0m\u001b[0mcolumns\u001b[0m\u001b[0;34m.\u001b[0m\u001b[0mnlevels\u001b[0m \u001b[0;34m>\u001b[0m \u001b[0;36m1\u001b[0m\u001b[0;34m:\u001b[0m\u001b[0;34m\u001b[0m\u001b[0;34m\u001b[0m\u001b[0m\n\u001b[1;32m   3023\u001b[0m                 \u001b[0;32mreturn\u001b[0m \u001b[0mself\u001b[0m\u001b[0;34m.\u001b[0m\u001b[0m_getitem_multilevel\u001b[0m\u001b[0;34m(\u001b[0m\u001b[0mkey\u001b[0m\u001b[0;34m)\u001b[0m\u001b[0;34m\u001b[0m\u001b[0;34m\u001b[0m\u001b[0m\n\u001b[0;32m-> 3024\u001b[0;31m             \u001b[0mindexer\u001b[0m \u001b[0;34m=\u001b[0m \u001b[0mself\u001b[0m\u001b[0;34m.\u001b[0m\u001b[0mcolumns\u001b[0m\u001b[0;34m.\u001b[0m\u001b[0mget_loc\u001b[0m\u001b[0;34m(\u001b[0m\u001b[0mkey\u001b[0m\u001b[0;34m)\u001b[0m\u001b[0;34m\u001b[0m\u001b[0;34m\u001b[0m\u001b[0m\n\u001b[0m\u001b[1;32m   3025\u001b[0m             \u001b[0;32mif\u001b[0m \u001b[0mis_integer\u001b[0m\u001b[0;34m(\u001b[0m\u001b[0mindexer\u001b[0m\u001b[0;34m)\u001b[0m\u001b[0;34m:\u001b[0m\u001b[0;34m\u001b[0m\u001b[0;34m\u001b[0m\u001b[0m\n\u001b[1;32m   3026\u001b[0m                 \u001b[0mindexer\u001b[0m \u001b[0;34m=\u001b[0m \u001b[0;34m[\u001b[0m\u001b[0mindexer\u001b[0m\u001b[0;34m]\u001b[0m\u001b[0;34m\u001b[0m\u001b[0;34m\u001b[0m\u001b[0m\n",
      "\u001b[0;32m~/opt/anaconda3/lib/python3.8/site-packages/pandas/core/indexes/base.py\u001b[0m in \u001b[0;36mget_loc\u001b[0;34m(self, key, method, tolerance)\u001b[0m\n\u001b[1;32m   3080\u001b[0m                 \u001b[0;32mreturn\u001b[0m \u001b[0mself\u001b[0m\u001b[0;34m.\u001b[0m\u001b[0m_engine\u001b[0m\u001b[0;34m.\u001b[0m\u001b[0mget_loc\u001b[0m\u001b[0;34m(\u001b[0m\u001b[0mcasted_key\u001b[0m\u001b[0;34m)\u001b[0m\u001b[0;34m\u001b[0m\u001b[0;34m\u001b[0m\u001b[0m\n\u001b[1;32m   3081\u001b[0m             \u001b[0;32mexcept\u001b[0m \u001b[0mKeyError\u001b[0m \u001b[0;32mas\u001b[0m \u001b[0merr\u001b[0m\u001b[0;34m:\u001b[0m\u001b[0;34m\u001b[0m\u001b[0;34m\u001b[0m\u001b[0m\n\u001b[0;32m-> 3082\u001b[0;31m                 \u001b[0;32mraise\u001b[0m \u001b[0mKeyError\u001b[0m\u001b[0;34m(\u001b[0m\u001b[0mkey\u001b[0m\u001b[0;34m)\u001b[0m \u001b[0;32mfrom\u001b[0m \u001b[0merr\u001b[0m\u001b[0;34m\u001b[0m\u001b[0;34m\u001b[0m\u001b[0m\n\u001b[0m\u001b[1;32m   3083\u001b[0m \u001b[0;34m\u001b[0m\u001b[0m\n\u001b[1;32m   3084\u001b[0m         \u001b[0;32mif\u001b[0m \u001b[0mtolerance\u001b[0m \u001b[0;32mis\u001b[0m \u001b[0;32mnot\u001b[0m \u001b[0;32mNone\u001b[0m\u001b[0;34m:\u001b[0m\u001b[0;34m\u001b[0m\u001b[0;34m\u001b[0m\u001b[0m\n",
      "\u001b[0;31mKeyError\u001b[0m: 'Scope'"
     ]
    }
   ],
   "source": []
  },
  {
   "cell_type": "code",
   "execution_count": 52,
   "metadata": {},
   "outputs": [
    {
     "name": "stdout",
     "output_type": "stream",
     "text": [
      "24218\n"
     ]
    }
   ],
   "source": [
    "Trace_id_different = relevant_data['Trace-id'].nunique()\n",
    "print(Trace_id_different)"
   ]
  },
  {
   "cell_type": "code",
   "execution_count": 53,
   "metadata": {
    "scrolled": true
   },
   "outputs": [
    {
     "name": "stdout",
     "output_type": "stream",
     "text": [
      "046b42d022083f3c07e46f6e41cd05f9    55\n",
      "0ee4f32a94335609bcac0d82419d0c7c    44\n",
      "627203bdd0b630fe435c2badac0ebc70    42\n",
      "f00ad553da7d7553eac70c53afdc992a    38\n",
      "23b0323eee6bcf3addfc406ba7c8e845    38\n",
      "                                    ..\n",
      "6a73a04f74effc6386d9749eab74d57b     4\n",
      "bc858a16476e0823f753b8026bfac291     4\n",
      "c24a8beaae42fc457320065f24fc1d12     3\n",
      "6f7d3891e16e85d58207458564407ed2     1\n",
      "9c19b84c509db21024c921adaa3c0f05     1\n",
      "Name: Trace-id, Length: 24218, dtype: int64\n"
     ]
    }
   ],
   "source": [
    "Trace_id_count = relevant_data['Trace-id'].value_counts()\n",
    "print(Trace_id_count)"
   ]
  },
  {
   "cell_type": "code",
   "execution_count": 54,
   "metadata": {},
   "outputs": [
    {
     "name": "stdout",
     "output_type": "stream",
     "text": [
      "                               Trace-id  \\\n",
      "0      0000ca9c0504724ec0352caf2d927e26   \n",
      "1      0001693fd167addef160ab0dddfb31d8   \n",
      "2      0001d8ca5b76e77d80a9a3ec83903f7d   \n",
      "3      0006743a3d496bd092ebc52c3d0b8791   \n",
      "4      0006891837e1c59dbd11546003c786df   \n",
      "...                                 ...   \n",
      "24213  ffee5ded9b0944613c41e0cddb213165   \n",
      "24214  fff376108641b89f77934773cfa9ead8   \n",
      "24215  fffb37a93fcf4db1abf19f01c54e891c   \n",
      "24216  fffbccd1228e81edfd22b2f63878fe11   \n",
      "24217  fffddf260aed4d430f3e5a7bf6be14a5   \n",
      "\n",
      "                                 Associated Status Codes  \n",
      "0                     [nan, nan, nan, 204.0, nan, 204.0]  \n",
      "1      [nan, nan, nan, nan, nan, nan, nan, nan, 200.0...  \n",
      "2                     [nan, nan, nan, 204.0, nan, 204.0]  \n",
      "3                     [nan, nan, nan, 204.0, nan, 204.0]  \n",
      "4      [nan, nan, nan, nan, nan, nan, nan, 200.0, nan...  \n",
      "...                                                  ...  \n",
      "24213  [nan, nan, nan, nan, nan, nan, nan, nan, 200.0...  \n",
      "24214  [nan, nan, nan, nan, nan, nan, nan, nan, 200.0...  \n",
      "24215       [nan, nan, nan, 200.0, nan, nan, nan, 200.0]  \n",
      "24216       [nan, nan, nan, 200.0, nan, nan, nan, 200.0]  \n",
      "24217       [nan, nan, nan, 200.0, nan, nan, nan, 200.0]  \n",
      "\n",
      "[24218 rows x 2 columns]\n",
      "Trace IDs without associated status codes:\n",
      "Empty DataFrame\n",
      "Columns: [Trace-id, Associated Status Codes]\n",
      "Index: []\n"
     ]
    }
   ],
   "source": [
    "# Group by 'Trace-id' and collect associated status codes\n",
    "trace_status = relevant_data.groupby('Trace-id')['HTTP Status Code'].apply(list).reset_index()\n",
    "\n",
    "# Rename columns for clarity\n",
    "trace_status.columns = ['Trace-id', 'Associated Status Codes']\n",
    "\n",
    "# Display trace IDs with their associated status codes\n",
    "print(trace_status)\n",
    "\n",
    "# Identify trace IDs without associated status codes (if any are null or empty)\n",
    "missing_status = trace_status[trace_status['Associated Status Codes'].apply(len) == 0]\n",
    "print(\"Trace IDs without associated status codes:\")\n",
    "print(missing_status)\n"
   ]
  },
  {
   "cell_type": "code",
   "execution_count": 73,
   "metadata": {},
   "outputs": [
    {
     "name": "stdout",
     "output_type": "stream",
     "text": [
      "                                Trace-id              Path\n",
      "9       60d518ec273ea0e4c19e010a213f446d           Unknown\n",
      "13      60d518ec273ea0e4c19e010a213f446d      /api/healthz\n",
      "14      e7089e4e5f6172199898d944f4eecb2d           Unknown\n",
      "15      c012824f5c58bedb5fcd9ac2bb08de69           Unknown\n",
      "19      c012824f5c58bedb5fcd9ac2bb08de69      /api/healthz\n",
      "...                                  ...               ...\n",
      "263071  d60a0fa2eeef9985449391d3a3c619a8      /api/healthz\n",
      "263079  c04e0c475d8a6a9e673f00ae3bb74e41           Unknown\n",
      "263084  c04e0c475d8a6a9e673f00ae3bb74e41  /api/v2/versions\n",
      "263092  e633e492116f3febe619bfed47449e89           Unknown\n",
      "263097  e633e492116f3febe619bfed47449e89  /api/v2/versions\n",
      "\n",
      "[36856 rows x 2 columns]\n"
     ]
    }
   ],
   "source": [
    "# Filter rows where HTTP Status Code is 200\n",
    "status_200_data = relevant_data[relevant_data['HTTP Status Code'] == 200]\n",
    "\n",
    "# Select the relevant columns: 'Trace-id' and 'Path'\n",
    "status_200_table = status_200_data[['Trace-id', 'Path']]\n",
    "\n",
    "# Display the table\n",
    "print(status_200_table)\n",
    "\n",
    "# (Optional) Save the table to a file\n",
    "status_200_table.to_csv(\"status_200_trace_path.csv\", index=False)\n"
   ]
  },
  {
   "cell_type": "code",
   "execution_count": 74,
   "metadata": {},
   "outputs": [
    {
     "data": {
      "text/plain": [
       "Trace-id                          Path            \n",
       "046b42d022083f3c07e46f6e41cd05f9  Unknown             21\n",
       "627203bdd0b630fe435c2badac0ebc70  Unknown             15\n",
       "0ee4f32a94335609bcac0d82419d0c7c  Unknown             14\n",
       "5347038900432646491cce6490137bf9  Unknown             13\n",
       "e3e24eff73a1dc04661569b0cf84bfdc  Unknown             13\n",
       "                                                      ..\n",
       "59458de496f9fa1ebc5835d4c176744a  /api/v2/versions     1\n",
       "59421904a921d36eec42533c9823a85a  Unknown              1\n",
       "                                  /api/v2/versions     1\n",
       "5940fa2e99aa9df0356cbc8f2f4bbbde  Unknown              1\n",
       "fffddf260aed4d430f3e5a7bf6be14a5  Unknown              1\n",
       "Length: 34296, dtype: int64"
      ]
     },
     "execution_count": 74,
     "metadata": {},
     "output_type": "execute_result"
    }
   ],
   "source": [
    "status_200_data[['Trace-id', 'Path']].value_counts()"
   ]
  },
  {
   "cell_type": "code",
   "execution_count": 75,
   "metadata": {
    "scrolled": true
   },
   "outputs": [
    {
     "data": {
      "text/plain": [
       "Trace-id                 17153\n",
       "Message                  20342\n",
       "Path                      1640\n",
       "User Agent                   1\n",
       "HTTP Status Code             1\n",
       "Timestamp                36856\n",
       "HTTP_Method                  3\n",
       "Endpoint                  1875\n",
       "Status_Category              1\n",
       "Is_Suspicious                1\n",
       "Extracted_Status_Code       51\n",
       "dtype: int64"
      ]
     },
     "execution_count": 75,
     "metadata": {},
     "output_type": "execute_result"
    }
   ],
   "source": [
    "relevant_data[relevant_data['HTTP Status Code'] == 200].nunique()"
   ]
  },
  {
   "cell_type": "code",
   "execution_count": 78,
   "metadata": {},
   "outputs": [
    {
     "name": "stdout",
     "output_type": "stream",
     "text": [
      "                                Trace-id  \\\n",
      "9       60d518ec273ea0e4c19e010a213f446d   \n",
      "13      60d518ec273ea0e4c19e010a213f446d   \n",
      "14      e7089e4e5f6172199898d944f4eecb2d   \n",
      "15      c012824f5c58bedb5fcd9ac2bb08de69   \n",
      "19      c012824f5c58bedb5fcd9ac2bb08de69   \n",
      "...                                  ...   \n",
      "263071  d60a0fa2eeef9985449391d3a3c619a8   \n",
      "263079  c04e0c475d8a6a9e673f00ae3bb74e41   \n",
      "263084  c04e0c475d8a6a9e673f00ae3bb74e41   \n",
      "263092  e633e492116f3febe619bfed47449e89   \n",
      "263097  e633e492116f3febe619bfed47449e89   \n",
      "\n",
      "                                                  Message              Path  \n",
      "9       Response:\\nStatusCode: 200\\nContent-Type: appl...           Unknown  \n",
      "13      Request finished HTTP/1.1 GET http://api.owds....      /api/healthz  \n",
      "14      Response:\\nStatusCode: 200\\nContent-Type: appl...           Unknown  \n",
      "15      Response:\\nStatusCode: 200\\nContent-Type: appl...           Unknown  \n",
      "19      Request finished HTTP/1.1 GET http://api.owds....      /api/healthz  \n",
      "...                                                   ...               ...  \n",
      "263071  Request finished HTTP/1.1 GET http://api.owds....      /api/healthz  \n",
      "263079  Response:\\nStatusCode: 200\\nContent-Type: appl...           Unknown  \n",
      "263084  Request finished HTTP/1.1 GET http://api.owds....  /api/v2/versions  \n",
      "263092  Response:\\nStatusCode: 200\\nContent-Type: appl...           Unknown  \n",
      "263097  Request finished HTTP/1.1 GET http://api.owds....  /api/v2/versions  \n",
      "\n",
      "[36856 rows x 3 columns]\n"
     ]
    }
   ],
   "source": [
    "# Filter rows where the HTTP Status Code is 404\n",
    "table_200 = relevant_data[relevant_data['HTTP Status Code'] == 200][['Trace-id', 'Message', 'Path']]\n",
    "\n",
    "# Display the table\n",
    "print(table_200)\n"
   ]
  },
  {
   "cell_type": "code",
   "execution_count": 80,
   "metadata": {},
   "outputs": [],
   "source": [
    "# Saving the filtered table to an Excel file\n",
    "table_200.to_excel('/Users/vatsal/Desktop/trace_id_200_status_code.xlsx', index=False)\n"
   ]
  },
  {
   "cell_type": "code",
   "execution_count": 81,
   "metadata": {},
   "outputs": [
    {
     "data": {
      "image/png": "[encoded data removed]",
      "text/plain": [
       "<Figure size 720x432 with 1 Axes>"
      ]
     },
     "metadata": {},
     "output_type": "display_data"
    }
   ],
   "source": [
    "import matplotlib.pyplot as plt\n",
    "\n",
    "# Filter data for 200 and 404 status codes\n",
    "data_200 = relevant_data[relevant_data['HTTP Status Code'] == 200]\n",
    "data_404 = relevant_data[relevant_data['HTTP Status Code'] == 404]\n",
    "\n",
    "# Count unique trace IDs and paths\n",
    "comparison_data = {\n",
    "    'Status Code': ['200', '404'],\n",
    "    'Unique Trace IDs': [data_200['Trace-id'].nunique(), data_404['Trace-id'].nunique()],\n",
    "    'Unique Paths': [data_200['Path'].nunique(), data_404['Path'].nunique()]\n",
    "}\n",
    "\n",
    "# Create a DataFrame for visualization\n",
    "comparison_df = pd.DataFrame(comparison_data)\n",
    "\n",
    "# Plot the grouped bar chart\n",
    "x = range(len(comparison_df))\n",
    "width = 0.4\n",
    "\n",
    "plt.figure(figsize=(10, 6))\n",
    "plt.bar(x, comparison_df['Unique Trace IDs'], width, label='Unique Trace IDs', color='skyblue')\n",
    "plt.bar([i + width for i in x], comparison_df['Unique Paths'], width, label='Unique Paths', color='orange')\n",
    "\n",
    "# Add labels and title\n",
    "plt.xticks([i + width / 2 for i in x], comparison_df['Status Code'])\n",
    "plt.xlabel('HTTP Status Code')\n",
    "plt.ylabel('Count')\n",
    "plt.title('Comparison of Unique Trace IDs and Paths for 200 vs 404 Status Codes')\n",
    "plt.legend()\n",
    "\n",
    "# Show the chart\n",
    "plt.tight_layout()\n",
    "plt.show()\n"
   ]
  },
  {
   "cell_type": "code",
   "execution_count": 2,
   "metadata": {},
   "outputs": [
    {
     "name": "stderr",
     "output_type": "stream",
     "text": [
      "/Users/vatsal/opt/anaconda3/lib/python3.8/site-packages/IPython/core/interactiveshell.py:3071: DtypeWarning: Columns (9) have mixed types.Specify dtype option on import or set low_memory=False.\n",
      "  has_raised = await self.run_ast_nodes(code_ast.body, cell_name,\n"
     ]
    },
    {
     "name": "stdout",
     "output_type": "stream",
     "text": [
      "Initial DataFrame Structure:\n",
      "   Level                     Timestamp  PID  \\\n",
      "0  INFO  2024-11-29T23:00:22.7045112Z  668   \n",
      "1  INFO  2024-11-29T23:00:22.7065968Z  668   \n",
      "2  INFO  2024-11-29T23:00:22.7104302Z  668   \n",
      "3  INFO  2024-11-29T23:00:22.7112929Z  668   \n",
      "4  INFO  2024-11-29T23:00:22.7124052Z  668   \n",
      "\n",
      "                                              Logger  \\\n",
      "0           Microsoft.AspNetCore.Hosting.Diagnostics   \n",
      "1  Microsoft.AspNetCore.HttpLogging.HttpLoggingMi...   \n",
      "2    Microsoft.AspNetCore.Routing.EndpointMiddleware   \n",
      "3  Microsoft.AspNetCore.Mvc.Infrastructure.Contro...   \n",
      "4  Microsoft.AspNetCore.Mvc.Infrastructure.Contro...   \n",
      "\n",
      "                                             Message  \\\n",
      "0  Request starting HTTP/1.1 GET http://api.owds....   \n",
      "1  Request:\\nProtocol: HTTP/1.1\\nMethod: GET\\nSch...   \n",
      "2  Executing endpoint 'Ofcas.Datasafe.WebApi.Cont...   \n",
      "3  Route matched with {action = \"GetApiVersionsV2...   \n",
      "4  Executing action method Ofcas.Datasafe.WebApi....   \n",
      "\n",
      "                                               Scope  \\\n",
      "0  {'ParentId': '0000000000000000', 'ConnectionId...   \n",
      "1  {'ParentId': '0000000000000000', 'ConnectionId...   \n",
      "2  {'ParentId': '0000000000000000', 'ConnectionId...   \n",
      "3  {'ParentId': '0000000000000000', 'ConnectionId...   \n",
      "4  {'ParentId': '0000000000000000', 'ConnectionId...   \n",
      "\n",
      "                                         Application  \\\n",
      "0  {'Name': 'Ofcas.Datasafe.WebApi', 'Version': '...   \n",
      "1  {'Name': 'Ofcas.Datasafe.WebApi', 'Version': '...   \n",
      "2  {'Name': 'Ofcas.Datasafe.WebApi', 'Version': '...   \n",
      "3  {'Name': 'Ofcas.Datasafe.WebApi', 'Version': '...   \n",
      "4  {'Name': 'Ofcas.Datasafe.WebApi', 'Version': '...   \n",
      "\n",
      "                                               State  \\\n",
      "0  {'Protocol': 'HTTP/1.1', 'Method': 'GET', 'Con...   \n",
      "1  {'Protocol': 'HTTP/1.1', 'Method': 'GET', 'Sch...   \n",
      "2  {'EndpointName': 'Ofcas.Datasafe.WebApi.Contro...   \n",
      "3  {'RouteData': '{action = \"GetApiVersionsV2\", c...   \n",
      "4  {'ActionName': 'Ofcas.Datasafe.WebApi.Controll...   \n",
      "\n",
      "                                            EventId Exception  \n",
      "0                           {'Id': 1, 'Name': None}       NaN  \n",
      "1                   {'Id': 1, 'Name': 'RequestLog'}       NaN  \n",
      "2            {'Id': 0, 'Name': 'ExecutingEndpoint'}       NaN  \n",
      "3  {'Id': 102, 'Name': 'ControllerActionExecuting'}       NaN  \n",
      "4      {'Id': 101, 'Name': 'ActionMethodExecuting'}       NaN  \n"
     ]
    },
    {
     "ename": "ValueError",
     "evalue": "The following required columns are missing in the dataset: {'trace_id', 'path', 'status_code', 'user_agent', 'timestamp'}",
     "output_type": "error",
     "traceback": [
      "\u001b[0;31m---------------------------------------------------------------------------\u001b[0m",
      "\u001b[0;31mValueError\u001b[0m                                Traceback (most recent call last)",
      "\u001b[0;32m<ipython-input-2-797465a2daea>\u001b[0m in \u001b[0;36m<module>\u001b[0;34m\u001b[0m\n\u001b[1;32m     19\u001b[0m \u001b[0;32melse\u001b[0m\u001b[0;34m:\u001b[0m\u001b[0;34m\u001b[0m\u001b[0;34m\u001b[0m\u001b[0m\n\u001b[1;32m     20\u001b[0m     \u001b[0mmissing_columns\u001b[0m \u001b[0;34m=\u001b[0m \u001b[0mset\u001b[0m\u001b[0;34m(\u001b[0m\u001b[0mcolumns_to_select\u001b[0m\u001b[0;34m)\u001b[0m \u001b[0;34m-\u001b[0m \u001b[0mset\u001b[0m\u001b[0;34m(\u001b[0m\u001b[0mdf\u001b[0m\u001b[0;34m.\u001b[0m\u001b[0mcolumns\u001b[0m\u001b[0;34m)\u001b[0m\u001b[0;34m\u001b[0m\u001b[0;34m\u001b[0m\u001b[0m\n\u001b[0;32m---> 21\u001b[0;31m     \u001b[0;32mraise\u001b[0m \u001b[0mValueError\u001b[0m\u001b[0;34m(\u001b[0m\u001b[0;34mf\"The following required columns are missing in the dataset: {missing_columns}\"\u001b[0m\u001b[0;34m)\u001b[0m\u001b[0;34m\u001b[0m\u001b[0;34m\u001b[0m\u001b[0m\n\u001b[0m\u001b[1;32m     22\u001b[0m \u001b[0;34m\u001b[0m\u001b[0m\n\u001b[1;32m     23\u001b[0m \u001b[0;31m# Display the selected DataFrame\u001b[0m\u001b[0;34m\u001b[0m\u001b[0;34m\u001b[0m\u001b[0;34m\u001b[0m\u001b[0m\n",
      "\u001b[0;31mValueError\u001b[0m: The following required columns are missing in the dataset: {'trace_id', 'path', 'status_code', 'user_agent', 'timestamp'}"
     ]
    }
   ],
   "source": [
    "import pandas as pd\n",
    "\n",
    "# File path to the merged CSV\n",
    "input_csv_path = \"/Users/vatsal/Desktop/SimplyTag/merged_logs.csv\"\n",
    "output_csv_path = \"/Users/vatsal/Desktop/SimplyTag/selected_data.csv\"\n",
    "\n",
    "# Load the merged CSV into a DataFrame\n",
    "df = pd.read_csv(input_csv_path)\n",
    "\n",
    "# Display the first few rows to inspect the data structure\n",
    "print(\"Initial DataFrame Structure:\\n\", df.head())\n",
    "\n",
    "# Columns to retain for analysis\n",
    "columns_to_select = ['trace_id', 'status_code', 'path', 'user_agent', 'timestamp']\n",
    "\n",
    "# Select only the necessary columns\n",
    "if set(columns_to_select).issubset(df.columns):\n",
    "    selected_df = df[columns_to_select]\n",
    "else:\n",
    "    missing_columns = set(columns_to_select) - set(df.columns)\n",
    "    raise ValueError(f\"The following required columns are missing in the dataset: {missing_columns}\")\n",
    "\n",
    "# Display the selected DataFrame\n",
    "print(\"Selected Columns DataFrame:\\n\", selected_df.head())\n",
    "\n",
    "# Save the selected data to a new CSV file\n",
    "selected_df.to_csv(output_csv_path, index=False)\n",
    "print(f\"Selected data has been saved to {output_csv_path}\")\n"
   ]
  },
  {
   "cell_type": "code",
   "execution_count": 4,
   "metadata": {},
   "outputs": [
    {
     "name": "stdout",
     "output_type": "stream",
     "text": [
      "Available Columns:\n",
      " Index(['Level', 'Timestamp', 'PID', 'Logger', 'Message', 'Scope',\n",
      "       'Application', 'State', 'EventId', 'Exception'],\n",
      "      dtype='object')\n"
     ]
    },
    {
     "ename": "ValueError",
     "evalue": "The following required columns are missing in the dataset: {'status_code', 'user_agent', 'path', 'trace_id'}",
     "output_type": "error",
     "traceback": [
      "\u001b[0;31m---------------------------------------------------------------------------\u001b[0m",
      "\u001b[0;31mValueError\u001b[0m                                Traceback (most recent call last)",
      "\u001b[0;32m<ipython-input-4-860b12d553a4>\u001b[0m in \u001b[0;36m<module>\u001b[0;34m\u001b[0m\n\u001b[1;32m     22\u001b[0m \u001b[0;32melse\u001b[0m\u001b[0;34m:\u001b[0m\u001b[0;34m\u001b[0m\u001b[0;34m\u001b[0m\u001b[0m\n\u001b[1;32m     23\u001b[0m     \u001b[0mmissing_columns\u001b[0m \u001b[0;34m=\u001b[0m \u001b[0mset\u001b[0m\u001b[0;34m(\u001b[0m\u001b[0mcolumns_to_select\u001b[0m\u001b[0;34m)\u001b[0m \u001b[0;34m-\u001b[0m \u001b[0mset\u001b[0m\u001b[0;34m(\u001b[0m\u001b[0mdf\u001b[0m\u001b[0;34m.\u001b[0m\u001b[0mcolumns\u001b[0m\u001b[0;34m)\u001b[0m\u001b[0;34m\u001b[0m\u001b[0;34m\u001b[0m\u001b[0m\n\u001b[0;32m---> 24\u001b[0;31m     \u001b[0;32mraise\u001b[0m \u001b[0mValueError\u001b[0m\u001b[0;34m(\u001b[0m\u001b[0;34mf\"The following required columns are missing in the dataset: {missing_columns}\"\u001b[0m\u001b[0;34m)\u001b[0m\u001b[0;34m\u001b[0m\u001b[0;34m\u001b[0m\u001b[0m\n\u001b[0m\u001b[1;32m     25\u001b[0m \u001b[0;34m\u001b[0m\u001b[0m\n\u001b[1;32m     26\u001b[0m \u001b[0;31m# Display the selected data\u001b[0m\u001b[0;34m\u001b[0m\u001b[0;34m\u001b[0m\u001b[0;34m\u001b[0m\u001b[0m\n",
      "\u001b[0;31mValueError\u001b[0m: The following required columns are missing in the dataset: {'status_code', 'user_agent', 'path', 'trace_id'}"
     ]
    }
   ],
   "source": [
    "import pandas as pd\n",
    "\n",
    "# File path to the merged CSV\n",
    "input_csv_path = \"/Users/vatsal/Desktop/SimplyTag/merged_logs.csv\"\n",
    "output_csv_path = \"/Users/vatsal/Desktop/SimplyTag/selected_data.csv\"\n",
    "\n",
    "# Load the CSV file with low_memory=False to avoid DtypeWarning\n",
    "df = pd.read_csv(input_csv_path, low_memory=False)\n",
    "\n",
    "# Display the column names to inspect\n",
    "print(\"Available Columns:\\n\", df.columns)\n",
    "\n",
    "# Clean column names (strip leading/trailing whitespaces and convert to lowercase)\n",
    "df.columns = df.columns.str.strip().str.lower()\n",
    "\n",
    "# Standardized column names for selection\n",
    "columns_to_select = ['trace_id', 'status_code', 'path', 'user_agent', 'timestamp']\n",
    "\n",
    "# Check if required columns are present\n",
    "if set(columns_to_select).issubset(df.columns):\n",
    "    selected_df = df[columns_to_select]\n",
    "else:\n",
    "    missing_columns = set(columns_to_select) - set(df.columns)\n",
    "    raise ValueError(f\"The following required columns are missing in the dataset: {missing_columns}\")\n",
    "\n",
    "# Display the selected data\n",
    "print(\"Selected Columns DataFrame:\\n\", selected_df.head())\n",
    "\n",
    "# Save the selected data to a new CSV file\n",
    "selected_df.to_csv(output_csv_path, index=False)\n",
    "print(f\"Selected data has been saved to {output_csv_path}\")\n"
   ]
  },
  {
   "cell_type": "code",
   "execution_count": 11,
   "metadata": {},
   "outputs": [
    {
     "name": "stdout",
     "output_type": "stream",
     "text": [
      "Sample Entry:\n",
      " Level                                                       INFO\n",
      "Timestamp                           2024-11-29T23:00:22.7045112Z\n",
      "PID                                                          668\n",
      "Logger                  Microsoft.AspNetCore.Hosting.Diagnostics\n",
      "Message        Request starting HTTP/1.1 GET http://api.owds....\n",
      "Scope          {'ParentId': '0000000000000000', 'ConnectionId...\n",
      "Application    {'Name': 'Ofcas.Datasafe.WebApi', 'Version': '...\n",
      "State          {'Protocol': 'HTTP/1.1', 'Method': 'GET', 'Con...\n",
      "EventId                                  {'Id': 1, 'Name': None}\n",
      "Exception                                                    NaN\n",
      "Name: 0, dtype: object\n",
      "  Trace-id HTTP Status Code  Path User Agent\n",
      "0     None             None  None       None\n",
      "1     None             None  None       None\n",
      "2     None             None  None       None\n",
      "3     None             None  None       None\n",
      "4     None             None  None       None\n",
      "Extracted Data:\n",
      "                       Timestamp Trace-id HTTP Status Code  Path User Agent\n",
      "0  2024-11-29T23:00:22.7045112Z     None             None  None       None\n",
      "1  2024-11-29T23:00:22.7065968Z     None             None  None       None\n",
      "2  2024-11-29T23:00:22.7104302Z     None             None  None       None\n",
      "3  2024-11-29T23:00:22.7112929Z     None             None  None       None\n",
      "4  2024-11-29T23:00:22.7124052Z     None             None  None       None\n",
      "Selected data has been saved to /Users/vatsal/Desktop/SimplyTag/selected_data.csv\n"
     ]
    }
   ],
   "source": [
    "import pandas as pd\n",
    "import json\n",
    "\n",
    "# File path to the merged CSV\n",
    "input_csv_path = \"/Users/vatsal/Desktop/SimplyTag/merged_logs.csv\"\n",
    "output_csv_path = \"/Users/vatsal/Desktop/SimplyTag/selected_data.csv\"\n",
    "\n",
    "# Load the CSV file with low_memory=False to avoid DtypeWarning\n",
    "df = pd.read_csv(input_csv_path, low_memory=False)\n",
    "\n",
    "# Inspect one entry to verify the structure of nested JSON\n",
    "print(\"Sample Entry:\\n\", df.iloc[0])\n",
    "\n",
    "\n",
    "# Extract specific fields directly from 'State'\n",
    "df['Trace-id'] = df['Scope'].apply(lambda x: x.get('TraceId') if isinstance(x, dict) else None)\n",
    "df['HTTP Status Code'] = df['State'].apply(lambda x: x.get('StatusCode') if isinstance(x, dict) else None)\n",
    "df['Path'] = df['State'].apply(lambda x: x.get('Path') if isinstance(x, dict) else None)\n",
    "df['User Agent'] = df['State'].apply(lambda x: x.get('UserAgent') if isinstance(x, dict) else None)\n",
    "\n",
    "# Print columns to verify\n",
    "print(df[['Trace-id', 'HTTP Status Code', 'Path', 'User Agent']].head())\n",
    "\n",
    "\n",
    "# Attempt to extract fields from nested JSON in relevant columns\n",
    "# Adjust these field names ('State', 'Scope') as per your dataset structure\n",
    "#df['trace_id'] = df['Scope'].apply(lambda x: json.loads(x).get('TraceId') if isinstance(x, str) else None)\n",
    "#df['status_code'] = df['State'].apply(lambda x: json.loads(x).get('StatusCode') if isinstance(x, str) else None)\n",
    "#df['path'] = df['State'].apply(lambda x: json.loads(x).get('Path') if isinstance(x, str) else None)\n",
    "#df['user_agent'] = df['State'].apply(lambda x: json.loads(x).get('UserAgent') if isinstance(x, str) else None)\n",
    "#df['timestamp'] = df['State'].apply(lambda x: json.loads(x).get('Timestamp') if isinstance(x, str) else None)\n",
    "\n",
    "# Check if all required fields are extracted\n",
    "print(\"Extracted Data:\\n\", df[['Timestamp', 'Trace-id', 'HTTP Status Code', 'Path', 'User Agent']].head())\n",
    "\n",
    "# Drop any rows where critical fields are missing (optional)\n",
    "#df_cleaned = df.dropna(subset=['trace_id', 'status_code', 'path', 'user_agent', 'timestamp'])\n",
    "\n",
    "# Save the selected data to a new CSV file\n",
    "df[['Timestamp', 'Trace-id', 'HTTP Status Code', 'Path', 'User Agent', 'Timestamp']].to_csv(output_csv_path, index=False)\n",
    "print(f\"Selected data has been saved to {output_csv_path}\")\n"
   ]
  },
  {
   "cell_type": "code",
   "execution_count": 1,
   "metadata": {},
   "outputs": [
    {
     "name": "stdout",
     "output_type": "stream",
     "text": [
      "Adding file: /Users/vatsal/Desktop/SimplyTag/orgadata-st8.log\n",
      "Adding file: /Users/vatsal/Desktop/SimplyTag/combined_logs.log\n",
      "Adding file: /Users/vatsal/Desktop/SimplyTag/orgadata-st4.log\n",
      "Adding file: /Users/vatsal/Desktop/SimplyTag/orgadata-st5.log\n",
      "Adding file: /Users/vatsal/Desktop/SimplyTag/orgadata-st7.log\n",
      "Adding file: /Users/vatsal/Desktop/SimplyTag/orgadata-st6.log\n",
      "Adding file: /Users/vatsal/Desktop/SimplyTag/orgadata-st2.log\n",
      "Adding file: /Users/vatsal/Desktop/SimplyTag/orgadata-st3.log\n",
      "Adding file: /Users/vatsal/Desktop/SimplyTag/orgadata-st1.log\n",
      "Adding file: /Users/vatsal/Desktop/SimplyTag/orgadata-st0.log\n",
      "All .log files combined into: /Users/vatsal/Desktop/SimplyTag/combined_logs.log\n"
     ]
    }
   ],
   "source": [
    "import os\n",
    "\n",
    "# Folder path containing all .log files\n",
    "folder_path = \"/Users/vatsal/Desktop/SimplyTag\"  # Replace with your folder path\n",
    "combined_log_file = \"/Users/vatsal/Desktop/SimplyTag/combined_logs.log\"\n",
    "\n",
    "# Open the combined log file in write mode\n",
    "with open(combined_log_file, \"w\") as outfile:\n",
    "    for file_name in os.listdir(folder_path):\n",
    "        if file_name.endswith(\".log\"):  # Check if the file is a .log file\n",
    "            log_file_path = os.path.join(folder_path, file_name)\n",
    "            print(f\"Adding file: {log_file_path}\")\n",
    "            \n",
    "            # Open each log file and append its content to the combined file\n",
    "            with open(log_file_path, \"r\") as infile:\n",
    "                outfile.write(infile.read())\n",
    "                outfile.write(\"\\n\")  # Add a newline for separation\n",
    "print(f\"All .log files combined into: {combined_log_file}\")\n"
   ]
  },
  {
   "cell_type": "code",
   "execution_count": 2,
   "metadata": {},
   "outputs": [
    {
     "name": "stdout",
     "output_type": "stream",
     "text": [
      "Combined log data successfully converted to CSV and saved at /Users/vatsal/Desktop/SimplyTag/combined_logs.csv\n"
     ]
    }
   ],
   "source": [
    "import json\n",
    "import pandas as pd\n",
    "\n",
    "# Path to the combined log file and output CSV file\n",
    "combined_log_file = \"/Users/vatsal/Desktop/SimplyTag/combined_logs.log\"\n",
    "output_csv_path = \"/Users/vatsal/Desktop/SimplyTag/combined_logs.csv\"\n",
    "\n",
    "# Initialize a list to store JSON data\n",
    "log_data = []\n",
    "\n",
    "# Read the combined log file line by line\n",
    "with open(combined_log_file, \"r\") as file:\n",
    "    for line in file:\n",
    "        # Find the JSON part of each line\n",
    "        json_start = line.find('{')\n",
    "        if json_start != -1:\n",
    "            json_data = line[json_start:].strip()\n",
    "            try:\n",
    "                # Parse the JSON and append it to the list\n",
    "                log_data.append(json.loads(json_data))\n",
    "            except json.JSONDecodeError:\n",
    "                print(f\"Skipping invalid JSON: {json_data}\")\n",
    "\n",
    "# Convert the list of JSON objects to a DataFrame\n",
    "if log_data:\n",
    "    df = pd.DataFrame(log_data)\n",
    "\n",
    "    # Save the DataFrame to a CSV file\n",
    "    df.to_csv(output_csv_path, index=False)\n",
    "    print(f\"Combined log data successfully converted to CSV and saved at {output_csv_path}\")\n",
    "else:\n",
    "    print(\"No valid log entries found in the combined log file.\")\n"
   ]
  },
  {
   "cell_type": "code",
   "execution_count": 4,
   "metadata": {},
   "outputs": [],
   "source": [
    "import pandas as pd\n",
    "df1 = pd.read_csv(\"/Users/vatsal/Desktop/SimplyTag/combined_logs.csv\", low_memory=False)"
   ]
  },
  {
   "cell_type": "code",
   "execution_count": 5,
   "metadata": {},
   "outputs": [
    {
     "data": {
      "text/html": [
       "<div>\n",
       "<style scoped>\n",
       "    .dataframe tbody tr th:only-of-type {\n",
       "        vertical-align: middle;\n",
       "    }\n",
       "\n",
       "    .dataframe tbody tr th {\n",
       "        vertical-align: top;\n",
       "    }\n",
       "\n",
       "    .dataframe thead th {\n",
       "        text-align: right;\n",
       "    }\n",
       "</style>\n",
       "<table border=\"1\" class=\"dataframe\">\n",
       "  <thead>\n",
       "    <tr style=\"text-align: right;\">\n",
       "      <th></th>\n",
       "      <th>Level</th>\n",
       "      <th>Timestamp</th>\n",
       "      <th>PID</th>\n",
       "      <th>Logger</th>\n",
       "      <th>Message</th>\n",
       "      <th>Scope</th>\n",
       "      <th>Application</th>\n",
       "      <th>State</th>\n",
       "      <th>EventId</th>\n",
       "      <th>Exception</th>\n",
       "    </tr>\n",
       "  </thead>\n",
       "  <tbody>\n",
       "    <tr>\n",
       "      <th>0</th>\n",
       "      <td>INFO</td>\n",
       "      <td>2024-11-29T23:00:22.7045112Z</td>\n",
       "      <td>668</td>\n",
       "      <td>Microsoft.AspNetCore.Hosting.Diagnostics</td>\n",
       "      <td>Request starting HTTP/1.1 GET http://api.owds....</td>\n",
       "      <td>{'ParentId': '0000000000000000', 'ConnectionId...</td>\n",
       "      <td>{'Name': 'Ofcas.Datasafe.WebApi', 'Version': '...</td>\n",
       "      <td>{'Protocol': 'HTTP/1.1', 'Method': 'GET', 'Con...</td>\n",
       "      <td>{'Id': 1, 'Name': None}</td>\n",
       "      <td>NaN</td>\n",
       "    </tr>\n",
       "    <tr>\n",
       "      <th>1</th>\n",
       "      <td>INFO</td>\n",
       "      <td>2024-11-29T23:00:22.7065968Z</td>\n",
       "      <td>668</td>\n",
       "      <td>Microsoft.AspNetCore.HttpLogging.HttpLoggingMi...</td>\n",
       "      <td>Request:\\nProtocol: HTTP/1.1\\nMethod: GET\\nSch...</td>\n",
       "      <td>{'ParentId': '0000000000000000', 'ConnectionId...</td>\n",
       "      <td>{'Name': 'Ofcas.Datasafe.WebApi', 'Version': '...</td>\n",
       "      <td>{'Protocol': 'HTTP/1.1', 'Method': 'GET', 'Sch...</td>\n",
       "      <td>{'Id': 1, 'Name': 'RequestLog'}</td>\n",
       "      <td>NaN</td>\n",
       "    </tr>\n",
       "    <tr>\n",
       "      <th>2</th>\n",
       "      <td>INFO</td>\n",
       "      <td>2024-11-29T23:00:22.7104302Z</td>\n",
       "      <td>668</td>\n",
       "      <td>Microsoft.AspNetCore.Routing.EndpointMiddleware</td>\n",
       "      <td>Executing endpoint 'Ofcas.Datasafe.WebApi.Cont...</td>\n",
       "      <td>{'ParentId': '0000000000000000', 'ConnectionId...</td>\n",
       "      <td>{'Name': 'Ofcas.Datasafe.WebApi', 'Version': '...</td>\n",
       "      <td>{'EndpointName': 'Ofcas.Datasafe.WebApi.Contro...</td>\n",
       "      <td>{'Id': 0, 'Name': 'ExecutingEndpoint'}</td>\n",
       "      <td>NaN</td>\n",
       "    </tr>\n",
       "    <tr>\n",
       "      <th>3</th>\n",
       "      <td>INFO</td>\n",
       "      <td>2024-11-29T23:00:22.7112929Z</td>\n",
       "      <td>668</td>\n",
       "      <td>Microsoft.AspNetCore.Mvc.Infrastructure.Contro...</td>\n",
       "      <td>Route matched with {action = \"GetApiVersionsV2...</td>\n",
       "      <td>{'ParentId': '0000000000000000', 'ConnectionId...</td>\n",
       "      <td>{'Name': 'Ofcas.Datasafe.WebApi', 'Version': '...</td>\n",
       "      <td>{'RouteData': '{action = \"GetApiVersionsV2\", c...</td>\n",
       "      <td>{'Id': 102, 'Name': 'ControllerActionExecuting'}</td>\n",
       "      <td>NaN</td>\n",
       "    </tr>\n",
       "    <tr>\n",
       "      <th>4</th>\n",
       "      <td>INFO</td>\n",
       "      <td>2024-11-29T23:00:22.7124052Z</td>\n",
       "      <td>668</td>\n",
       "      <td>Microsoft.AspNetCore.Mvc.Infrastructure.Contro...</td>\n",
       "      <td>Executing action method Ofcas.Datasafe.WebApi....</td>\n",
       "      <td>{'ParentId': '0000000000000000', 'ConnectionId...</td>\n",
       "      <td>{'Name': 'Ofcas.Datasafe.WebApi', 'Version': '...</td>\n",
       "      <td>{'ActionName': 'Ofcas.Datasafe.WebApi.Controll...</td>\n",
       "      <td>{'Id': 101, 'Name': 'ActionMethodExecuting'}</td>\n",
       "      <td>NaN</td>\n",
       "    </tr>\n",
       "    <tr>\n",
       "      <th>...</th>\n",
       "      <td>...</td>\n",
       "      <td>...</td>\n",
       "      <td>...</td>\n",
       "      <td>...</td>\n",
       "      <td>...</td>\n",
       "      <td>...</td>\n",
       "      <td>...</td>\n",
       "      <td>...</td>\n",
       "      <td>...</td>\n",
       "      <td>...</td>\n",
       "    </tr>\n",
       "    <tr>\n",
       "      <th>2248104</th>\n",
       "      <td>INFO</td>\n",
       "      <td>2024-11-19T23:00:03.2857262Z</td>\n",
       "      <td>2151322</td>\n",
       "      <td>Microsoft.AspNetCore.Mvc.Infrastructure.Contro...</td>\n",
       "      <td>Executed action Ofcas.Datasafe.WebApi.Controll...</td>\n",
       "      <td>{'SpanId': 'c5f709aa31ba03d3', 'ParentId': '00...</td>\n",
       "      <td>{'Name': 'Ofcas.Datasafe.WebApi', 'Version': '...</td>\n",
       "      <td>{'ActionName': 'Ofcas.Datasafe.WebApi.Controll...</td>\n",
       "      <td>{'Id': 105, 'Name': 'ActionExecuted'}</td>\n",
       "      <td>NaN</td>\n",
       "    </tr>\n",
       "    <tr>\n",
       "      <th>2248105</th>\n",
       "      <td>INFO</td>\n",
       "      <td>2024-11-19T23:00:03.2859194Z</td>\n",
       "      <td>2151322</td>\n",
       "      <td>Microsoft.AspNetCore.Routing.EndpointMiddleware</td>\n",
       "      <td>Executed endpoint 'Ofcas.Datasafe.WebApi.Contr...</td>\n",
       "      <td>{'SpanId': 'c5f709aa31ba03d3', 'ParentId': '00...</td>\n",
       "      <td>{'Name': 'Ofcas.Datasafe.WebApi', 'Version': '...</td>\n",
       "      <td>{'EndpointName': 'Ofcas.Datasafe.WebApi.Contro...</td>\n",
       "      <td>{'Id': 1, 'Name': 'ExecutedEndpoint'}</td>\n",
       "      <td>NaN</td>\n",
       "    </tr>\n",
       "    <tr>\n",
       "      <th>2248106</th>\n",
       "      <td>INFO</td>\n",
       "      <td>2024-11-19T23:00:03.2861440Z</td>\n",
       "      <td>2151322</td>\n",
       "      <td>Microsoft.AspNetCore.HttpLogging.HttpLoggingMi...</td>\n",
       "      <td>ResponseBody: {\"assemblyVersion\":\"1.81.0+4ae2c...</td>\n",
       "      <td>{'SpanId': 'c5f709aa31ba03d3', 'ParentId': '00...</td>\n",
       "      <td>{'Name': 'Ofcas.Datasafe.WebApi', 'Version': '...</td>\n",
       "      <td>{'Body': '{\"assemblyVersion\":\"1.81.0+4ae2cf530...</td>\n",
       "      <td>{'Id': 4, 'Name': 'ResponseBody'}</td>\n",
       "      <td>NaN</td>\n",
       "    </tr>\n",
       "    <tr>\n",
       "      <th>2248107</th>\n",
       "      <td>INFO</td>\n",
       "      <td>2024-11-19T23:00:03.2863937Z</td>\n",
       "      <td>2151322</td>\n",
       "      <td>Microsoft.AspNetCore.HttpLogging.HttpLoggingMi...</td>\n",
       "      <td>Duration: 4.1801ms</td>\n",
       "      <td>{'SpanId': 'c5f709aa31ba03d3', 'ParentId': '00...</td>\n",
       "      <td>{'Name': 'Ofcas.Datasafe.WebApi', 'Version': '...</td>\n",
       "      <td>{'Duration': 4.1801, '{OriginalFormat}': 'Dura...</td>\n",
       "      <td>{'Id': 8, 'Name': 'Duration'}</td>\n",
       "      <td>NaN</td>\n",
       "    </tr>\n",
       "    <tr>\n",
       "      <th>2248108</th>\n",
       "      <td>INFO</td>\n",
       "      <td>2024-11-19T23:00:03.2865924Z</td>\n",
       "      <td>2151322</td>\n",
       "      <td>Microsoft.AspNetCore.Hosting.Diagnostics</td>\n",
       "      <td>Request finished HTTP/1.1 GET http://api.owds....</td>\n",
       "      <td>{'SpanId': 'c5f709aa31ba03d3', 'ParentId': '00...</td>\n",
       "      <td>{'Name': 'Ofcas.Datasafe.WebApi', 'Version': '...</td>\n",
       "      <td>{'ElapsedMilliseconds': 5.0362, 'StatusCode': ...</td>\n",
       "      <td>{'Id': 2, 'Name': None}</td>\n",
       "      <td>NaN</td>\n",
       "    </tr>\n",
       "  </tbody>\n",
       "</table>\n",
       "<p>2248109 rows × 10 columns</p>\n",
       "</div>"
      ],
      "text/plain": [
       "        Level                     Timestamp      PID  \\\n",
       "0        INFO  2024-11-29T23:00:22.7045112Z      668   \n",
       "1        INFO  2024-11-29T23:00:22.7065968Z      668   \n",
       "2        INFO  2024-11-29T23:00:22.7104302Z      668   \n",
       "3        INFO  2024-11-29T23:00:22.7112929Z      668   \n",
       "4        INFO  2024-11-29T23:00:22.7124052Z      668   \n",
       "...       ...                           ...      ...   \n",
       "2248104  INFO  2024-11-19T23:00:03.2857262Z  2151322   \n",
       "2248105  INFO  2024-11-19T23:00:03.2859194Z  2151322   \n",
       "2248106  INFO  2024-11-19T23:00:03.2861440Z  2151322   \n",
       "2248107  INFO  2024-11-19T23:00:03.2863937Z  2151322   \n",
       "2248108  INFO  2024-11-19T23:00:03.2865924Z  2151322   \n",
       "\n",
       "                                                    Logger  \\\n",
       "0                 Microsoft.AspNetCore.Hosting.Diagnostics   \n",
       "1        Microsoft.AspNetCore.HttpLogging.HttpLoggingMi...   \n",
       "2          Microsoft.AspNetCore.Routing.EndpointMiddleware   \n",
       "3        Microsoft.AspNetCore.Mvc.Infrastructure.Contro...   \n",
       "4        Microsoft.AspNetCore.Mvc.Infrastructure.Contro...   \n",
       "...                                                    ...   \n",
       "2248104  Microsoft.AspNetCore.Mvc.Infrastructure.Contro...   \n",
       "2248105    Microsoft.AspNetCore.Routing.EndpointMiddleware   \n",
       "2248106  Microsoft.AspNetCore.HttpLogging.HttpLoggingMi...   \n",
       "2248107  Microsoft.AspNetCore.HttpLogging.HttpLoggingMi...   \n",
       "2248108           Microsoft.AspNetCore.Hosting.Diagnostics   \n",
       "\n",
       "                                                   Message  \\\n",
       "0        Request starting HTTP/1.1 GET http://api.owds....   \n",
       "1        Request:\\nProtocol: HTTP/1.1\\nMethod: GET\\nSch...   \n",
       "2        Executing endpoint 'Ofcas.Datasafe.WebApi.Cont...   \n",
       "3        Route matched with {action = \"GetApiVersionsV2...   \n",
       "4        Executing action method Ofcas.Datasafe.WebApi....   \n",
       "...                                                    ...   \n",
       "2248104  Executed action Ofcas.Datasafe.WebApi.Controll...   \n",
       "2248105  Executed endpoint 'Ofcas.Datasafe.WebApi.Contr...   \n",
       "2248106  ResponseBody: {\"assemblyVersion\":\"1.81.0+4ae2c...   \n",
       "2248107                                 Duration: 4.1801ms   \n",
       "2248108  Request finished HTTP/1.1 GET http://api.owds....   \n",
       "\n",
       "                                                     Scope  \\\n",
       "0        {'ParentId': '0000000000000000', 'ConnectionId...   \n",
       "1        {'ParentId': '0000000000000000', 'ConnectionId...   \n",
       "2        {'ParentId': '0000000000000000', 'ConnectionId...   \n",
       "3        {'ParentId': '0000000000000000', 'ConnectionId...   \n",
       "4        {'ParentId': '0000000000000000', 'ConnectionId...   \n",
       "...                                                    ...   \n",
       "2248104  {'SpanId': 'c5f709aa31ba03d3', 'ParentId': '00...   \n",
       "2248105  {'SpanId': 'c5f709aa31ba03d3', 'ParentId': '00...   \n",
       "2248106  {'SpanId': 'c5f709aa31ba03d3', 'ParentId': '00...   \n",
       "2248107  {'SpanId': 'c5f709aa31ba03d3', 'ParentId': '00...   \n",
       "2248108  {'SpanId': 'c5f709aa31ba03d3', 'ParentId': '00...   \n",
       "\n",
       "                                               Application  \\\n",
       "0        {'Name': 'Ofcas.Datasafe.WebApi', 'Version': '...   \n",
       "1        {'Name': 'Ofcas.Datasafe.WebApi', 'Version': '...   \n",
       "2        {'Name': 'Ofcas.Datasafe.WebApi', 'Version': '...   \n",
       "3        {'Name': 'Ofcas.Datasafe.WebApi', 'Version': '...   \n",
       "4        {'Name': 'Ofcas.Datasafe.WebApi', 'Version': '...   \n",
       "...                                                    ...   \n",
       "2248104  {'Name': 'Ofcas.Datasafe.WebApi', 'Version': '...   \n",
       "2248105  {'Name': 'Ofcas.Datasafe.WebApi', 'Version': '...   \n",
       "2248106  {'Name': 'Ofcas.Datasafe.WebApi', 'Version': '...   \n",
       "2248107  {'Name': 'Ofcas.Datasafe.WebApi', 'Version': '...   \n",
       "2248108  {'Name': 'Ofcas.Datasafe.WebApi', 'Version': '...   \n",
       "\n",
       "                                                     State  \\\n",
       "0        {'Protocol': 'HTTP/1.1', 'Method': 'GET', 'Con...   \n",
       "1        {'Protocol': 'HTTP/1.1', 'Method': 'GET', 'Sch...   \n",
       "2        {'EndpointName': 'Ofcas.Datasafe.WebApi.Contro...   \n",
       "3        {'RouteData': '{action = \"GetApiVersionsV2\", c...   \n",
       "4        {'ActionName': 'Ofcas.Datasafe.WebApi.Controll...   \n",
       "...                                                    ...   \n",
       "2248104  {'ActionName': 'Ofcas.Datasafe.WebApi.Controll...   \n",
       "2248105  {'EndpointName': 'Ofcas.Datasafe.WebApi.Contro...   \n",
       "2248106  {'Body': '{\"assemblyVersion\":\"1.81.0+4ae2cf530...   \n",
       "2248107  {'Duration': 4.1801, '{OriginalFormat}': 'Dura...   \n",
       "2248108  {'ElapsedMilliseconds': 5.0362, 'StatusCode': ...   \n",
       "\n",
       "                                                  EventId Exception  \n",
       "0                                 {'Id': 1, 'Name': None}       NaN  \n",
       "1                         {'Id': 1, 'Name': 'RequestLog'}       NaN  \n",
       "2                  {'Id': 0, 'Name': 'ExecutingEndpoint'}       NaN  \n",
       "3        {'Id': 102, 'Name': 'ControllerActionExecuting'}       NaN  \n",
       "4            {'Id': 101, 'Name': 'ActionMethodExecuting'}       NaN  \n",
       "...                                                   ...       ...  \n",
       "2248104             {'Id': 105, 'Name': 'ActionExecuted'}       NaN  \n",
       "2248105             {'Id': 1, 'Name': 'ExecutedEndpoint'}       NaN  \n",
       "2248106                 {'Id': 4, 'Name': 'ResponseBody'}       NaN  \n",
       "2248107                     {'Id': 8, 'Name': 'Duration'}       NaN  \n",
       "2248108                           {'Id': 2, 'Name': None}       NaN  \n",
       "\n",
       "[2248109 rows x 10 columns]"
      ]
     },
     "execution_count": 5,
     "metadata": {},
     "output_type": "execute_result"
    }
   ],
   "source": [
    "df1"
   ]
  },
  {
   "cell_type": "code",
   "execution_count": 6,
   "metadata": {},
   "outputs": [
    {
     "data": {
      "text/plain": [
       "<bound method NDFrame.describe of         Level                     Timestamp      PID  \\\n",
       "0        INFO  2024-11-29T23:00:22.7045112Z      668   \n",
       "1        INFO  2024-11-29T23:00:22.7065968Z      668   \n",
       "2        INFO  2024-11-29T23:00:22.7104302Z      668   \n",
       "3        INFO  2024-11-29T23:00:22.7112929Z      668   \n",
       "4        INFO  2024-11-29T23:00:22.7124052Z      668   \n",
       "...       ...                           ...      ...   \n",
       "2248104  INFO  2024-11-19T23:00:03.2857262Z  2151322   \n",
       "2248105  INFO  2024-11-19T23:00:03.2859194Z  2151322   \n",
       "2248106  INFO  2024-11-19T23:00:03.2861440Z  2151322   \n",
       "2248107  INFO  2024-11-19T23:00:03.2863937Z  2151322   \n",
       "2248108  INFO  2024-11-19T23:00:03.2865924Z  2151322   \n",
       "\n",
       "                                                    Logger  \\\n",
       "0                 Microsoft.AspNetCore.Hosting.Diagnostics   \n",
       "1        Microsoft.AspNetCore.HttpLogging.HttpLoggingMi...   \n",
       "2          Microsoft.AspNetCore.Routing.EndpointMiddleware   \n",
       "3        Microsoft.AspNetCore.Mvc.Infrastructure.Contro...   \n",
       "4        Microsoft.AspNetCore.Mvc.Infrastructure.Contro...   \n",
       "...                                                    ...   \n",
       "2248104  Microsoft.AspNetCore.Mvc.Infrastructure.Contro...   \n",
       "2248105    Microsoft.AspNetCore.Routing.EndpointMiddleware   \n",
       "2248106  Microsoft.AspNetCore.HttpLogging.HttpLoggingMi...   \n",
       "2248107  Microsoft.AspNetCore.HttpLogging.HttpLoggingMi...   \n",
       "2248108           Microsoft.AspNetCore.Hosting.Diagnostics   \n",
       "\n",
       "                                                   Message  \\\n",
       "0        Request starting HTTP/1.1 GET http://api.owds....   \n",
       "1        Request:\\nProtocol: HTTP/1.1\\nMethod: GET\\nSch...   \n",
       "2        Executing endpoint 'Ofcas.Datasafe.WebApi.Cont...   \n",
       "3        Route matched with {action = \"GetApiVersionsV2...   \n",
       "4        Executing action method Ofcas.Datasafe.WebApi....   \n",
       "...                                                    ...   \n",
       "2248104  Executed action Ofcas.Datasafe.WebApi.Controll...   \n",
       "2248105  Executed endpoint 'Ofcas.Datasafe.WebApi.Contr...   \n",
       "2248106  ResponseBody: {\"assemblyVersion\":\"1.81.0+4ae2c...   \n",
       "2248107                                 Duration: 4.1801ms   \n",
       "2248108  Request finished HTTP/1.1 GET http://api.owds....   \n",
       "\n",
       "                                                     Scope  \\\n",
       "0        {'ParentId': '0000000000000000', 'ConnectionId...   \n",
       "1        {'ParentId': '0000000000000000', 'ConnectionId...   \n",
       "2        {'ParentId': '0000000000000000', 'ConnectionId...   \n",
       "3        {'ParentId': '0000000000000000', 'ConnectionId...   \n",
       "4        {'ParentId': '0000000000000000', 'ConnectionId...   \n",
       "...                                                    ...   \n",
       "2248104  {'SpanId': 'c5f709aa31ba03d3', 'ParentId': '00...   \n",
       "2248105  {'SpanId': 'c5f709aa31ba03d3', 'ParentId': '00...   \n",
       "2248106  {'SpanId': 'c5f709aa31ba03d3', 'ParentId': '00...   \n",
       "2248107  {'SpanId': 'c5f709aa31ba03d3', 'ParentId': '00...   \n",
       "2248108  {'SpanId': 'c5f709aa31ba03d3', 'ParentId': '00...   \n",
       "\n",
       "                                               Application  \\\n",
       "0        {'Name': 'Ofcas.Datasafe.WebApi', 'Version': '...   \n",
       "1        {'Name': 'Ofcas.Datasafe.WebApi', 'Version': '...   \n",
       "2        {'Name': 'Ofcas.Datasafe.WebApi', 'Version': '...   \n",
       "3        {'Name': 'Ofcas.Datasafe.WebApi', 'Version': '...   \n",
       "4        {'Name': 'Ofcas.Datasafe.WebApi', 'Version': '...   \n",
       "...                                                    ...   \n",
       "2248104  {'Name': 'Ofcas.Datasafe.WebApi', 'Version': '...   \n",
       "2248105  {'Name': 'Ofcas.Datasafe.WebApi', 'Version': '...   \n",
       "2248106  {'Name': 'Ofcas.Datasafe.WebApi', 'Version': '...   \n",
       "2248107  {'Name': 'Ofcas.Datasafe.WebApi', 'Version': '...   \n",
       "2248108  {'Name': 'Ofcas.Datasafe.WebApi', 'Version': '...   \n",
       "\n",
       "                                                     State  \\\n",
       "0        {'Protocol': 'HTTP/1.1', 'Method': 'GET', 'Con...   \n",
       "1        {'Protocol': 'HTTP/1.1', 'Method': 'GET', 'Sch...   \n",
       "2        {'EndpointName': 'Ofcas.Datasafe.WebApi.Contro...   \n",
       "3        {'RouteData': '{action = \"GetApiVersionsV2\", c...   \n",
       "4        {'ActionName': 'Ofcas.Datasafe.WebApi.Controll...   \n",
       "...                                                    ...   \n",
       "2248104  {'ActionName': 'Ofcas.Datasafe.WebApi.Controll...   \n",
       "2248105  {'EndpointName': 'Ofcas.Datasafe.WebApi.Contro...   \n",
       "2248106  {'Body': '{\"assemblyVersion\":\"1.81.0+4ae2cf530...   \n",
       "2248107  {'Duration': 4.1801, '{OriginalFormat}': 'Dura...   \n",
       "2248108  {'ElapsedMilliseconds': 5.0362, 'StatusCode': ...   \n",
       "\n",
       "                                                  EventId Exception  \n",
       "0                                 {'Id': 1, 'Name': None}       NaN  \n",
       "1                         {'Id': 1, 'Name': 'RequestLog'}       NaN  \n",
       "2                  {'Id': 0, 'Name': 'ExecutingEndpoint'}       NaN  \n",
       "3        {'Id': 102, 'Name': 'ControllerActionExecuting'}       NaN  \n",
       "4            {'Id': 101, 'Name': 'ActionMethodExecuting'}       NaN  \n",
       "...                                                   ...       ...  \n",
       "2248104             {'Id': 105, 'Name': 'ActionExecuted'}       NaN  \n",
       "2248105             {'Id': 1, 'Name': 'ExecutedEndpoint'}       NaN  \n",
       "2248106                 {'Id': 4, 'Name': 'ResponseBody'}       NaN  \n",
       "2248107                     {'Id': 8, 'Name': 'Duration'}       NaN  \n",
       "2248108                           {'Id': 2, 'Name': None}       NaN  \n",
       "\n",
       "[2248109 rows x 10 columns]>"
      ]
     },
     "execution_count": 6,
     "metadata": {},
     "output_type": "execute_result"
    }
   ],
   "source": [
    "df1."
   ]
  },
  {
   "cell_type": "code",
   "execution_count": 2,
   "metadata": {},
   "outputs": [
    {
     "data": {
      "text/html": [
       "<div>\n",
       "<style scoped>\n",
       "    .dataframe tbody tr th:only-of-type {\n",
       "        vertical-align: middle;\n",
       "    }\n",
       "\n",
       "    .dataframe tbody tr th {\n",
       "        vertical-align: top;\n",
       "    }\n",
       "\n",
       "    .dataframe thead th {\n",
       "        text-align: right;\n",
       "    }\n",
       "</style>\n",
       "<table border=\"1\" class=\"dataframe\">\n",
       "  <thead>\n",
       "    <tr style=\"text-align: right;\">\n",
       "      <th></th>\n",
       "      <th>Timestamp</th>\n",
       "      <th>Trace-id</th>\n",
       "      <th>HTTP Status Code</th>\n",
       "      <th>Path</th>\n",
       "      <th>User Agent</th>\n",
       "    </tr>\n",
       "  </thead>\n",
       "  <tbody>\n",
       "    <tr>\n",
       "      <th>0</th>\n",
       "      <td>2024-11-29T23:00:22.7045112Z</td>\n",
       "      <td>3dff50eaf246e6cc55173db4092d5187</td>\n",
       "      <td>NaN</td>\n",
       "      <td>NaN</td>\n",
       "      <td>NaN</td>\n",
       "    </tr>\n",
       "    <tr>\n",
       "      <th>1</th>\n",
       "      <td>2024-11-29T23:00:22.7065968Z</td>\n",
       "      <td>3dff50eaf246e6cc55173db4092d5187</td>\n",
       "      <td>NaN</td>\n",
       "      <td>/api/v2/versions</td>\n",
       "      <td>check_http/v2.4.0 (monitoring-plugins 2.4.0)</td>\n",
       "    </tr>\n",
       "    <tr>\n",
       "      <th>2</th>\n",
       "      <td>2024-11-29T23:00:22.7104302Z</td>\n",
       "      <td>3dff50eaf246e6cc55173db4092d5187</td>\n",
       "      <td>NaN</td>\n",
       "      <td>NaN</td>\n",
       "      <td>NaN</td>\n",
       "    </tr>\n",
       "    <tr>\n",
       "      <th>3</th>\n",
       "      <td>2024-11-29T23:00:22.7112929Z</td>\n",
       "      <td>3dff50eaf246e6cc55173db4092d5187</td>\n",
       "      <td>NaN</td>\n",
       "      <td>NaN</td>\n",
       "      <td>NaN</td>\n",
       "    </tr>\n",
       "    <tr>\n",
       "      <th>4</th>\n",
       "      <td>2024-11-29T23:00:22.7124052Z</td>\n",
       "      <td>3dff50eaf246e6cc55173db4092d5187</td>\n",
       "      <td>NaN</td>\n",
       "      <td>NaN</td>\n",
       "      <td>NaN</td>\n",
       "    </tr>\n",
       "    <tr>\n",
       "      <th>...</th>\n",
       "      <td>...</td>\n",
       "      <td>...</td>\n",
       "      <td>...</td>\n",
       "      <td>...</td>\n",
       "      <td>...</td>\n",
       "    </tr>\n",
       "    <tr>\n",
       "      <th>2144399</th>\n",
       "      <td>2024-11-19T23:00:03.2857262Z</td>\n",
       "      <td>e633e492116f3febe619bfed47449e89</td>\n",
       "      <td>NaN</td>\n",
       "      <td>NaN</td>\n",
       "      <td>NaN</td>\n",
       "    </tr>\n",
       "    <tr>\n",
       "      <th>2144400</th>\n",
       "      <td>2024-11-19T23:00:03.2859194Z</td>\n",
       "      <td>e633e492116f3febe619bfed47449e89</td>\n",
       "      <td>NaN</td>\n",
       "      <td>NaN</td>\n",
       "      <td>NaN</td>\n",
       "    </tr>\n",
       "    <tr>\n",
       "      <th>2144401</th>\n",
       "      <td>2024-11-19T23:00:03.2861440Z</td>\n",
       "      <td>e633e492116f3febe619bfed47449e89</td>\n",
       "      <td>NaN</td>\n",
       "      <td>NaN</td>\n",
       "      <td>NaN</td>\n",
       "    </tr>\n",
       "    <tr>\n",
       "      <th>2144402</th>\n",
       "      <td>2024-11-19T23:00:03.2863937Z</td>\n",
       "      <td>e633e492116f3febe619bfed47449e89</td>\n",
       "      <td>NaN</td>\n",
       "      <td>NaN</td>\n",
       "      <td>NaN</td>\n",
       "    </tr>\n",
       "    <tr>\n",
       "      <th>2144403</th>\n",
       "      <td>2024-11-19T23:00:03.2865924Z</td>\n",
       "      <td>e633e492116f3febe619bfed47449e89</td>\n",
       "      <td>200.0</td>\n",
       "      <td>/api/v2/versions</td>\n",
       "      <td>NaN</td>\n",
       "    </tr>\n",
       "  </tbody>\n",
       "</table>\n",
       "<p>2144404 rows × 5 columns</p>\n",
       "</div>"
      ],
      "text/plain": [
       "                            Timestamp                          Trace-id  \\\n",
       "0        2024-11-29T23:00:22.7045112Z  3dff50eaf246e6cc55173db4092d5187   \n",
       "1        2024-11-29T23:00:22.7065968Z  3dff50eaf246e6cc55173db4092d5187   \n",
       "2        2024-11-29T23:00:22.7104302Z  3dff50eaf246e6cc55173db4092d5187   \n",
       "3        2024-11-29T23:00:22.7112929Z  3dff50eaf246e6cc55173db4092d5187   \n",
       "4        2024-11-29T23:00:22.7124052Z  3dff50eaf246e6cc55173db4092d5187   \n",
       "...                               ...                               ...   \n",
       "2144399  2024-11-19T23:00:03.2857262Z  e633e492116f3febe619bfed47449e89   \n",
       "2144400  2024-11-19T23:00:03.2859194Z  e633e492116f3febe619bfed47449e89   \n",
       "2144401  2024-11-19T23:00:03.2861440Z  e633e492116f3febe619bfed47449e89   \n",
       "2144402  2024-11-19T23:00:03.2863937Z  e633e492116f3febe619bfed47449e89   \n",
       "2144403  2024-11-19T23:00:03.2865924Z  e633e492116f3febe619bfed47449e89   \n",
       "\n",
       "         HTTP Status Code              Path  \\\n",
       "0                     NaN               NaN   \n",
       "1                     NaN  /api/v2/versions   \n",
       "2                     NaN               NaN   \n",
       "3                     NaN               NaN   \n",
       "4                     NaN               NaN   \n",
       "...                   ...               ...   \n",
       "2144399               NaN               NaN   \n",
       "2144400               NaN               NaN   \n",
       "2144401               NaN               NaN   \n",
       "2144402               NaN               NaN   \n",
       "2144403             200.0  /api/v2/versions   \n",
       "\n",
       "                                           User Agent  \n",
       "0                                                 NaN  \n",
       "1        check_http/v2.4.0 (monitoring-plugins 2.4.0)  \n",
       "2                                                 NaN  \n",
       "3                                                 NaN  \n",
       "4                                                 NaN  \n",
       "...                                               ...  \n",
       "2144399                                           NaN  \n",
       "2144400                                           NaN  \n",
       "2144401                                           NaN  \n",
       "2144402                                           NaN  \n",
       "2144403                                           NaN  \n",
       "\n",
       "[2144404 rows x 5 columns]"
      ]
     },
     "execution_count": 2,
     "metadata": {},
     "output_type": "execute_result"
    }
   ],
   "source": [
    "import pandas as pd\n",
    "import json\n",
    "\n",
    "df = pd.read_csv(\"/Users/vatsal/Desktop/SimplyTag/selected_data.csv\", low_memory=False)\n",
    "df\n",
    "\n",
    "\n"
   ]
  },
  {
   "cell_type": "code",
   "execution_count": 8,
   "metadata": {},
   "outputs": [
    {
     "data": {
      "text/plain": [
       "4d4c47fbf08a2b0c6dd09009fe87f137    1874\n",
       "387d909cf1a176e6f5c8566792773edf    1866\n",
       "3d05d9d8e6eb2be31913206b4adb51de    1858\n",
       "722da7314ccd8efe7e118b106d4e7d89    1858\n",
       "fd0f303e91e08269d88ddde3b30a0052      55\n",
       "                                    ... \n",
       "4232664eb18f603f182f70641c264f52       1\n",
       "54afee11d133f3592a8ca357b9b54ae7       1\n",
       "7a4dd78e52ade0260efdcf172f19bf74       1\n",
       "8d7589b59d5cdd0789fb979e42d7307d       1\n",
       "0ff3794b70b8d466e193678113edabd6       1\n",
       "Name: Trace-id, Length: 216823, dtype: int64"
      ]
     },
     "execution_count": 8,
     "metadata": {},
     "output_type": "execute_result"
    }
   ],
   "source": [
    "import pandas as pd\n",
    "import json\n",
    "\n",
    "df = pd.read_csv(\"/Users/vatsal/Desktop/SimplyTag/selected_data.csv\", low_memory=False)\n",
    "df\n",
    "\n",
    "df['Trace-id'].value_counts()"
   ]
  },
  {
   "cell_type": "code",
   "execution_count": 24,
   "metadata": {},
   "outputs": [
    {
     "ename": "ValueError",
     "evalue": "Length mismatch: Expected axis has 9 elements, new values have 5 elements",
     "output_type": "error",
     "traceback": [
      "\u001b[0;31m---------------------------------------------------------------------------\u001b[0m",
      "\u001b[0;31mValueError\u001b[0m                                Traceback (most recent call last)",
      "\u001b[0;32m<ipython-input-24-3c12886d41b2>\u001b[0m in \u001b[0;36m<module>\u001b[0;34m\u001b[0m\n\u001b[1;32m      8\u001b[0m     \u001b[0;31m# Attempt to split the single column into multiple columns\u001b[0m\u001b[0;34m\u001b[0m\u001b[0;34m\u001b[0m\u001b[0;34m\u001b[0m\u001b[0m\n\u001b[1;32m      9\u001b[0m     \u001b[0mdf\u001b[0m \u001b[0;34m=\u001b[0m \u001b[0mdf\u001b[0m\u001b[0;34m.\u001b[0m\u001b[0miloc\u001b[0m\u001b[0;34m[\u001b[0m\u001b[0;34m:\u001b[0m\u001b[0;34m,\u001b[0m \u001b[0;36m0\u001b[0m\u001b[0;34m]\u001b[0m\u001b[0;34m.\u001b[0m\u001b[0mstr\u001b[0m\u001b[0;34m.\u001b[0m\u001b[0msplit\u001b[0m\u001b[0;34m(\u001b[0m\u001b[0;34m','\u001b[0m\u001b[0;34m,\u001b[0m \u001b[0mexpand\u001b[0m\u001b[0;34m=\u001b[0m\u001b[0;32mTrue\u001b[0m\u001b[0;34m)\u001b[0m\u001b[0;34m\u001b[0m\u001b[0;34m\u001b[0m\u001b[0m\n\u001b[0;32m---> 10\u001b[0;31m     \u001b[0mdf\u001b[0m\u001b[0;34m.\u001b[0m\u001b[0mcolumns\u001b[0m \u001b[0;34m=\u001b[0m \u001b[0;34m[\u001b[0m\u001b[0;34m'Timestamp'\u001b[0m\u001b[0;34m,\u001b[0m \u001b[0;34m'Trace-id'\u001b[0m\u001b[0;34m,\u001b[0m \u001b[0;34m'HTTP Status Code'\u001b[0m\u001b[0;34m,\u001b[0m \u001b[0;34m'Path'\u001b[0m\u001b[0;34m,\u001b[0m \u001b[0;34m'User Agent'\u001b[0m\u001b[0;34m]\u001b[0m\u001b[0;34m\u001b[0m\u001b[0;34m\u001b[0m\u001b[0m\n\u001b[0m\u001b[1;32m     11\u001b[0m \u001b[0;34m\u001b[0m\u001b[0m\n\u001b[1;32m     12\u001b[0m \u001b[0;31m# Verify the expected columns\u001b[0m\u001b[0;34m\u001b[0m\u001b[0;34m\u001b[0m\u001b[0;34m\u001b[0m\u001b[0m\n",
      "\u001b[0;32m~/opt/anaconda3/lib/python3.8/site-packages/pandas/core/generic.py\u001b[0m in \u001b[0;36m__setattr__\u001b[0;34m(self, name, value)\u001b[0m\n\u001b[1;32m   5476\u001b[0m         \u001b[0;32mtry\u001b[0m\u001b[0;34m:\u001b[0m\u001b[0;34m\u001b[0m\u001b[0;34m\u001b[0m\u001b[0m\n\u001b[1;32m   5477\u001b[0m             \u001b[0mobject\u001b[0m\u001b[0;34m.\u001b[0m\u001b[0m__getattribute__\u001b[0m\u001b[0;34m(\u001b[0m\u001b[0mself\u001b[0m\u001b[0;34m,\u001b[0m \u001b[0mname\u001b[0m\u001b[0;34m)\u001b[0m\u001b[0;34m\u001b[0m\u001b[0;34m\u001b[0m\u001b[0m\n\u001b[0;32m-> 5478\u001b[0;31m             \u001b[0;32mreturn\u001b[0m \u001b[0mobject\u001b[0m\u001b[0;34m.\u001b[0m\u001b[0m__setattr__\u001b[0m\u001b[0;34m(\u001b[0m\u001b[0mself\u001b[0m\u001b[0;34m,\u001b[0m \u001b[0mname\u001b[0m\u001b[0;34m,\u001b[0m \u001b[0mvalue\u001b[0m\u001b[0;34m)\u001b[0m\u001b[0;34m\u001b[0m\u001b[0;34m\u001b[0m\u001b[0m\n\u001b[0m\u001b[1;32m   5479\u001b[0m         \u001b[0;32mexcept\u001b[0m \u001b[0mAttributeError\u001b[0m\u001b[0;34m:\u001b[0m\u001b[0;34m\u001b[0m\u001b[0;34m\u001b[0m\u001b[0m\n\u001b[1;32m   5480\u001b[0m             \u001b[0;32mpass\u001b[0m\u001b[0;34m\u001b[0m\u001b[0;34m\u001b[0m\u001b[0m\n",
      "\u001b[0;32mpandas/_libs/properties.pyx\u001b[0m in \u001b[0;36mpandas._libs.properties.AxisProperty.__set__\u001b[0;34m()\u001b[0m\n",
      "\u001b[0;32m~/opt/anaconda3/lib/python3.8/site-packages/pandas/core/generic.py\u001b[0m in \u001b[0;36m_set_axis\u001b[0;34m(self, axis, labels)\u001b[0m\n\u001b[1;32m    668\u001b[0m     \u001b[0;32mdef\u001b[0m \u001b[0m_set_axis\u001b[0m\u001b[0;34m(\u001b[0m\u001b[0mself\u001b[0m\u001b[0;34m,\u001b[0m \u001b[0maxis\u001b[0m\u001b[0;34m:\u001b[0m \u001b[0mint\u001b[0m\u001b[0;34m,\u001b[0m \u001b[0mlabels\u001b[0m\u001b[0;34m:\u001b[0m \u001b[0mIndex\u001b[0m\u001b[0;34m)\u001b[0m \u001b[0;34m->\u001b[0m \u001b[0;32mNone\u001b[0m\u001b[0;34m:\u001b[0m\u001b[0;34m\u001b[0m\u001b[0;34m\u001b[0m\u001b[0m\n\u001b[1;32m    669\u001b[0m         \u001b[0mlabels\u001b[0m \u001b[0;34m=\u001b[0m \u001b[0mensure_index\u001b[0m\u001b[0;34m(\u001b[0m\u001b[0mlabels\u001b[0m\u001b[0;34m)\u001b[0m\u001b[0;34m\u001b[0m\u001b[0;34m\u001b[0m\u001b[0m\n\u001b[0;32m--> 670\u001b[0;31m         \u001b[0mself\u001b[0m\u001b[0;34m.\u001b[0m\u001b[0m_mgr\u001b[0m\u001b[0;34m.\u001b[0m\u001b[0mset_axis\u001b[0m\u001b[0;34m(\u001b[0m\u001b[0maxis\u001b[0m\u001b[0;34m,\u001b[0m \u001b[0mlabels\u001b[0m\u001b[0;34m)\u001b[0m\u001b[0;34m\u001b[0m\u001b[0;34m\u001b[0m\u001b[0m\n\u001b[0m\u001b[1;32m    671\u001b[0m         \u001b[0mself\u001b[0m\u001b[0;34m.\u001b[0m\u001b[0m_clear_item_cache\u001b[0m\u001b[0;34m(\u001b[0m\u001b[0;34m)\u001b[0m\u001b[0;34m\u001b[0m\u001b[0;34m\u001b[0m\u001b[0m\n\u001b[1;32m    672\u001b[0m \u001b[0;34m\u001b[0m\u001b[0m\n",
      "\u001b[0;32m~/opt/anaconda3/lib/python3.8/site-packages/pandas/core/internals/managers.py\u001b[0m in \u001b[0;36mset_axis\u001b[0;34m(self, axis, new_labels)\u001b[0m\n\u001b[1;32m    218\u001b[0m \u001b[0;34m\u001b[0m\u001b[0m\n\u001b[1;32m    219\u001b[0m         \u001b[0;32mif\u001b[0m \u001b[0mnew_len\u001b[0m \u001b[0;34m!=\u001b[0m \u001b[0mold_len\u001b[0m\u001b[0;34m:\u001b[0m\u001b[0;34m\u001b[0m\u001b[0;34m\u001b[0m\u001b[0m\n\u001b[0;32m--> 220\u001b[0;31m             raise ValueError(\n\u001b[0m\u001b[1;32m    221\u001b[0m                 \u001b[0;34mf\"Length mismatch: Expected axis has {old_len} elements, new \"\u001b[0m\u001b[0;34m\u001b[0m\u001b[0;34m\u001b[0m\u001b[0m\n\u001b[1;32m    222\u001b[0m                 \u001b[0;34mf\"values have {new_len} elements\"\u001b[0m\u001b[0;34m\u001b[0m\u001b[0;34m\u001b[0m\u001b[0m\n",
      "\u001b[0;31mValueError\u001b[0m: Length mismatch: Expected axis has 9 elements, new values have 5 elements"
     ]
    }
   ],
   "source": [
    "import pandas as pd\n",
    "\n",
    "# Load your CSV file with the correct delimiter (update based on your file structure)\n",
    "df = pd.read_csv(\"/Users/vatsal/Desktop/SimplyTag/selected_data_new_working.csv\", delimiter=',', low_memory=False)\n",
    "\n",
    "# Check if column names are correct or if they need splitting\n",
    "if len(df.columns) == 1:\n",
    "    # Attempt to split the single column into multiple columns\n",
    "    df = df.iloc[:, 0].str.split(',', expand=True)\n",
    "    df.columns = ['Timestamp', 'Trace-id', 'HTTP Status Code', 'Path', 'User Agent']\n",
    "\n",
    "# Verify the expected columns\n",
    "expected_columns = ['Trace-id', 'Path', 'HTTP Status Code', 'User Agent']\n",
    "actual_columns = df.columns.tolist()\n",
    "print(f\"Expected columns: {expected_columns}\")\n",
    "print(f\"Actual columns: {actual_columns}\")\n",
    "\n",
    "# Check for missing columns\n",
    "missing_columns = [col for col in expected_columns if col not in actual_columns]\n",
    "if missing_columns:\n",
    "    raise KeyError(f\"Missing columns in the DataFrame: {missing_columns}\")\n",
    "\n",
    "# Fill missing values with an empty string and ensure all values are strings\n",
    "df['HTTP Status Code'] = df['HTTP Status Code'].fillna('').astype(str)\n",
    "df['Path'] = df['Path'].fillna('').astype(str)\n",
    "df['User Agent'] = df['User Agent'].fillna('').astype(str)\n",
    "\n",
    "# Group data by trace_id and aggregate the details into a single column for each field\n",
    "consolidated_data = (\n",
    "    df.groupby('Trace-id')\n",
    "    .agg({\n",
    "        'HTTP Status Code': lambda x: ' | '.join(filter(None, map(str, x.unique()))),  # Concatenate unique status codes\n",
    "        'Path': lambda x: ' | '.join(filter(None, x.unique())),  # Concatenate unique paths, ignoring empty strings\n",
    "        'User Agent': lambda x: ' | '.join(filter(None, x.unique())),  # Concatenate unique user agents\n",
    "    })\n",
    "    .reset_index()  # Reset index to convert trace_id back into a column\n",
    ")\n",
    "\n",
    "# Optionally save the consolidated data\n",
    "#output_csv_path = \"/Users/vatsal/Desktop/consolidated_trace_data.csv\"\n",
    "#consolidated_data.to_csv(output_csv_path, index=False)\n",
    "\n",
    "# Display consolidated data\n",
    "print(\"Consolidated Data:\")\n",
    "print(consolidated_data)\n"
   ]
  },
  {
   "cell_type": "code",
   "execution_count": 21,
   "metadata": {},
   "outputs": [
    {
     "data": {
      "text/plain": [
       "Index(['Timestamp,Trace-id,HTTP Status Code,Path,User Agent'], dtype='object')"
      ]
     },
     "execution_count": 21,
     "metadata": {},
     "output_type": "execute_result"
    }
   ],
   "source": [
    "import pandas as pd\n",
    "\n",
    "# Load your CSV file\n",
    "df = pd.read_csv(\"/Users/vatsal/Desktop/SimplyTag/selected_data_new_working.csv\", low_memory=False)\n",
    "df.columns"
   ]
  },
  {
   "cell_type": "code",
   "execution_count": 25,
   "metadata": {},
   "outputs": [
    {
     "name": "stdout",
     "output_type": "stream",
     "text": [
      "                  0                                 1 2             3  \\\n",
      "0  19/11/2024 00:00  c012824f5c58bedb5fcd9ac2bb08de69                   \n",
      "1  19/11/2024 00:00  c012824f5c58bedb5fcd9ac2bb08de69    /api/healthz   \n",
      "2  19/11/2024 00:00  c012824f5c58bedb5fcd9ac2bb08de69                   \n",
      "3  19/11/2024 00:00  60d518ec273ea0e4c19e010a213f446d                   \n",
      "4  19/11/2024 00:00  60d518ec273ea0e4c19e010a213f446d    /api/healthz   \n",
      "\n",
      "            4     5     6     7     8  \n",
      "0              None  None  None  None  \n",
      "1  curl/8.5.0  None  None  None  None  \n",
      "2              None  None  None  None  \n",
      "3              None  None  None  None  \n",
      "4  curl/8.5.0  None  None  None  None  \n",
      "RangeIndex(start=0, stop=9, step=1)\n"
     ]
    }
   ],
   "source": [
    "print(df.head())\n",
    "print(df.columns)"
   ]
  },
  {
   "cell_type": "code",
   "execution_count": 31,
   "metadata": {},
   "outputs": [
    {
     "name": "stdout",
     "output_type": "stream",
     "text": [
      "Columns in DataFrame: ['Timestamp', 'Trace-id', 'Path', 'HTTP Status Code', 'User Agent']\n",
      "Consolidated Data:\n",
      "                                Trace-id HTTP Status Code  \\\n",
      "0       00000e83229182560bc00dc08d8d0895            200.0   \n",
      "1       000031b3699810ed3428b70deeab940d                    \n",
      "2       0000ca9c0504724ec0352caf2d927e26            204.0   \n",
      "3       0000d58f79c6040f625be46853e6143f            200.0   \n",
      "4       00011f350751a533919d7355255a613e                    \n",
      "...                                  ...              ...   \n",
      "216818  fffe9ef24da4acd11a2f5e87f97f04fc            204.0   \n",
      "216819  fffed786d8ee69fe2938beef8fd3b1b4            200.0   \n",
      "216820  ffff28df259f547d33db66da7f1f2c64            200.0   \n",
      "216821  ffff50a11041f918cf83fe792636cecf            200.0   \n",
      "216822  ffffe50d783f77806744a1835896596a            200.0   \n",
      "\n",
      "                                                     Path  \\\n",
      "0       /api/v1/nodes/08dd0fba-4f8b-4103-8a95-aed37312...   \n",
      "1                                                           \n",
      "2       /api/v1/references/HTTPS:%2F%2FOWDS.ORG%2FAG.K...   \n",
      "3       /api/v1/references/d5731268-72f8-4350-8b42-d44...   \n",
      "4                                                           \n",
      "...                                                   ...   \n",
      "216818  /api/v1/references/HTTPS:%2F%2FOWDS.ORG%2FAA.L...   \n",
      "216819                                   /api/v2/versions   \n",
      "216820                                       /api/healthz   \n",
      "216821                                   /api/v2/versions   \n",
      "216822  /api/v1/projects/e28a4256-a101-4d28-b804-0bc09...   \n",
      "\n",
      "                                               User Agent  \n",
      "0       Mozilla/5.0 (Windows NT 10.0; Win64; x64) Appl...  \n",
      "1                                                          \n",
      "2       Mozilla/5.0 (Linux; Android 14; SM-P620 Build/...  \n",
      "3                                                          \n",
      "4                                                          \n",
      "...                                                   ...  \n",
      "216818  Mozilla/5.0 (Linux; Android 14; SM-A336B Build...  \n",
      "216819       check_http/v2.4.0 (monitoring-plugins 2.4.0)  \n",
      "216820                                         curl/8.5.0  \n",
      "216821       check_http/v2.4.0 (monitoring-plugins 2.4.0)  \n",
      "216822  Mozilla/5.0 (Windows NT 10.0; Win64; x64) Appl...  \n",
      "\n",
      "[216823 rows x 4 columns]\n"
     ]
    }
   ],
   "source": [
    "import pandas as pd\n",
    "\n",
    "# Load your CSV file with the correct delimiter\n",
    "df = pd.read_csv(\"/Users/vatsal/Desktop/SimplyTag/selected_data2.csv\", delimiter=',', low_memory=False)\n",
    "\n",
    "# Check if the file has extra columns due to unexpected delimiters\n",
    "if len(df.columns) == 1:\n",
    "    # Split into multiple columns based on the delimiter\n",
    "    df = df.iloc[:, 0].str.split(',', expand=True)\n",
    "\n",
    "    # Verify the resulting column count and assign names if possible\n",
    "    expected_columns = ['Timestamp', 'Trace-id', 'HTTP Status Code', 'Path', 'User Agent']\n",
    "    actual_columns_count = len(df.columns)\n",
    "    if actual_columns_count >= len(expected_columns):\n",
    "        df = df.iloc[:, :len(expected_columns)]  # Trim to the expected number of columns\n",
    "        df.columns = expected_columns\n",
    "    else:\n",
    "        raise ValueError(\n",
    "            f\"Unexpected number of columns after splitting: {actual_columns_count}. \"\n",
    "            f\"Expected at least {len(expected_columns)}.\"\n",
    "        )\n",
    "\n",
    "# Verify the column names again\n",
    "print(f\"Columns in DataFrame: {df.columns.tolist()}\")\n",
    "\n",
    "# Check for missing columns\n",
    "expected_columns = ['Trace-id', 'Path', 'HTTP Status Code', 'User Agent']\n",
    "missing_columns = [col for col in expected_columns if col not in df.columns]\n",
    "if missing_columns:\n",
    "    raise KeyError(f\"Missing columns in the DataFrame: {missing_columns}\")\n",
    "\n",
    "# Fill missing values and convert to string\n",
    "df['HTTP Status Code'] = df['HTTP Status Code'].fillna('').astype(str)\n",
    "df['Path'] = df['Path'].fillna('').astype(str)\n",
    "df['User Agent'] = df['User Agent'].fillna('').astype(str)\n",
    "\n",
    "# Group data by trace_id and aggregate\n",
    "consolidated_data = (\n",
    "    df.groupby('Trace-id')\n",
    "    .agg({\n",
    "        'HTTP Status Code': lambda x: ' | '.join(filter(None, map(str, x.unique()))),\n",
    "        'Path': lambda x: ' | '.join(filter(None, x.unique())),\n",
    "        'User Agent': lambda x: ' | '.join(filter(None, x.unique())),\n",
    "    })\n",
    "    .reset_index()\n",
    ")\n",
    "\n",
    "# Save or display the consolidated data\n",
    "output_csv_path = \"/Users/vatsal/Desktop/consolidated_trace_data.csv\"\n",
    "consolidated_data.to_csv(output_csv_path, index=False)\n",
    "\n",
    "print(\"Consolidated Data:\")\n",
    "print(consolidated_data)\n"
   ]
  },
  {
   "cell_type": "code",
   "execution_count": 33,
   "metadata": {},
   "outputs": [
    {
     "name": "stdout",
     "output_type": "stream",
     "text": [
      "Sample Entry from 'State':\n",
      " {'Protocol': 'HTTP/1.1', 'Method': 'GET', 'ContentType': None, 'ContentLength': None, 'Scheme': 'http', 'Host': 'api.owds.org', 'PathBase': '', 'Path': '/api/v2/versions', 'QueryString': '', '{OriginalFormat}': 'Request starting {Protocol} {Method} {Scheme}://{Host}{PathBase}{Path}{QueryString} - {ContentType} {ContentLength}'}\n",
      "Extracted Data:\n",
      "                       Timestamp                       All Trace-ids  \\\n",
      "0  2024-11-29T23:00:22.7045112Z  [3dff50eaf246e6cc55173db4092d5187]   \n",
      "1  2024-11-29T23:00:22.7065968Z  [3dff50eaf246e6cc55173db4092d5187]   \n",
      "2  2024-11-29T23:00:22.7104302Z  [3dff50eaf246e6cc55173db4092d5187]   \n",
      "3  2024-11-29T23:00:22.7112929Z  [3dff50eaf246e6cc55173db4092d5187]   \n",
      "4  2024-11-29T23:00:22.7124052Z  [3dff50eaf246e6cc55173db4092d5187]   \n",
      "\n",
      "   HTTP Status Code           All Paths  \\\n",
      "0               NaN                None   \n",
      "1               NaN  [/api/v2/versions]   \n",
      "2               NaN                None   \n",
      "3               NaN                None   \n",
      "4               NaN                  []   \n",
      "\n",
      "                                     User Agent  \n",
      "0                                          None  \n",
      "1  check_http/v2.4.0 (monitoring-plugins 2.4.0)  \n",
      "2                                          None  \n",
      "3                                          None  \n",
      "4                                          None  \n",
      "Selected data has been saved to /Users/vatsal/Desktop/SimplyTag/selected_data_with_all_trace_ids_and_paths.csv\n"
     ]
    }
   ],
   "source": [
    "import pandas as pd\n",
    "import json\n",
    "\n",
    "# Load the CSV file\n",
    "df = pd.read_csv(\"/Users/vatsal/Desktop/SimplyTag/merged_logs.csv\", low_memory=False)\n",
    "\n",
    "# Check a sample entry to understand the structure\n",
    "print(\"Sample Entry from 'State':\\n\", df['State'].iloc[0])\n",
    "\n",
    "# Function to safely parse JSON\n",
    "def parse_json_safe(json_str):\n",
    "    try:\n",
    "        # Replace single quotes with double quotes for valid JSON\n",
    "        return json.loads(json_str.replace(\"'\", '\"'))\n",
    "    except (json.JSONDecodeError, TypeError):\n",
    "        return None\n",
    "\n",
    "# Parse 'Scope' and 'State' columns\n",
    "df['Scope'] = df['Scope'].apply(lambda x: parse_json_safe(x) if isinstance(x, str) else None)\n",
    "df['State'] = df['State'].apply(lambda x: parse_json_safe(x) if isinstance(x, str) else None)\n",
    "\n",
    "# Function to extract all TraceIds from a JSON-like structure in 'Scope'\n",
    "def extract_all_trace_ids(scope):\n",
    "    if isinstance(scope, dict):\n",
    "        # Recursively look for all keys named 'TraceId'\n",
    "        trace_ids = []\n",
    "        def recursive_search(obj):\n",
    "            if isinstance(obj, dict):\n",
    "                for key, value in obj.items():\n",
    "                    if key == 'TraceId':\n",
    "                        trace_ids.append(value)\n",
    "                    elif isinstance(value, (dict, list)):\n",
    "                        recursive_search(value)\n",
    "            elif isinstance(obj, list):\n",
    "                for item in obj:\n",
    "                    recursive_search(item)\n",
    "        recursive_search(scope)\n",
    "        return trace_ids\n",
    "    return None\n",
    "\n",
    "# Function to extract all Paths from a JSON-like structure in 'State'\n",
    "def extract_all_paths(state):\n",
    "    if isinstance(state, dict):\n",
    "        # Recursively look for all keys named 'Path'\n",
    "        paths = []\n",
    "        def recursive_search(obj):\n",
    "            if isinstance(obj, dict):\n",
    "                for key, value in obj.items():\n",
    "                    if key == 'Path':\n",
    "                        paths.append(value)\n",
    "                    elif isinstance(value, (dict, list)):\n",
    "                        recursive_search(value)\n",
    "            elif isinstance(obj, list):\n",
    "                for item in obj:\n",
    "                    recursive_search(item)\n",
    "        recursive_search(state)\n",
    "        return paths\n",
    "    return None\n",
    "\n",
    "# Extract all Trace-ids and Paths\n",
    "df['All Trace-ids'] = df['Scope'].apply(extract_all_trace_ids)\n",
    "df['All Paths'] = df['State'].apply(extract_all_paths)\n",
    "\n",
    "# Create a new DataFrame for selected data\n",
    "df_selected = pd.DataFrame({\n",
    "    'Timestamp': df['Timestamp'],\n",
    "    'All Trace-ids': df['All Trace-ids'],\n",
    "    'HTTP Status Code': df['State'].apply(lambda x: x.get('StatusCode') if isinstance(x, dict) else None),\n",
    "    'All Paths': df['All Paths'],\n",
    "    'User Agent': df['State'].apply(lambda x: x.get('User-Agent') if isinstance(x, dict) else None)\n",
    "})\n",
    "\n",
    "# Inspect the extracted data\n",
    "print(\"Extracted Data:\\n\", df_selected.head())\n",
    "\n",
    "# Save the cleaned and selected data to a new CSV file\n",
    "output_csv_path = \"/Users/vatsal/Desktop/SimplyTag/selected_data_with_all_trace_ids_and_paths.csv\"\n",
    "df_selected.to_csv(output_csv_path, index=False)\n",
    "print(f\"Selected data has been saved to {output_csv_path}\")\n"
   ]
  },
  {
   "cell_type": "code",
   "execution_count": 34,
   "metadata": {},
   "outputs": [
    {
     "name": "stdout",
     "output_type": "stream",
     "text": [
      "Expanded data saved to: /Users/vatsal/Desktop/consolidated_trace_data_expanded.csv\n"
     ]
    }
   ],
   "source": [
    "import pandas as pd\n",
    "\n",
    "# Load the data from the CSV file\n",
    "file_path = '/Users/vatsal/Desktop/consolidated_trace_data.csv'\n",
    "data = pd.read_csv(file_path)\n",
    "\n",
    "# Function to expand rows with multiple values separated by '|'\n",
    "def expand_rows(df):\n",
    "    expanded_rows = []\n",
    "\n",
    "    for _, row in df.iterrows():\n",
    "        # Split the values in the columns with '|' and zip them together\n",
    "        status_codes = str(row['HTTP Status Code']).split('|') if pd.notna(row['HTTP Status Code']) else [None]\n",
    "        paths = str(row['Path']).split('|') if pd.notna(row['Path']) else [None]\n",
    "        user_agents = str(row['User Agent']).split('|') if pd.notna(row['User Agent']) else [None]\n",
    "\n",
    "        # Create combinations of each status code, path, and user agent\n",
    "        max_len = max(len(status_codes), len(paths), len(user_agents))\n",
    "        status_codes = (status_codes * max_len)[:max_len]\n",
    "        paths = (paths * max_len)[:max_len]\n",
    "        user_agents = (user_agents * max_len)[:max_len]\n",
    "\n",
    "        for sc, p, ua in zip(status_codes, paths, user_agents):\n",
    "            expanded_rows.append({\n",
    "                'Trace-id': row['Trace-id'],\n",
    "                'HTTP Status Code': sc.strip() if sc else None,\n",
    "                'Path': p.strip() if p else None,\n",
    "                'User Agent': ua.strip() if ua else None\n",
    "            })\n",
    "\n",
    "    return pd.DataFrame(expanded_rows)\n",
    "\n",
    "# Expand the rows\n",
    "data_expanded = expand_rows(data)\n",
    "\n",
    "# Save the expanded data to a new CSV file\n",
    "output_path = '/Users/vatsal/Desktop/consolidated_trace_data_expanded.csv'\n",
    "data_expanded.to_csv(output_path, index=False)\n",
    "\n",
    "print(f\"Expanded data saved to: {output_path}\")\n"
   ]
  },
  {
   "cell_type": "code",
   "execution_count": 41,
   "metadata": {},
   "outputs": [
    {
     "name": "stdout",
     "output_type": "stream",
     "text": [
      "Expanded data saved to: /Users/vatsal/Desktop/consolidated_trace_data_expanded2.csv\n"
     ]
    }
   ],
   "source": [
    "# Reloading the newly uploaded file for processing\n",
    "file_path = '/Users/vatsal/Desktop/StatusCode2.csv'\n",
    "data = pd.read_csv(file_path)\n",
    "\n",
    "# Function to split rows and create new rows based on \"|\" separator\n",
    "def expand_rows(df):\n",
    "    expanded_data = []\n",
    "    for _, row in df.iterrows():\n",
    "        trace_id = row['Trace-id']\n",
    "        status_codes = str(row['HTTP Status Code']).split('|') if pd.notna(row['HTTP Status Code']) else []\n",
    "        paths = str(row['Path']).split('|') if pd.notna(row['Path']) else []\n",
    "        user_agents = str(row['User Agent']).split('|') if pd.notna(row['User Agent']) else []\n",
    "\n",
    "        # Use the maximum length among the split elements\n",
    "        max_len = max(len(status_codes), len(paths), len(user_agents))\n",
    "        \n",
    "        for i in range(max_len):\n",
    "            expanded_data.append({\n",
    "                'Trace-id': trace_id,\n",
    "                'HTTP Status Code': status_codes[i] if i < len(status_codes) else None,\n",
    "                'Path': paths[i] if i < len(paths) else None,\n",
    "                'User Agent': user_agents[i] if i < len(user_agents) else None\n",
    "            })\n",
    "    \n",
    "    return pd.DataFrame(expanded_data)\n",
    "\n",
    "# Apply the function to the data\n",
    "expanded_data = expand_rows(data)\n",
    "\n",
    "# Display the first few rows of the expanded data\n",
    "expanded_data.head(10)\n",
    "\n",
    "# Save the expanded data to a new CSV file\n",
    "output_path = '/Users/vatsal/Desktop/consolidated_trace_data_expanded2.csv'\n",
    "expanded_data.to_csv(output_path, index=False)\n",
    "\n",
    "print(f\"Expanded data saved to: {output_path}\")"
   ]
  },
  {
   "cell_type": "code",
   "execution_count": null,
   "metadata": {},
   "outputs": [],
   "source": []
  },
  {
   "cell_type": "code",
   "execution_count": null,
   "metadata": {},
   "outputs": [],
   "source": []
  }
 ],
 "metadata": {
  "kernelspec": {
   "display_name": "Python 3",
   "language": "python",
   "name": "python3"
  },
  "language_info": {
   "codemirror_mode": {
    "name": "ipython",
    "version": 3
   },
   "file_extension": ".py",
   "mimetype": "text/x-python",
   "name": "python",
   "nbconvert_exporter": "python",
   "pygments_lexer": "ipython3",
   "version": "3.8.3"
  }
 },
 "nbformat": 4,
 "nbformat_minor": 4
}
